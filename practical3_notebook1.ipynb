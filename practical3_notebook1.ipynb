{
 "cells": [
  {
   "cell_type": "code",
   "execution_count": 192,
   "metadata": {
    "collapsed": true
   },
   "outputs": [],
   "source": [
    "import numpy as np\n",
    "import csv\n",
    "import pandas as pd"
   ]
  },
  {
   "cell_type": "code",
   "execution_count": 193,
   "metadata": {
    "collapsed": true
   },
   "outputs": [],
   "source": [
    "# Predict via the user-specific median.\n",
    "# If the user has no data, use the global median.\n",
    "\n",
    "train_file = 'train.csv'\n",
    "test_file  = 'test.csv'\n",
    "user_median_file  = 'user_median.csv'\n",
    "global_median_file = 'global_median.csv'\n",
    "profiles_file = 'profiles.csv'\n",
    "artists_file = 'artists.csv'"
   ]
  },
  {
   "cell_type": "code",
   "execution_count": 194,
   "metadata": {
    "collapsed": true
   },
   "outputs": [],
   "source": [
    "# Load the training data.\n",
    "train_data = {}\n",
    "with open(train_file, 'r') as train_fh:\n",
    "    train_csv = csv.reader(train_fh, delimiter=',', quotechar='\"')\n",
    "    next(train_csv, None)\n",
    "    for row in train_csv:\n",
    "        user   = row[0]\n",
    "        artist = row[1]\n",
    "        plays  = row[2]\n",
    "    \n",
    "        if not user in train_data:\n",
    "            train_data[user] = {}\n",
    "        \n",
    "        train_data[user][artist] = int(plays)"
   ]
  },
  {
   "cell_type": "code",
   "execution_count": 195,
   "metadata": {
    "collapsed": false
   },
   "outputs": [
    {
     "data": {
      "text/plain": [
       "dict"
      ]
     },
     "execution_count": 195,
     "metadata": {},
     "output_type": "execute_result"
    }
   ],
   "source": [
    "type(train_data)"
   ]
  },
  {
   "cell_type": "code",
   "execution_count": 197,
   "metadata": {
    "collapsed": false
   },
   "outputs": [],
   "source": [
    "bigtraindf = pd.DataFrame.from_dict(train_data)"
   ]
  },
  {
   "cell_type": "code",
   "execution_count": 198,
   "metadata": {
    "collapsed": false
   },
   "outputs": [
    {
     "data": {
      "text/html": [
       "<div>\n",
       "<table border=\"1\" class=\"dataframe\">\n",
       "  <thead>\n",
       "    <tr style=\"text-align: right;\">\n",
       "      <th></th>\n",
       "      <th>00000c289a1829a808ac09c00daf10bc3c4e223b</th>\n",
       "      <th>00001411dc427966b17297bf4d69e7e193135d89</th>\n",
       "      <th>000063d3fe1cf2ba248b9e3c3f0334845a27a6bf</th>\n",
       "      <th>00007a47085b9aab8af55f52ec8846ac479ac4fe</th>\n",
       "      <th>0000c176103e538d5c9828e695fed4f7ae42dd01</th>\n",
       "      <th>0000ee7dd906373efa37f4e1185bfe1e3f8695ae</th>\n",
       "      <th>0000ef373bbd0d89ce796abae961f2705e8c1faf</th>\n",
       "      <th>0001399387da41d557219578fb08b12afa25ab67</th>\n",
       "      <th>000163263d2a41a3966a3746855b8b75b7d7aa83</th>\n",
       "      <th>0001a88a7092846abb1b70dbcced05f914976371</th>\n",
       "      <th>...</th>\n",
       "      <th>fffcf52d27aa7ea75f99d4bff654fa08fcedc4b6</th>\n",
       "      <th>fffd3df081c03829a9ea4699e2d85e868d7a791b</th>\n",
       "      <th>fffe1f0fc9eb1432b98eb25b2c950850796a4a8b</th>\n",
       "      <th>fffe356b9dab2fae1f887fabb1f08ab4976c91bb</th>\n",
       "      <th>fffe3e8eb1b2db8dcb3f3fe753552d5803d085f1</th>\n",
       "      <th>fffe454af08a58c7bafe77491b586711f6b5e6f1</th>\n",
       "      <th>fffe7823f67b433b45f22056467db921c1d3d7d0</th>\n",
       "      <th>fffe8637bd8234309e871409c7ebef99a720afc1</th>\n",
       "      <th>fffe8c7f952d9b960a56ed4dcb40a415d924b224</th>\n",
       "      <th>ffff9ef87a7d9494ada2f9ade4b9ff637c0759ac</th>\n",
       "    </tr>\n",
       "  </thead>\n",
       "  <tbody>\n",
       "    <tr>\n",
       "      <th>000d90ec-d64c-48a1-b775-e726fd240e9f</th>\n",
       "      <td>NaN</td>\n",
       "      <td>NaN</td>\n",
       "      <td>NaN</td>\n",
       "      <td>NaN</td>\n",
       "      <td>NaN</td>\n",
       "      <td>NaN</td>\n",
       "      <td>NaN</td>\n",
       "      <td>NaN</td>\n",
       "      <td>NaN</td>\n",
       "      <td>NaN</td>\n",
       "      <td>...</td>\n",
       "      <td>NaN</td>\n",
       "      <td>NaN</td>\n",
       "      <td>NaN</td>\n",
       "      <td>NaN</td>\n",
       "      <td>NaN</td>\n",
       "      <td>NaN</td>\n",
       "      <td>NaN</td>\n",
       "      <td>NaN</td>\n",
       "      <td>NaN</td>\n",
       "      <td>NaN</td>\n",
       "    </tr>\n",
       "    <tr>\n",
       "      <th>000fc734-b7e1-4a01-92d1-f544261b43f5</th>\n",
       "      <td>NaN</td>\n",
       "      <td>NaN</td>\n",
       "      <td>NaN</td>\n",
       "      <td>NaN</td>\n",
       "      <td>NaN</td>\n",
       "      <td>NaN</td>\n",
       "      <td>NaN</td>\n",
       "      <td>NaN</td>\n",
       "      <td>NaN</td>\n",
       "      <td>NaN</td>\n",
       "      <td>...</td>\n",
       "      <td>NaN</td>\n",
       "      <td>NaN</td>\n",
       "      <td>NaN</td>\n",
       "      <td>NaN</td>\n",
       "      <td>NaN</td>\n",
       "      <td>NaN</td>\n",
       "      <td>NaN</td>\n",
       "      <td>NaN</td>\n",
       "      <td>NaN</td>\n",
       "      <td>NaN</td>\n",
       "    </tr>\n",
       "    <tr>\n",
       "      <th>0019749d-ee29-4a5f-ab17-6bfa11deb969</th>\n",
       "      <td>NaN</td>\n",
       "      <td>NaN</td>\n",
       "      <td>NaN</td>\n",
       "      <td>NaN</td>\n",
       "      <td>NaN</td>\n",
       "      <td>NaN</td>\n",
       "      <td>NaN</td>\n",
       "      <td>NaN</td>\n",
       "      <td>NaN</td>\n",
       "      <td>NaN</td>\n",
       "      <td>...</td>\n",
       "      <td>NaN</td>\n",
       "      <td>NaN</td>\n",
       "      <td>NaN</td>\n",
       "      <td>NaN</td>\n",
       "      <td>NaN</td>\n",
       "      <td>NaN</td>\n",
       "      <td>NaN</td>\n",
       "      <td>NaN</td>\n",
       "      <td>NaN</td>\n",
       "      <td>NaN</td>\n",
       "    </tr>\n",
       "    <tr>\n",
       "      <th>0039c7ae-e1a7-4a7d-9b49-0cbc716821a6</th>\n",
       "      <td>NaN</td>\n",
       "      <td>NaN</td>\n",
       "      <td>NaN</td>\n",
       "      <td>NaN</td>\n",
       "      <td>NaN</td>\n",
       "      <td>NaN</td>\n",
       "      <td>NaN</td>\n",
       "      <td>NaN</td>\n",
       "      <td>NaN</td>\n",
       "      <td>NaN</td>\n",
       "      <td>...</td>\n",
       "      <td>NaN</td>\n",
       "      <td>NaN</td>\n",
       "      <td>NaN</td>\n",
       "      <td>NaN</td>\n",
       "      <td>NaN</td>\n",
       "      <td>NaN</td>\n",
       "      <td>NaN</td>\n",
       "      <td>NaN</td>\n",
       "      <td>NaN</td>\n",
       "      <td>NaN</td>\n",
       "    </tr>\n",
       "    <tr>\n",
       "      <th>004e5eed-e267-46ea-b504-54526f1f377d</th>\n",
       "      <td>NaN</td>\n",
       "      <td>NaN</td>\n",
       "      <td>NaN</td>\n",
       "      <td>NaN</td>\n",
       "      <td>NaN</td>\n",
       "      <td>NaN</td>\n",
       "      <td>NaN</td>\n",
       "      <td>NaN</td>\n",
       "      <td>NaN</td>\n",
       "      <td>NaN</td>\n",
       "      <td>...</td>\n",
       "      <td>NaN</td>\n",
       "      <td>NaN</td>\n",
       "      <td>NaN</td>\n",
       "      <td>NaN</td>\n",
       "      <td>NaN</td>\n",
       "      <td>NaN</td>\n",
       "      <td>NaN</td>\n",
       "      <td>NaN</td>\n",
       "      <td>NaN</td>\n",
       "      <td>NaN</td>\n",
       "    </tr>\n",
       "  </tbody>\n",
       "</table>\n",
       "<p>5 rows × 233286 columns</p>\n",
       "</div>"
      ],
      "text/plain": [
       "                                      00000c289a1829a808ac09c00daf10bc3c4e223b  \\\n",
       "000d90ec-d64c-48a1-b775-e726fd240e9f                                       NaN   \n",
       "000fc734-b7e1-4a01-92d1-f544261b43f5                                       NaN   \n",
       "0019749d-ee29-4a5f-ab17-6bfa11deb969                                       NaN   \n",
       "0039c7ae-e1a7-4a7d-9b49-0cbc716821a6                                       NaN   \n",
       "004e5eed-e267-46ea-b504-54526f1f377d                                       NaN   \n",
       "\n",
       "                                      00001411dc427966b17297bf4d69e7e193135d89  \\\n",
       "000d90ec-d64c-48a1-b775-e726fd240e9f                                       NaN   \n",
       "000fc734-b7e1-4a01-92d1-f544261b43f5                                       NaN   \n",
       "0019749d-ee29-4a5f-ab17-6bfa11deb969                                       NaN   \n",
       "0039c7ae-e1a7-4a7d-9b49-0cbc716821a6                                       NaN   \n",
       "004e5eed-e267-46ea-b504-54526f1f377d                                       NaN   \n",
       "\n",
       "                                      000063d3fe1cf2ba248b9e3c3f0334845a27a6bf  \\\n",
       "000d90ec-d64c-48a1-b775-e726fd240e9f                                       NaN   \n",
       "000fc734-b7e1-4a01-92d1-f544261b43f5                                       NaN   \n",
       "0019749d-ee29-4a5f-ab17-6bfa11deb969                                       NaN   \n",
       "0039c7ae-e1a7-4a7d-9b49-0cbc716821a6                                       NaN   \n",
       "004e5eed-e267-46ea-b504-54526f1f377d                                       NaN   \n",
       "\n",
       "                                      00007a47085b9aab8af55f52ec8846ac479ac4fe  \\\n",
       "000d90ec-d64c-48a1-b775-e726fd240e9f                                       NaN   \n",
       "000fc734-b7e1-4a01-92d1-f544261b43f5                                       NaN   \n",
       "0019749d-ee29-4a5f-ab17-6bfa11deb969                                       NaN   \n",
       "0039c7ae-e1a7-4a7d-9b49-0cbc716821a6                                       NaN   \n",
       "004e5eed-e267-46ea-b504-54526f1f377d                                       NaN   \n",
       "\n",
       "                                      0000c176103e538d5c9828e695fed4f7ae42dd01  \\\n",
       "000d90ec-d64c-48a1-b775-e726fd240e9f                                       NaN   \n",
       "000fc734-b7e1-4a01-92d1-f544261b43f5                                       NaN   \n",
       "0019749d-ee29-4a5f-ab17-6bfa11deb969                                       NaN   \n",
       "0039c7ae-e1a7-4a7d-9b49-0cbc716821a6                                       NaN   \n",
       "004e5eed-e267-46ea-b504-54526f1f377d                                       NaN   \n",
       "\n",
       "                                      0000ee7dd906373efa37f4e1185bfe1e3f8695ae  \\\n",
       "000d90ec-d64c-48a1-b775-e726fd240e9f                                       NaN   \n",
       "000fc734-b7e1-4a01-92d1-f544261b43f5                                       NaN   \n",
       "0019749d-ee29-4a5f-ab17-6bfa11deb969                                       NaN   \n",
       "0039c7ae-e1a7-4a7d-9b49-0cbc716821a6                                       NaN   \n",
       "004e5eed-e267-46ea-b504-54526f1f377d                                       NaN   \n",
       "\n",
       "                                      0000ef373bbd0d89ce796abae961f2705e8c1faf  \\\n",
       "000d90ec-d64c-48a1-b775-e726fd240e9f                                       NaN   \n",
       "000fc734-b7e1-4a01-92d1-f544261b43f5                                       NaN   \n",
       "0019749d-ee29-4a5f-ab17-6bfa11deb969                                       NaN   \n",
       "0039c7ae-e1a7-4a7d-9b49-0cbc716821a6                                       NaN   \n",
       "004e5eed-e267-46ea-b504-54526f1f377d                                       NaN   \n",
       "\n",
       "                                      0001399387da41d557219578fb08b12afa25ab67  \\\n",
       "000d90ec-d64c-48a1-b775-e726fd240e9f                                       NaN   \n",
       "000fc734-b7e1-4a01-92d1-f544261b43f5                                       NaN   \n",
       "0019749d-ee29-4a5f-ab17-6bfa11deb969                                       NaN   \n",
       "0039c7ae-e1a7-4a7d-9b49-0cbc716821a6                                       NaN   \n",
       "004e5eed-e267-46ea-b504-54526f1f377d                                       NaN   \n",
       "\n",
       "                                      000163263d2a41a3966a3746855b8b75b7d7aa83  \\\n",
       "000d90ec-d64c-48a1-b775-e726fd240e9f                                       NaN   \n",
       "000fc734-b7e1-4a01-92d1-f544261b43f5                                       NaN   \n",
       "0019749d-ee29-4a5f-ab17-6bfa11deb969                                       NaN   \n",
       "0039c7ae-e1a7-4a7d-9b49-0cbc716821a6                                       NaN   \n",
       "004e5eed-e267-46ea-b504-54526f1f377d                                       NaN   \n",
       "\n",
       "                                      0001a88a7092846abb1b70dbcced05f914976371  \\\n",
       "000d90ec-d64c-48a1-b775-e726fd240e9f                                       NaN   \n",
       "000fc734-b7e1-4a01-92d1-f544261b43f5                                       NaN   \n",
       "0019749d-ee29-4a5f-ab17-6bfa11deb969                                       NaN   \n",
       "0039c7ae-e1a7-4a7d-9b49-0cbc716821a6                                       NaN   \n",
       "004e5eed-e267-46ea-b504-54526f1f377d                                       NaN   \n",
       "\n",
       "                                                        ...                     \\\n",
       "000d90ec-d64c-48a1-b775-e726fd240e9f                    ...                      \n",
       "000fc734-b7e1-4a01-92d1-f544261b43f5                    ...                      \n",
       "0019749d-ee29-4a5f-ab17-6bfa11deb969                    ...                      \n",
       "0039c7ae-e1a7-4a7d-9b49-0cbc716821a6                    ...                      \n",
       "004e5eed-e267-46ea-b504-54526f1f377d                    ...                      \n",
       "\n",
       "                                      fffcf52d27aa7ea75f99d4bff654fa08fcedc4b6  \\\n",
       "000d90ec-d64c-48a1-b775-e726fd240e9f                                       NaN   \n",
       "000fc734-b7e1-4a01-92d1-f544261b43f5                                       NaN   \n",
       "0019749d-ee29-4a5f-ab17-6bfa11deb969                                       NaN   \n",
       "0039c7ae-e1a7-4a7d-9b49-0cbc716821a6                                       NaN   \n",
       "004e5eed-e267-46ea-b504-54526f1f377d                                       NaN   \n",
       "\n",
       "                                      fffd3df081c03829a9ea4699e2d85e868d7a791b  \\\n",
       "000d90ec-d64c-48a1-b775-e726fd240e9f                                       NaN   \n",
       "000fc734-b7e1-4a01-92d1-f544261b43f5                                       NaN   \n",
       "0019749d-ee29-4a5f-ab17-6bfa11deb969                                       NaN   \n",
       "0039c7ae-e1a7-4a7d-9b49-0cbc716821a6                                       NaN   \n",
       "004e5eed-e267-46ea-b504-54526f1f377d                                       NaN   \n",
       "\n",
       "                                      fffe1f0fc9eb1432b98eb25b2c950850796a4a8b  \\\n",
       "000d90ec-d64c-48a1-b775-e726fd240e9f                                       NaN   \n",
       "000fc734-b7e1-4a01-92d1-f544261b43f5                                       NaN   \n",
       "0019749d-ee29-4a5f-ab17-6bfa11deb969                                       NaN   \n",
       "0039c7ae-e1a7-4a7d-9b49-0cbc716821a6                                       NaN   \n",
       "004e5eed-e267-46ea-b504-54526f1f377d                                       NaN   \n",
       "\n",
       "                                      fffe356b9dab2fae1f887fabb1f08ab4976c91bb  \\\n",
       "000d90ec-d64c-48a1-b775-e726fd240e9f                                       NaN   \n",
       "000fc734-b7e1-4a01-92d1-f544261b43f5                                       NaN   \n",
       "0019749d-ee29-4a5f-ab17-6bfa11deb969                                       NaN   \n",
       "0039c7ae-e1a7-4a7d-9b49-0cbc716821a6                                       NaN   \n",
       "004e5eed-e267-46ea-b504-54526f1f377d                                       NaN   \n",
       "\n",
       "                                      fffe3e8eb1b2db8dcb3f3fe753552d5803d085f1  \\\n",
       "000d90ec-d64c-48a1-b775-e726fd240e9f                                       NaN   \n",
       "000fc734-b7e1-4a01-92d1-f544261b43f5                                       NaN   \n",
       "0019749d-ee29-4a5f-ab17-6bfa11deb969                                       NaN   \n",
       "0039c7ae-e1a7-4a7d-9b49-0cbc716821a6                                       NaN   \n",
       "004e5eed-e267-46ea-b504-54526f1f377d                                       NaN   \n",
       "\n",
       "                                      fffe454af08a58c7bafe77491b586711f6b5e6f1  \\\n",
       "000d90ec-d64c-48a1-b775-e726fd240e9f                                       NaN   \n",
       "000fc734-b7e1-4a01-92d1-f544261b43f5                                       NaN   \n",
       "0019749d-ee29-4a5f-ab17-6bfa11deb969                                       NaN   \n",
       "0039c7ae-e1a7-4a7d-9b49-0cbc716821a6                                       NaN   \n",
       "004e5eed-e267-46ea-b504-54526f1f377d                                       NaN   \n",
       "\n",
       "                                      fffe7823f67b433b45f22056467db921c1d3d7d0  \\\n",
       "000d90ec-d64c-48a1-b775-e726fd240e9f                                       NaN   \n",
       "000fc734-b7e1-4a01-92d1-f544261b43f5                                       NaN   \n",
       "0019749d-ee29-4a5f-ab17-6bfa11deb969                                       NaN   \n",
       "0039c7ae-e1a7-4a7d-9b49-0cbc716821a6                                       NaN   \n",
       "004e5eed-e267-46ea-b504-54526f1f377d                                       NaN   \n",
       "\n",
       "                                      fffe8637bd8234309e871409c7ebef99a720afc1  \\\n",
       "000d90ec-d64c-48a1-b775-e726fd240e9f                                       NaN   \n",
       "000fc734-b7e1-4a01-92d1-f544261b43f5                                       NaN   \n",
       "0019749d-ee29-4a5f-ab17-6bfa11deb969                                       NaN   \n",
       "0039c7ae-e1a7-4a7d-9b49-0cbc716821a6                                       NaN   \n",
       "004e5eed-e267-46ea-b504-54526f1f377d                                       NaN   \n",
       "\n",
       "                                      fffe8c7f952d9b960a56ed4dcb40a415d924b224  \\\n",
       "000d90ec-d64c-48a1-b775-e726fd240e9f                                       NaN   \n",
       "000fc734-b7e1-4a01-92d1-f544261b43f5                                       NaN   \n",
       "0019749d-ee29-4a5f-ab17-6bfa11deb969                                       NaN   \n",
       "0039c7ae-e1a7-4a7d-9b49-0cbc716821a6                                       NaN   \n",
       "004e5eed-e267-46ea-b504-54526f1f377d                                       NaN   \n",
       "\n",
       "                                      ffff9ef87a7d9494ada2f9ade4b9ff637c0759ac  \n",
       "000d90ec-d64c-48a1-b775-e726fd240e9f                                       NaN  \n",
       "000fc734-b7e1-4a01-92d1-f544261b43f5                                       NaN  \n",
       "0019749d-ee29-4a5f-ab17-6bfa11deb969                                       NaN  \n",
       "0039c7ae-e1a7-4a7d-9b49-0cbc716821a6                                       NaN  \n",
       "004e5eed-e267-46ea-b504-54526f1f377d                                       NaN  \n",
       "\n",
       "[5 rows x 233286 columns]"
      ]
     },
     "execution_count": 198,
     "metadata": {},
     "output_type": "execute_result"
    }
   ],
   "source": [
    "bigtraindf.head()"
   ]
  },
  {
   "cell_type": "code",
   "execution_count": 7,
   "metadata": {
    "collapsed": false
   },
   "outputs": [
    {
     "data": {
      "text/plain": [
       "00001411dc427966b17297bf4d69e7e193135d89    30730\n",
       "dtype: float64"
      ]
     },
     "execution_count": 7,
     "metadata": {},
     "output_type": "execute_result"
    }
   ],
   "source": [
    "np.sum(bigtraindf.iloc[:, [1]])"
   ]
  },
  {
   "cell_type": "code",
   "execution_count": 199,
   "metadata": {
    "collapsed": false
   },
   "outputs": [
    {
     "data": {
      "text/plain": [
       "(2000, 233286)"
      ]
     },
     "execution_count": 199,
     "metadata": {},
     "output_type": "execute_result"
    }
   ],
   "source": [
    "bigtraindf.shape"
   ]
  },
  {
   "cell_type": "code",
   "execution_count": 216,
   "metadata": {
    "collapsed": true
   },
   "outputs": [],
   "source": [
    "train = bigtraindf.transpose()"
   ]
  },
  {
   "cell_type": "code",
   "execution_count": 217,
   "metadata": {
    "collapsed": true
   },
   "outputs": [],
   "source": [
    "train['user_median'] = train.median(axis=1)"
   ]
  },
  {
   "cell_type": "code",
   "execution_count": 218,
   "metadata": {
    "collapsed": false
   },
   "outputs": [
    {
     "data": {
      "text/html": [
       "<div>\n",
       "<table border=\"1\" class=\"dataframe\">\n",
       "  <thead>\n",
       "    <tr style=\"text-align: right;\">\n",
       "      <th></th>\n",
       "      <th>000d90ec-d64c-48a1-b775-e726fd240e9f</th>\n",
       "      <th>000fc734-b7e1-4a01-92d1-f544261b43f5</th>\n",
       "      <th>0019749d-ee29-4a5f-ab17-6bfa11deb969</th>\n",
       "      <th>0039c7ae-e1a7-4a7d-9b49-0cbc716821a6</th>\n",
       "      <th>004e5eed-e267-46ea-b504-54526f1f377d</th>\n",
       "      <th>00565b31-14a3-4913-bd22-385eb40dd13c</th>\n",
       "      <th>00a9f935-ba93-4fc8-a33a-993abe9c936b</th>\n",
       "      <th>00eeed6b-5897-4359-8347-b8cd28375331</th>\n",
       "      <th>0103c1cc-4a09-4a5d-a344-56ad99a77193</th>\n",
       "      <th>0110e63e-0a9b-4818-af8e-41e180c20b9a</th>\n",
       "      <th>...</th>\n",
       "      <th>ff7f80cd-05c2-4068-a00e-fbfbd453d049</th>\n",
       "      <th>ff865aa0-4603-4f79-ae8b-8735332e2cfa</th>\n",
       "      <th>ff95eb47-41c4-4f7f-a104-cdc30f02e872</th>\n",
       "      <th>ff9deaae-da4f-42b7-a19e-36fedd3fc706</th>\n",
       "      <th>ffb18e19-64a4-4a65-b4ce-979e00c3c69d</th>\n",
       "      <th>ffb2d3e3-a4cc-48cf-8fb0-f2f846e9d7b9</th>\n",
       "      <th>ffb390b8-8df4-4b72-97d1-7b2fc008a452</th>\n",
       "      <th>ffe16bba-4d84-409b-8f22-5242c60b930f</th>\n",
       "      <th>ffe9ec08-6b6b-4993-9394-e280b429dbfd</th>\n",
       "      <th>user_median</th>\n",
       "    </tr>\n",
       "  </thead>\n",
       "  <tbody>\n",
       "    <tr>\n",
       "      <th>00000c289a1829a808ac09c00daf10bc3c4e223b</th>\n",
       "      <td>NaN</td>\n",
       "      <td>NaN</td>\n",
       "      <td>NaN</td>\n",
       "      <td>NaN</td>\n",
       "      <td>NaN</td>\n",
       "      <td>NaN</td>\n",
       "      <td>NaN</td>\n",
       "      <td>NaN</td>\n",
       "      <td>NaN</td>\n",
       "      <td>NaN</td>\n",
       "      <td>...</td>\n",
       "      <td>NaN</td>\n",
       "      <td>NaN</td>\n",
       "      <td>NaN</td>\n",
       "      <td>NaN</td>\n",
       "      <td>NaN</td>\n",
       "      <td>NaN</td>\n",
       "      <td>NaN</td>\n",
       "      <td>NaN</td>\n",
       "      <td>NaN</td>\n",
       "      <td>226.5</td>\n",
       "    </tr>\n",
       "    <tr>\n",
       "      <th>00001411dc427966b17297bf4d69e7e193135d89</th>\n",
       "      <td>NaN</td>\n",
       "      <td>NaN</td>\n",
       "      <td>NaN</td>\n",
       "      <td>NaN</td>\n",
       "      <td>NaN</td>\n",
       "      <td>NaN</td>\n",
       "      <td>NaN</td>\n",
       "      <td>NaN</td>\n",
       "      <td>NaN</td>\n",
       "      <td>NaN</td>\n",
       "      <td>...</td>\n",
       "      <td>NaN</td>\n",
       "      <td>NaN</td>\n",
       "      <td>NaN</td>\n",
       "      <td>NaN</td>\n",
       "      <td>622</td>\n",
       "      <td>NaN</td>\n",
       "      <td>NaN</td>\n",
       "      <td>NaN</td>\n",
       "      <td>NaN</td>\n",
       "      <td>1102.5</td>\n",
       "    </tr>\n",
       "    <tr>\n",
       "      <th>000063d3fe1cf2ba248b9e3c3f0334845a27a6bf</th>\n",
       "      <td>NaN</td>\n",
       "      <td>NaN</td>\n",
       "      <td>NaN</td>\n",
       "      <td>NaN</td>\n",
       "      <td>NaN</td>\n",
       "      <td>NaN</td>\n",
       "      <td>NaN</td>\n",
       "      <td>NaN</td>\n",
       "      <td>NaN</td>\n",
       "      <td>NaN</td>\n",
       "      <td>...</td>\n",
       "      <td>NaN</td>\n",
       "      <td>NaN</td>\n",
       "      <td>NaN</td>\n",
       "      <td>NaN</td>\n",
       "      <td>NaN</td>\n",
       "      <td>NaN</td>\n",
       "      <td>NaN</td>\n",
       "      <td>NaN</td>\n",
       "      <td>NaN</td>\n",
       "      <td>4.0</td>\n",
       "    </tr>\n",
       "    <tr>\n",
       "      <th>00007a47085b9aab8af55f52ec8846ac479ac4fe</th>\n",
       "      <td>NaN</td>\n",
       "      <td>NaN</td>\n",
       "      <td>NaN</td>\n",
       "      <td>NaN</td>\n",
       "      <td>NaN</td>\n",
       "      <td>NaN</td>\n",
       "      <td>NaN</td>\n",
       "      <td>NaN</td>\n",
       "      <td>NaN</td>\n",
       "      <td>456</td>\n",
       "      <td>...</td>\n",
       "      <td>NaN</td>\n",
       "      <td>NaN</td>\n",
       "      <td>NaN</td>\n",
       "      <td>NaN</td>\n",
       "      <td>NaN</td>\n",
       "      <td>NaN</td>\n",
       "      <td>NaN</td>\n",
       "      <td>NaN</td>\n",
       "      <td>NaN</td>\n",
       "      <td>95.5</td>\n",
       "    </tr>\n",
       "    <tr>\n",
       "      <th>0000c176103e538d5c9828e695fed4f7ae42dd01</th>\n",
       "      <td>NaN</td>\n",
       "      <td>NaN</td>\n",
       "      <td>NaN</td>\n",
       "      <td>NaN</td>\n",
       "      <td>NaN</td>\n",
       "      <td>NaN</td>\n",
       "      <td>NaN</td>\n",
       "      <td>NaN</td>\n",
       "      <td>NaN</td>\n",
       "      <td>NaN</td>\n",
       "      <td>...</td>\n",
       "      <td>NaN</td>\n",
       "      <td>NaN</td>\n",
       "      <td>NaN</td>\n",
       "      <td>NaN</td>\n",
       "      <td>NaN</td>\n",
       "      <td>NaN</td>\n",
       "      <td>NaN</td>\n",
       "      <td>NaN</td>\n",
       "      <td>NaN</td>\n",
       "      <td>482.0</td>\n",
       "    </tr>\n",
       "  </tbody>\n",
       "</table>\n",
       "<p>5 rows × 2001 columns</p>\n",
       "</div>"
      ],
      "text/plain": [
       "                                          000d90ec-d64c-48a1-b775-e726fd240e9f  \\\n",
       "00000c289a1829a808ac09c00daf10bc3c4e223b                                   NaN   \n",
       "00001411dc427966b17297bf4d69e7e193135d89                                   NaN   \n",
       "000063d3fe1cf2ba248b9e3c3f0334845a27a6bf                                   NaN   \n",
       "00007a47085b9aab8af55f52ec8846ac479ac4fe                                   NaN   \n",
       "0000c176103e538d5c9828e695fed4f7ae42dd01                                   NaN   \n",
       "\n",
       "                                          000fc734-b7e1-4a01-92d1-f544261b43f5  \\\n",
       "00000c289a1829a808ac09c00daf10bc3c4e223b                                   NaN   \n",
       "00001411dc427966b17297bf4d69e7e193135d89                                   NaN   \n",
       "000063d3fe1cf2ba248b9e3c3f0334845a27a6bf                                   NaN   \n",
       "00007a47085b9aab8af55f52ec8846ac479ac4fe                                   NaN   \n",
       "0000c176103e538d5c9828e695fed4f7ae42dd01                                   NaN   \n",
       "\n",
       "                                          0019749d-ee29-4a5f-ab17-6bfa11deb969  \\\n",
       "00000c289a1829a808ac09c00daf10bc3c4e223b                                   NaN   \n",
       "00001411dc427966b17297bf4d69e7e193135d89                                   NaN   \n",
       "000063d3fe1cf2ba248b9e3c3f0334845a27a6bf                                   NaN   \n",
       "00007a47085b9aab8af55f52ec8846ac479ac4fe                                   NaN   \n",
       "0000c176103e538d5c9828e695fed4f7ae42dd01                                   NaN   \n",
       "\n",
       "                                          0039c7ae-e1a7-4a7d-9b49-0cbc716821a6  \\\n",
       "00000c289a1829a808ac09c00daf10bc3c4e223b                                   NaN   \n",
       "00001411dc427966b17297bf4d69e7e193135d89                                   NaN   \n",
       "000063d3fe1cf2ba248b9e3c3f0334845a27a6bf                                   NaN   \n",
       "00007a47085b9aab8af55f52ec8846ac479ac4fe                                   NaN   \n",
       "0000c176103e538d5c9828e695fed4f7ae42dd01                                   NaN   \n",
       "\n",
       "                                          004e5eed-e267-46ea-b504-54526f1f377d  \\\n",
       "00000c289a1829a808ac09c00daf10bc3c4e223b                                   NaN   \n",
       "00001411dc427966b17297bf4d69e7e193135d89                                   NaN   \n",
       "000063d3fe1cf2ba248b9e3c3f0334845a27a6bf                                   NaN   \n",
       "00007a47085b9aab8af55f52ec8846ac479ac4fe                                   NaN   \n",
       "0000c176103e538d5c9828e695fed4f7ae42dd01                                   NaN   \n",
       "\n",
       "                                          00565b31-14a3-4913-bd22-385eb40dd13c  \\\n",
       "00000c289a1829a808ac09c00daf10bc3c4e223b                                   NaN   \n",
       "00001411dc427966b17297bf4d69e7e193135d89                                   NaN   \n",
       "000063d3fe1cf2ba248b9e3c3f0334845a27a6bf                                   NaN   \n",
       "00007a47085b9aab8af55f52ec8846ac479ac4fe                                   NaN   \n",
       "0000c176103e538d5c9828e695fed4f7ae42dd01                                   NaN   \n",
       "\n",
       "                                          00a9f935-ba93-4fc8-a33a-993abe9c936b  \\\n",
       "00000c289a1829a808ac09c00daf10bc3c4e223b                                   NaN   \n",
       "00001411dc427966b17297bf4d69e7e193135d89                                   NaN   \n",
       "000063d3fe1cf2ba248b9e3c3f0334845a27a6bf                                   NaN   \n",
       "00007a47085b9aab8af55f52ec8846ac479ac4fe                                   NaN   \n",
       "0000c176103e538d5c9828e695fed4f7ae42dd01                                   NaN   \n",
       "\n",
       "                                          00eeed6b-5897-4359-8347-b8cd28375331  \\\n",
       "00000c289a1829a808ac09c00daf10bc3c4e223b                                   NaN   \n",
       "00001411dc427966b17297bf4d69e7e193135d89                                   NaN   \n",
       "000063d3fe1cf2ba248b9e3c3f0334845a27a6bf                                   NaN   \n",
       "00007a47085b9aab8af55f52ec8846ac479ac4fe                                   NaN   \n",
       "0000c176103e538d5c9828e695fed4f7ae42dd01                                   NaN   \n",
       "\n",
       "                                          0103c1cc-4a09-4a5d-a344-56ad99a77193  \\\n",
       "00000c289a1829a808ac09c00daf10bc3c4e223b                                   NaN   \n",
       "00001411dc427966b17297bf4d69e7e193135d89                                   NaN   \n",
       "000063d3fe1cf2ba248b9e3c3f0334845a27a6bf                                   NaN   \n",
       "00007a47085b9aab8af55f52ec8846ac479ac4fe                                   NaN   \n",
       "0000c176103e538d5c9828e695fed4f7ae42dd01                                   NaN   \n",
       "\n",
       "                                          0110e63e-0a9b-4818-af8e-41e180c20b9a  \\\n",
       "00000c289a1829a808ac09c00daf10bc3c4e223b                                   NaN   \n",
       "00001411dc427966b17297bf4d69e7e193135d89                                   NaN   \n",
       "000063d3fe1cf2ba248b9e3c3f0334845a27a6bf                                   NaN   \n",
       "00007a47085b9aab8af55f52ec8846ac479ac4fe                                   456   \n",
       "0000c176103e538d5c9828e695fed4f7ae42dd01                                   NaN   \n",
       "\n",
       "                                             ...       \\\n",
       "00000c289a1829a808ac09c00daf10bc3c4e223b     ...        \n",
       "00001411dc427966b17297bf4d69e7e193135d89     ...        \n",
       "000063d3fe1cf2ba248b9e3c3f0334845a27a6bf     ...        \n",
       "00007a47085b9aab8af55f52ec8846ac479ac4fe     ...        \n",
       "0000c176103e538d5c9828e695fed4f7ae42dd01     ...        \n",
       "\n",
       "                                          ff7f80cd-05c2-4068-a00e-fbfbd453d049  \\\n",
       "00000c289a1829a808ac09c00daf10bc3c4e223b                                   NaN   \n",
       "00001411dc427966b17297bf4d69e7e193135d89                                   NaN   \n",
       "000063d3fe1cf2ba248b9e3c3f0334845a27a6bf                                   NaN   \n",
       "00007a47085b9aab8af55f52ec8846ac479ac4fe                                   NaN   \n",
       "0000c176103e538d5c9828e695fed4f7ae42dd01                                   NaN   \n",
       "\n",
       "                                          ff865aa0-4603-4f79-ae8b-8735332e2cfa  \\\n",
       "00000c289a1829a808ac09c00daf10bc3c4e223b                                   NaN   \n",
       "00001411dc427966b17297bf4d69e7e193135d89                                   NaN   \n",
       "000063d3fe1cf2ba248b9e3c3f0334845a27a6bf                                   NaN   \n",
       "00007a47085b9aab8af55f52ec8846ac479ac4fe                                   NaN   \n",
       "0000c176103e538d5c9828e695fed4f7ae42dd01                                   NaN   \n",
       "\n",
       "                                          ff95eb47-41c4-4f7f-a104-cdc30f02e872  \\\n",
       "00000c289a1829a808ac09c00daf10bc3c4e223b                                   NaN   \n",
       "00001411dc427966b17297bf4d69e7e193135d89                                   NaN   \n",
       "000063d3fe1cf2ba248b9e3c3f0334845a27a6bf                                   NaN   \n",
       "00007a47085b9aab8af55f52ec8846ac479ac4fe                                   NaN   \n",
       "0000c176103e538d5c9828e695fed4f7ae42dd01                                   NaN   \n",
       "\n",
       "                                          ff9deaae-da4f-42b7-a19e-36fedd3fc706  \\\n",
       "00000c289a1829a808ac09c00daf10bc3c4e223b                                   NaN   \n",
       "00001411dc427966b17297bf4d69e7e193135d89                                   NaN   \n",
       "000063d3fe1cf2ba248b9e3c3f0334845a27a6bf                                   NaN   \n",
       "00007a47085b9aab8af55f52ec8846ac479ac4fe                                   NaN   \n",
       "0000c176103e538d5c9828e695fed4f7ae42dd01                                   NaN   \n",
       "\n",
       "                                          ffb18e19-64a4-4a65-b4ce-979e00c3c69d  \\\n",
       "00000c289a1829a808ac09c00daf10bc3c4e223b                                   NaN   \n",
       "00001411dc427966b17297bf4d69e7e193135d89                                   622   \n",
       "000063d3fe1cf2ba248b9e3c3f0334845a27a6bf                                   NaN   \n",
       "00007a47085b9aab8af55f52ec8846ac479ac4fe                                   NaN   \n",
       "0000c176103e538d5c9828e695fed4f7ae42dd01                                   NaN   \n",
       "\n",
       "                                          ffb2d3e3-a4cc-48cf-8fb0-f2f846e9d7b9  \\\n",
       "00000c289a1829a808ac09c00daf10bc3c4e223b                                   NaN   \n",
       "00001411dc427966b17297bf4d69e7e193135d89                                   NaN   \n",
       "000063d3fe1cf2ba248b9e3c3f0334845a27a6bf                                   NaN   \n",
       "00007a47085b9aab8af55f52ec8846ac479ac4fe                                   NaN   \n",
       "0000c176103e538d5c9828e695fed4f7ae42dd01                                   NaN   \n",
       "\n",
       "                                          ffb390b8-8df4-4b72-97d1-7b2fc008a452  \\\n",
       "00000c289a1829a808ac09c00daf10bc3c4e223b                                   NaN   \n",
       "00001411dc427966b17297bf4d69e7e193135d89                                   NaN   \n",
       "000063d3fe1cf2ba248b9e3c3f0334845a27a6bf                                   NaN   \n",
       "00007a47085b9aab8af55f52ec8846ac479ac4fe                                   NaN   \n",
       "0000c176103e538d5c9828e695fed4f7ae42dd01                                   NaN   \n",
       "\n",
       "                                          ffe16bba-4d84-409b-8f22-5242c60b930f  \\\n",
       "00000c289a1829a808ac09c00daf10bc3c4e223b                                   NaN   \n",
       "00001411dc427966b17297bf4d69e7e193135d89                                   NaN   \n",
       "000063d3fe1cf2ba248b9e3c3f0334845a27a6bf                                   NaN   \n",
       "00007a47085b9aab8af55f52ec8846ac479ac4fe                                   NaN   \n",
       "0000c176103e538d5c9828e695fed4f7ae42dd01                                   NaN   \n",
       "\n",
       "                                          ffe9ec08-6b6b-4993-9394-e280b429dbfd  \\\n",
       "00000c289a1829a808ac09c00daf10bc3c4e223b                                   NaN   \n",
       "00001411dc427966b17297bf4d69e7e193135d89                                   NaN   \n",
       "000063d3fe1cf2ba248b9e3c3f0334845a27a6bf                                   NaN   \n",
       "00007a47085b9aab8af55f52ec8846ac479ac4fe                                   NaN   \n",
       "0000c176103e538d5c9828e695fed4f7ae42dd01                                   NaN   \n",
       "\n",
       "                                          user_median  \n",
       "00000c289a1829a808ac09c00daf10bc3c4e223b        226.5  \n",
       "00001411dc427966b17297bf4d69e7e193135d89       1102.5  \n",
       "000063d3fe1cf2ba248b9e3c3f0334845a27a6bf          4.0  \n",
       "00007a47085b9aab8af55f52ec8846ac479ac4fe         95.5  \n",
       "0000c176103e538d5c9828e695fed4f7ae42dd01        482.0  \n",
       "\n",
       "[5 rows x 2001 columns]"
      ]
     },
     "execution_count": 218,
     "metadata": {},
     "output_type": "execute_result"
    }
   ],
   "source": [
    "train.head()"
   ]
  },
  {
   "cell_type": "code",
   "execution_count": 219,
   "metadata": {
    "collapsed": false
   },
   "outputs": [],
   "source": [
    "train = train.reset_index()"
   ]
  },
  {
   "cell_type": "code",
   "execution_count": 220,
   "metadata": {
    "collapsed": true
   },
   "outputs": [],
   "source": [
    "train = train.rename(columns={'index': 'user'})"
   ]
  },
  {
   "cell_type": "code",
   "execution_count": 221,
   "metadata": {
    "collapsed": false
   },
   "outputs": [
    {
     "data": {
      "text/html": [
       "<div>\n",
       "<table border=\"1\" class=\"dataframe\">\n",
       "  <thead>\n",
       "    <tr style=\"text-align: right;\">\n",
       "      <th></th>\n",
       "      <th>user</th>\n",
       "      <th>000d90ec-d64c-48a1-b775-e726fd240e9f</th>\n",
       "      <th>000fc734-b7e1-4a01-92d1-f544261b43f5</th>\n",
       "      <th>0019749d-ee29-4a5f-ab17-6bfa11deb969</th>\n",
       "      <th>0039c7ae-e1a7-4a7d-9b49-0cbc716821a6</th>\n",
       "      <th>004e5eed-e267-46ea-b504-54526f1f377d</th>\n",
       "      <th>00565b31-14a3-4913-bd22-385eb40dd13c</th>\n",
       "      <th>00a9f935-ba93-4fc8-a33a-993abe9c936b</th>\n",
       "      <th>00eeed6b-5897-4359-8347-b8cd28375331</th>\n",
       "      <th>0103c1cc-4a09-4a5d-a344-56ad99a77193</th>\n",
       "      <th>...</th>\n",
       "      <th>ff7f80cd-05c2-4068-a00e-fbfbd453d049</th>\n",
       "      <th>ff865aa0-4603-4f79-ae8b-8735332e2cfa</th>\n",
       "      <th>ff95eb47-41c4-4f7f-a104-cdc30f02e872</th>\n",
       "      <th>ff9deaae-da4f-42b7-a19e-36fedd3fc706</th>\n",
       "      <th>ffb18e19-64a4-4a65-b4ce-979e00c3c69d</th>\n",
       "      <th>ffb2d3e3-a4cc-48cf-8fb0-f2f846e9d7b9</th>\n",
       "      <th>ffb390b8-8df4-4b72-97d1-7b2fc008a452</th>\n",
       "      <th>ffe16bba-4d84-409b-8f22-5242c60b930f</th>\n",
       "      <th>ffe9ec08-6b6b-4993-9394-e280b429dbfd</th>\n",
       "      <th>user_median</th>\n",
       "    </tr>\n",
       "  </thead>\n",
       "  <tbody>\n",
       "    <tr>\n",
       "      <th>0</th>\n",
       "      <td>00000c289a1829a808ac09c00daf10bc3c4e223b</td>\n",
       "      <td>NaN</td>\n",
       "      <td>NaN</td>\n",
       "      <td>NaN</td>\n",
       "      <td>NaN</td>\n",
       "      <td>NaN</td>\n",
       "      <td>NaN</td>\n",
       "      <td>NaN</td>\n",
       "      <td>NaN</td>\n",
       "      <td>NaN</td>\n",
       "      <td>...</td>\n",
       "      <td>NaN</td>\n",
       "      <td>NaN</td>\n",
       "      <td>NaN</td>\n",
       "      <td>NaN</td>\n",
       "      <td>NaN</td>\n",
       "      <td>NaN</td>\n",
       "      <td>NaN</td>\n",
       "      <td>NaN</td>\n",
       "      <td>NaN</td>\n",
       "      <td>226.5</td>\n",
       "    </tr>\n",
       "    <tr>\n",
       "      <th>1</th>\n",
       "      <td>00001411dc427966b17297bf4d69e7e193135d89</td>\n",
       "      <td>NaN</td>\n",
       "      <td>NaN</td>\n",
       "      <td>NaN</td>\n",
       "      <td>NaN</td>\n",
       "      <td>NaN</td>\n",
       "      <td>NaN</td>\n",
       "      <td>NaN</td>\n",
       "      <td>NaN</td>\n",
       "      <td>NaN</td>\n",
       "      <td>...</td>\n",
       "      <td>NaN</td>\n",
       "      <td>NaN</td>\n",
       "      <td>NaN</td>\n",
       "      <td>NaN</td>\n",
       "      <td>622</td>\n",
       "      <td>NaN</td>\n",
       "      <td>NaN</td>\n",
       "      <td>NaN</td>\n",
       "      <td>NaN</td>\n",
       "      <td>1102.5</td>\n",
       "    </tr>\n",
       "    <tr>\n",
       "      <th>2</th>\n",
       "      <td>000063d3fe1cf2ba248b9e3c3f0334845a27a6bf</td>\n",
       "      <td>NaN</td>\n",
       "      <td>NaN</td>\n",
       "      <td>NaN</td>\n",
       "      <td>NaN</td>\n",
       "      <td>NaN</td>\n",
       "      <td>NaN</td>\n",
       "      <td>NaN</td>\n",
       "      <td>NaN</td>\n",
       "      <td>NaN</td>\n",
       "      <td>...</td>\n",
       "      <td>NaN</td>\n",
       "      <td>NaN</td>\n",
       "      <td>NaN</td>\n",
       "      <td>NaN</td>\n",
       "      <td>NaN</td>\n",
       "      <td>NaN</td>\n",
       "      <td>NaN</td>\n",
       "      <td>NaN</td>\n",
       "      <td>NaN</td>\n",
       "      <td>4.0</td>\n",
       "    </tr>\n",
       "    <tr>\n",
       "      <th>3</th>\n",
       "      <td>00007a47085b9aab8af55f52ec8846ac479ac4fe</td>\n",
       "      <td>NaN</td>\n",
       "      <td>NaN</td>\n",
       "      <td>NaN</td>\n",
       "      <td>NaN</td>\n",
       "      <td>NaN</td>\n",
       "      <td>NaN</td>\n",
       "      <td>NaN</td>\n",
       "      <td>NaN</td>\n",
       "      <td>NaN</td>\n",
       "      <td>...</td>\n",
       "      <td>NaN</td>\n",
       "      <td>NaN</td>\n",
       "      <td>NaN</td>\n",
       "      <td>NaN</td>\n",
       "      <td>NaN</td>\n",
       "      <td>NaN</td>\n",
       "      <td>NaN</td>\n",
       "      <td>NaN</td>\n",
       "      <td>NaN</td>\n",
       "      <td>95.5</td>\n",
       "    </tr>\n",
       "    <tr>\n",
       "      <th>4</th>\n",
       "      <td>0000c176103e538d5c9828e695fed4f7ae42dd01</td>\n",
       "      <td>NaN</td>\n",
       "      <td>NaN</td>\n",
       "      <td>NaN</td>\n",
       "      <td>NaN</td>\n",
       "      <td>NaN</td>\n",
       "      <td>NaN</td>\n",
       "      <td>NaN</td>\n",
       "      <td>NaN</td>\n",
       "      <td>NaN</td>\n",
       "      <td>...</td>\n",
       "      <td>NaN</td>\n",
       "      <td>NaN</td>\n",
       "      <td>NaN</td>\n",
       "      <td>NaN</td>\n",
       "      <td>NaN</td>\n",
       "      <td>NaN</td>\n",
       "      <td>NaN</td>\n",
       "      <td>NaN</td>\n",
       "      <td>NaN</td>\n",
       "      <td>482.0</td>\n",
       "    </tr>\n",
       "  </tbody>\n",
       "</table>\n",
       "<p>5 rows × 2002 columns</p>\n",
       "</div>"
      ],
      "text/plain": [
       "                                       user  \\\n",
       "0  00000c289a1829a808ac09c00daf10bc3c4e223b   \n",
       "1  00001411dc427966b17297bf4d69e7e193135d89   \n",
       "2  000063d3fe1cf2ba248b9e3c3f0334845a27a6bf   \n",
       "3  00007a47085b9aab8af55f52ec8846ac479ac4fe   \n",
       "4  0000c176103e538d5c9828e695fed4f7ae42dd01   \n",
       "\n",
       "   000d90ec-d64c-48a1-b775-e726fd240e9f  000fc734-b7e1-4a01-92d1-f544261b43f5  \\\n",
       "0                                   NaN                                   NaN   \n",
       "1                                   NaN                                   NaN   \n",
       "2                                   NaN                                   NaN   \n",
       "3                                   NaN                                   NaN   \n",
       "4                                   NaN                                   NaN   \n",
       "\n",
       "   0019749d-ee29-4a5f-ab17-6bfa11deb969  0039c7ae-e1a7-4a7d-9b49-0cbc716821a6  \\\n",
       "0                                   NaN                                   NaN   \n",
       "1                                   NaN                                   NaN   \n",
       "2                                   NaN                                   NaN   \n",
       "3                                   NaN                                   NaN   \n",
       "4                                   NaN                                   NaN   \n",
       "\n",
       "   004e5eed-e267-46ea-b504-54526f1f377d  00565b31-14a3-4913-bd22-385eb40dd13c  \\\n",
       "0                                   NaN                                   NaN   \n",
       "1                                   NaN                                   NaN   \n",
       "2                                   NaN                                   NaN   \n",
       "3                                   NaN                                   NaN   \n",
       "4                                   NaN                                   NaN   \n",
       "\n",
       "   00a9f935-ba93-4fc8-a33a-993abe9c936b  00eeed6b-5897-4359-8347-b8cd28375331  \\\n",
       "0                                   NaN                                   NaN   \n",
       "1                                   NaN                                   NaN   \n",
       "2                                   NaN                                   NaN   \n",
       "3                                   NaN                                   NaN   \n",
       "4                                   NaN                                   NaN   \n",
       "\n",
       "   0103c1cc-4a09-4a5d-a344-56ad99a77193     ...       \\\n",
       "0                                   NaN     ...        \n",
       "1                                   NaN     ...        \n",
       "2                                   NaN     ...        \n",
       "3                                   NaN     ...        \n",
       "4                                   NaN     ...        \n",
       "\n",
       "   ff7f80cd-05c2-4068-a00e-fbfbd453d049  ff865aa0-4603-4f79-ae8b-8735332e2cfa  \\\n",
       "0                                   NaN                                   NaN   \n",
       "1                                   NaN                                   NaN   \n",
       "2                                   NaN                                   NaN   \n",
       "3                                   NaN                                   NaN   \n",
       "4                                   NaN                                   NaN   \n",
       "\n",
       "   ff95eb47-41c4-4f7f-a104-cdc30f02e872  ff9deaae-da4f-42b7-a19e-36fedd3fc706  \\\n",
       "0                                   NaN                                   NaN   \n",
       "1                                   NaN                                   NaN   \n",
       "2                                   NaN                                   NaN   \n",
       "3                                   NaN                                   NaN   \n",
       "4                                   NaN                                   NaN   \n",
       "\n",
       "   ffb18e19-64a4-4a65-b4ce-979e00c3c69d  ffb2d3e3-a4cc-48cf-8fb0-f2f846e9d7b9  \\\n",
       "0                                   NaN                                   NaN   \n",
       "1                                   622                                   NaN   \n",
       "2                                   NaN                                   NaN   \n",
       "3                                   NaN                                   NaN   \n",
       "4                                   NaN                                   NaN   \n",
       "\n",
       "   ffb390b8-8df4-4b72-97d1-7b2fc008a452  ffe16bba-4d84-409b-8f22-5242c60b930f  \\\n",
       "0                                   NaN                                   NaN   \n",
       "1                                   NaN                                   NaN   \n",
       "2                                   NaN                                   NaN   \n",
       "3                                   NaN                                   NaN   \n",
       "4                                   NaN                                   NaN   \n",
       "\n",
       "   ffe9ec08-6b6b-4993-9394-e280b429dbfd  user_median  \n",
       "0                                   NaN        226.5  \n",
       "1                                   NaN       1102.5  \n",
       "2                                   NaN          4.0  \n",
       "3                                   NaN         95.5  \n",
       "4                                   NaN        482.0  \n",
       "\n",
       "[5 rows x 2002 columns]"
      ]
     },
     "execution_count": 221,
     "metadata": {},
     "output_type": "execute_result"
    }
   ],
   "source": [
    "train.head()"
   ]
  },
  {
   "cell_type": "markdown",
   "metadata": {},
   "source": [
    "# profiles dataset"
   ]
  },
  {
   "cell_type": "code",
   "execution_count": 122,
   "metadata": {
    "collapsed": true
   },
   "outputs": [],
   "source": [
    "profilesdf = pd.DataFrame.from_csv(profiles_file)"
   ]
  },
  {
   "cell_type": "code",
   "execution_count": 123,
   "metadata": {
    "collapsed": true
   },
   "outputs": [],
   "source": [
    "profilesdf.reset_index(inplace=True)"
   ]
  },
  {
   "cell_type": "code",
   "execution_count": 124,
   "metadata": {
    "collapsed": false
   },
   "outputs": [
    {
     "data": {
      "text/html": [
       "<div>\n",
       "<table border=\"1\" class=\"dataframe\">\n",
       "  <thead>\n",
       "    <tr style=\"text-align: right;\">\n",
       "      <th></th>\n",
       "      <th>user</th>\n",
       "      <th>sex</th>\n",
       "      <th>age</th>\n",
       "      <th>country</th>\n",
       "    </tr>\n",
       "  </thead>\n",
       "  <tbody>\n",
       "    <tr>\n",
       "      <th>0</th>\n",
       "      <td>fa40b43298ba3f8aa52e8e8863faf2e2171e0b5d</td>\n",
       "      <td>f</td>\n",
       "      <td>25</td>\n",
       "      <td>Sweden</td>\n",
       "    </tr>\n",
       "    <tr>\n",
       "      <th>1</th>\n",
       "      <td>5909125332c108365a26ccf0ee62636eee08215c</td>\n",
       "      <td>m</td>\n",
       "      <td>29</td>\n",
       "      <td>Iceland</td>\n",
       "    </tr>\n",
       "    <tr>\n",
       "      <th>2</th>\n",
       "      <td>d1867cbda35e0d48e9a8390d9f5e079c9d99ea96</td>\n",
       "      <td>m</td>\n",
       "      <td>30</td>\n",
       "      <td>United States</td>\n",
       "    </tr>\n",
       "    <tr>\n",
       "      <th>3</th>\n",
       "      <td>63268cce0d68127729890c1691f62d5be5abd87c</td>\n",
       "      <td>m</td>\n",
       "      <td>21</td>\n",
       "      <td>Germany</td>\n",
       "    </tr>\n",
       "    <tr>\n",
       "      <th>4</th>\n",
       "      <td>02871cd952d607ba69b64e2e107773012c708113</td>\n",
       "      <td>m</td>\n",
       "      <td>24</td>\n",
       "      <td>Netherlands</td>\n",
       "    </tr>\n",
       "  </tbody>\n",
       "</table>\n",
       "</div>"
      ],
      "text/plain": [
       "                                       user sex  age        country\n",
       "0  fa40b43298ba3f8aa52e8e8863faf2e2171e0b5d   f   25         Sweden\n",
       "1  5909125332c108365a26ccf0ee62636eee08215c   m   29        Iceland\n",
       "2  d1867cbda35e0d48e9a8390d9f5e079c9d99ea96   m   30  United States\n",
       "3  63268cce0d68127729890c1691f62d5be5abd87c   m   21        Germany\n",
       "4  02871cd952d607ba69b64e2e107773012c708113   m   24    Netherlands"
      ]
     },
     "execution_count": 124,
     "metadata": {},
     "output_type": "execute_result"
    }
   ],
   "source": [
    "profilesdf.head()"
   ]
  },
  {
   "cell_type": "code",
   "execution_count": 125,
   "metadata": {
    "collapsed": false
   },
   "outputs": [
    {
     "data": {
      "text/plain": [
       "233286"
      ]
     },
     "execution_count": 125,
     "metadata": {},
     "output_type": "execute_result"
    }
   ],
   "source": [
    "len(set(profilesdf['user']))"
   ]
  },
  {
   "cell_type": "code",
   "execution_count": 12,
   "metadata": {
    "collapsed": true
   },
   "outputs": [],
   "source": [
    "import wbdata"
   ]
  },
  {
   "cell_type": "code",
   "execution_count": 65,
   "metadata": {
    "collapsed": true
   },
   "outputs": [],
   "source": [
    "country_wbcode = {}\n",
    "for country in set(profilesdf['country']):\n",
    "    try:\n",
    "        country_wbcode[country] = str(wbdata.search_countries(country, display=False)[0]['id'])\n",
    "    except:\n",
    "        country_wbcode[country] = None"
   ]
  },
  {
   "cell_type": "code",
   "execution_count": 29,
   "metadata": {
    "collapsed": false
   },
   "outputs": [],
   "source": [
    "latitudes = []\n",
    "for row in profilesdf['country']:\n",
    "    try:\n",
    "        latitudes.append(float(wbdata.search_countries(row, display=False)[0]['latitude']))\n",
    "    except:\n",
    "        latitudes.append(float('nan'))"
   ]
  },
  {
   "cell_type": "code",
   "execution_count": 40,
   "metadata": {
    "collapsed": true
   },
   "outputs": [],
   "source": [
    "longitudes = []\n",
    "for row in profilesdf['country']:\n",
    "    try:\n",
    "        longitudes.append(float(wbdata.search_countries(row, display=False)[0]['longitude']))\n",
    "    except:\n",
    "        longitudes.append(float('nan'))"
   ]
  },
  {
   "cell_type": "code",
   "execution_count": 75,
   "metadata": {
    "collapsed": true
   },
   "outputs": [],
   "source": [
    "gdp = []\n",
    "for row in profilesdf['country']:\n",
    "    try:\n",
    "        gdp.append(float(wbdata.get_data(\"NY.GDP.PCAP.PP.KD\", country=country_wbcode[row])[1]['value']))\n",
    "    except:\n",
    "        gdp.append(float('nan'))"
   ]
  },
  {
   "cell_type": "code",
   "execution_count": 76,
   "metadata": {
    "collapsed": false
   },
   "outputs": [],
   "source": [
    "profilesdf['latitudes'] = latitudes\n",
    "profilesdf['longitudes'] = longitudes\n",
    "profilesdf['gdp'] = gdp"
   ]
  },
  {
   "cell_type": "code",
   "execution_count": 84,
   "metadata": {
    "collapsed": true
   },
   "outputs": [],
   "source": [
    "profilesdf['sex'] = profilesdf['sex'].str.contains('m', na=False) # male = 1, female = 0\n",
    "profilesdf['sex'] = profilesdf['sex'].astype(float)"
   ]
  },
  {
   "cell_type": "code",
   "execution_count": 115,
   "metadata": {
    "collapsed": false,
    "scrolled": true
   },
   "outputs": [
    {
     "data": {
      "text/html": [
       "<div>\n",
       "<table border=\"1\" class=\"dataframe\">\n",
       "  <thead>\n",
       "    <tr style=\"text-align: right;\">\n",
       "      <th></th>\n",
       "      <th>user</th>\n",
       "      <th>sex</th>\n",
       "      <th>age</th>\n",
       "      <th>country</th>\n",
       "      <th>latitudes</th>\n",
       "      <th>longitudes</th>\n",
       "      <th>gdp</th>\n",
       "    </tr>\n",
       "  </thead>\n",
       "  <tbody>\n",
       "    <tr>\n",
       "      <th>0</th>\n",
       "      <td>fa40b43298ba3f8aa52e8e8863faf2e2171e0b5d</td>\n",
       "      <td>0</td>\n",
       "      <td>25</td>\n",
       "      <td>Sweden</td>\n",
       "      <td>59.3327</td>\n",
       "      <td>18.06450</td>\n",
       "      <td>44033.943287</td>\n",
       "    </tr>\n",
       "    <tr>\n",
       "      <th>1</th>\n",
       "      <td>5909125332c108365a26ccf0ee62636eee08215c</td>\n",
       "      <td>1</td>\n",
       "      <td>29</td>\n",
       "      <td>Iceland</td>\n",
       "      <td>64.1353</td>\n",
       "      <td>-21.89520</td>\n",
       "      <td>41236.473229</td>\n",
       "    </tr>\n",
       "    <tr>\n",
       "      <th>2</th>\n",
       "      <td>d1867cbda35e0d48e9a8390d9f5e079c9d99ea96</td>\n",
       "      <td>1</td>\n",
       "      <td>30</td>\n",
       "      <td>United States</td>\n",
       "      <td>38.8895</td>\n",
       "      <td>-77.03200</td>\n",
       "      <td>52117.745853</td>\n",
       "    </tr>\n",
       "    <tr>\n",
       "      <th>3</th>\n",
       "      <td>63268cce0d68127729890c1691f62d5be5abd87c</td>\n",
       "      <td>1</td>\n",
       "      <td>21</td>\n",
       "      <td>Germany</td>\n",
       "      <td>52.5235</td>\n",
       "      <td>13.41150</td>\n",
       "      <td>43602.359247</td>\n",
       "    </tr>\n",
       "    <tr>\n",
       "      <th>4</th>\n",
       "      <td>02871cd952d607ba69b64e2e107773012c708113</td>\n",
       "      <td>1</td>\n",
       "      <td>24</td>\n",
       "      <td>Netherlands</td>\n",
       "      <td>52.3738</td>\n",
       "      <td>4.89095</td>\n",
       "      <td>45691.392933</td>\n",
       "    </tr>\n",
       "  </tbody>\n",
       "</table>\n",
       "</div>"
      ],
      "text/plain": [
       "                                       user  sex  age        country  \\\n",
       "0  fa40b43298ba3f8aa52e8e8863faf2e2171e0b5d    0   25         Sweden   \n",
       "1  5909125332c108365a26ccf0ee62636eee08215c    1   29        Iceland   \n",
       "2  d1867cbda35e0d48e9a8390d9f5e079c9d99ea96    1   30  United States   \n",
       "3  63268cce0d68127729890c1691f62d5be5abd87c    1   21        Germany   \n",
       "4  02871cd952d607ba69b64e2e107773012c708113    1   24    Netherlands   \n",
       "\n",
       "   latitudes  longitudes           gdp  \n",
       "0    59.3327    18.06450  44033.943287  \n",
       "1    64.1353   -21.89520  41236.473229  \n",
       "2    38.8895   -77.03200  52117.745853  \n",
       "3    52.5235    13.41150  43602.359247  \n",
       "4    52.3738     4.89095  45691.392933  "
      ]
     },
     "execution_count": 115,
     "metadata": {},
     "output_type": "execute_result"
    }
   ],
   "source": [
    "profilesdf.head()"
   ]
  },
  {
   "cell_type": "code",
   "execution_count": 116,
   "metadata": {
    "collapsed": true
   },
   "outputs": [],
   "source": [
    "# this overwrites the current file so only run if changing the dataframe\n",
    "#profilesdf.to_pickle('profiles.pkl')"
   ]
  },
  {
   "cell_type": "code",
   "execution_count": 153,
   "metadata": {
    "collapsed": true
   },
   "outputs": [],
   "source": [
    "profilesdf = pd.read_pickle('profiles.pkl')"
   ]
  },
  {
   "cell_type": "markdown",
   "metadata": {},
   "source": [
    "# merging data"
   ]
  },
  {
   "cell_type": "code",
   "execution_count": 159,
   "metadata": {
    "collapsed": true
   },
   "outputs": [],
   "source": [
    "testdf = pd.DataFrame.from_csv(test_file)\n",
    "traindf = pd.DataFrame.from_csv(train_file)"
   ]
  },
  {
   "cell_type": "code",
   "execution_count": 161,
   "metadata": {
    "collapsed": true
   },
   "outputs": [],
   "source": [
    "traindf.reset_index(inplace=True)"
   ]
  },
  {
   "cell_type": "code",
   "execution_count": 155,
   "metadata": {
    "collapsed": false
   },
   "outputs": [],
   "source": [
    "testdf.reset_index(inplace=True)\n",
    "testdf = testdf.drop('Id', 1)"
   ]
  },
  {
   "cell_type": "code",
   "execution_count": 163,
   "metadata": {
    "collapsed": false
   },
   "outputs": [
    {
     "data": {
      "text/html": [
       "<div>\n",
       "<table border=\"1\" class=\"dataframe\">\n",
       "  <thead>\n",
       "    <tr style=\"text-align: right;\">\n",
       "      <th></th>\n",
       "      <th>user</th>\n",
       "      <th>artist</th>\n",
       "      <th>plays</th>\n",
       "    </tr>\n",
       "  </thead>\n",
       "  <tbody>\n",
       "    <tr>\n",
       "      <th>0</th>\n",
       "      <td>eb1c57ddc9e0e2d005169d3a1a96e8dd95e3af03</td>\n",
       "      <td>5a8e07d5-d932-4484-a7f7-e700793a9c94</td>\n",
       "      <td>554</td>\n",
       "    </tr>\n",
       "    <tr>\n",
       "      <th>1</th>\n",
       "      <td>44ce793a6cd9d20f13f4a576a818ef983314bb5d</td>\n",
       "      <td>a3a92047-be1c-4f3e-8960-c4f8570984df</td>\n",
       "      <td>81</td>\n",
       "    </tr>\n",
       "    <tr>\n",
       "      <th>2</th>\n",
       "      <td>da9cf3f557161d54b76f24db64be9cc76db008e3</td>\n",
       "      <td>eeb1195b-f213-4ce1-b28c-8565211f8e43</td>\n",
       "      <td>708</td>\n",
       "    </tr>\n",
       "    <tr>\n",
       "      <th>3</th>\n",
       "      <td>8fa49ab25d425edcf05d44bfc1d5aea895287d81</td>\n",
       "      <td>a1419808-65d3-4d40-998c-1a0bac65eabc</td>\n",
       "      <td>265</td>\n",
       "    </tr>\n",
       "    <tr>\n",
       "      <th>4</th>\n",
       "      <td>b85fcaef67d2669cd99b334b5e8c8705263db2cf</td>\n",
       "      <td>a3cb23fc-acd3-4ce0-8f36-1e5aa6a18432</td>\n",
       "      <td>220</td>\n",
       "    </tr>\n",
       "  </tbody>\n",
       "</table>\n",
       "</div>"
      ],
      "text/plain": [
       "                                       user  \\\n",
       "0  eb1c57ddc9e0e2d005169d3a1a96e8dd95e3af03   \n",
       "1  44ce793a6cd9d20f13f4a576a818ef983314bb5d   \n",
       "2  da9cf3f557161d54b76f24db64be9cc76db008e3   \n",
       "3  8fa49ab25d425edcf05d44bfc1d5aea895287d81   \n",
       "4  b85fcaef67d2669cd99b334b5e8c8705263db2cf   \n",
       "\n",
       "                                 artist  plays  \n",
       "0  5a8e07d5-d932-4484-a7f7-e700793a9c94    554  \n",
       "1  a3a92047-be1c-4f3e-8960-c4f8570984df     81  \n",
       "2  eeb1195b-f213-4ce1-b28c-8565211f8e43    708  \n",
       "3  a1419808-65d3-4d40-998c-1a0bac65eabc    265  \n",
       "4  a3cb23fc-acd3-4ce0-8f36-1e5aa6a18432    220  "
      ]
     },
     "execution_count": 163,
     "metadata": {},
     "output_type": "execute_result"
    }
   ],
   "source": [
    "traindf.head()"
   ]
  },
  {
   "cell_type": "code",
   "execution_count": 156,
   "metadata": {
    "collapsed": false
   },
   "outputs": [
    {
     "data": {
      "text/html": [
       "<div>\n",
       "<table border=\"1\" class=\"dataframe\">\n",
       "  <thead>\n",
       "    <tr style=\"text-align: right;\">\n",
       "      <th></th>\n",
       "      <th>user</th>\n",
       "      <th>artist</th>\n",
       "    </tr>\n",
       "  </thead>\n",
       "  <tbody>\n",
       "    <tr>\n",
       "      <th>0</th>\n",
       "      <td>306e19cce2522fa2d39ff5dfc870992100ec22d2</td>\n",
       "      <td>4ac4e32b-bd18-402e-adad-ae00e72f8d85</td>\n",
       "    </tr>\n",
       "    <tr>\n",
       "      <th>1</th>\n",
       "      <td>9450d351278df4938bdea4ed86aec940a4e927ac</td>\n",
       "      <td>1f574ab1-a46d-4586-9331-f0ded23e0411</td>\n",
       "    </tr>\n",
       "    <tr>\n",
       "      <th>2</th>\n",
       "      <td>801909d6955f59033c88595d3d7f8a6a5dcd53cc</td>\n",
       "      <td>3eb72791-6322-466b-87d3-24d74901eb2d</td>\n",
       "    </tr>\n",
       "    <tr>\n",
       "      <th>3</th>\n",
       "      <td>e3ed47445c127fbeff47fb58f6bbf2f3b4535d82</td>\n",
       "      <td>61604b45-8a91-4e33-a1b6-45d7b1fec4e5</td>\n",
       "    </tr>\n",
       "    <tr>\n",
       "      <th>4</th>\n",
       "      <td>a73f46652103f3a5f7429159310f6928f79644aa</td>\n",
       "      <td>5dfdca28-9ddc-4853-933c-8bc97d87beec</td>\n",
       "    </tr>\n",
       "  </tbody>\n",
       "</table>\n",
       "</div>"
      ],
      "text/plain": [
       "                                       user  \\\n",
       "0  306e19cce2522fa2d39ff5dfc870992100ec22d2   \n",
       "1  9450d351278df4938bdea4ed86aec940a4e927ac   \n",
       "2  801909d6955f59033c88595d3d7f8a6a5dcd53cc   \n",
       "3  e3ed47445c127fbeff47fb58f6bbf2f3b4535d82   \n",
       "4  a73f46652103f3a5f7429159310f6928f79644aa   \n",
       "\n",
       "                                 artist  \n",
       "0  4ac4e32b-bd18-402e-adad-ae00e72f8d85  \n",
       "1  1f574ab1-a46d-4586-9331-f0ded23e0411  \n",
       "2  3eb72791-6322-466b-87d3-24d74901eb2d  \n",
       "3  61604b45-8a91-4e33-a1b6-45d7b1fec4e5  \n",
       "4  5dfdca28-9ddc-4853-933c-8bc97d87beec  "
      ]
     },
     "execution_count": 156,
     "metadata": {},
     "output_type": "execute_result"
    }
   ],
   "source": [
    "testdf.head()"
   ]
  },
  {
   "cell_type": "code",
   "execution_count": 164,
   "metadata": {
    "collapsed": true
   },
   "outputs": [],
   "source": [
    "trainmerge = pd.merge(profilesdf, traindf, on='user')"
   ]
  },
  {
   "cell_type": "code",
   "execution_count": 177,
   "metadata": {
    "collapsed": false
   },
   "outputs": [
    {
     "data": {
      "text/html": [
       "<div>\n",
       "<table border=\"1\" class=\"dataframe\">\n",
       "  <thead>\n",
       "    <tr style=\"text-align: right;\">\n",
       "      <th></th>\n",
       "      <th>user</th>\n",
       "      <th>sex</th>\n",
       "      <th>age</th>\n",
       "      <th>country</th>\n",
       "      <th>latitudes</th>\n",
       "      <th>longitudes</th>\n",
       "      <th>gdp</th>\n",
       "      <th>artist</th>\n",
       "      <th>plays</th>\n",
       "    </tr>\n",
       "  </thead>\n",
       "  <tbody>\n",
       "    <tr>\n",
       "      <th>0</th>\n",
       "      <td>fa40b43298ba3f8aa52e8e8863faf2e2171e0b5d</td>\n",
       "      <td>0</td>\n",
       "      <td>25</td>\n",
       "      <td>Sweden</td>\n",
       "      <td>59.3327</td>\n",
       "      <td>18.0645</td>\n",
       "      <td>44033.943287</td>\n",
       "      <td>980ee2d8-2ee9-407b-b48e-48360fbc7437</td>\n",
       "      <td>60</td>\n",
       "    </tr>\n",
       "    <tr>\n",
       "      <th>1</th>\n",
       "      <td>fa40b43298ba3f8aa52e8e8863faf2e2171e0b5d</td>\n",
       "      <td>0</td>\n",
       "      <td>25</td>\n",
       "      <td>Sweden</td>\n",
       "      <td>59.3327</td>\n",
       "      <td>18.0645</td>\n",
       "      <td>44033.943287</td>\n",
       "      <td>b10bbbfc-cf9e-42e0-be17-e2c3e1d2600d</td>\n",
       "      <td>51</td>\n",
       "    </tr>\n",
       "    <tr>\n",
       "      <th>2</th>\n",
       "      <td>fa40b43298ba3f8aa52e8e8863faf2e2171e0b5d</td>\n",
       "      <td>0</td>\n",
       "      <td>25</td>\n",
       "      <td>Sweden</td>\n",
       "      <td>59.3327</td>\n",
       "      <td>18.0645</td>\n",
       "      <td>44033.943287</td>\n",
       "      <td>b616019a-810c-4b05-a558-ad8406f225ff</td>\n",
       "      <td>156</td>\n",
       "    </tr>\n",
       "    <tr>\n",
       "      <th>3</th>\n",
       "      <td>fa40b43298ba3f8aa52e8e8863faf2e2171e0b5d</td>\n",
       "      <td>0</td>\n",
       "      <td>25</td>\n",
       "      <td>Sweden</td>\n",
       "      <td>59.3327</td>\n",
       "      <td>18.0645</td>\n",
       "      <td>44033.943287</td>\n",
       "      <td>ebfc1398-8d96-47e3-82c3-f782abcdb13d</td>\n",
       "      <td>32</td>\n",
       "    </tr>\n",
       "    <tr>\n",
       "      <th>4</th>\n",
       "      <td>fa40b43298ba3f8aa52e8e8863faf2e2171e0b5d</td>\n",
       "      <td>0</td>\n",
       "      <td>25</td>\n",
       "      <td>Sweden</td>\n",
       "      <td>59.3327</td>\n",
       "      <td>18.0645</td>\n",
       "      <td>44033.943287</td>\n",
       "      <td>8bfac288-ccc5-448d-9573-c33ea2aa5c30</td>\n",
       "      <td>50</td>\n",
       "    </tr>\n",
       "    <tr>\n",
       "      <th>5</th>\n",
       "      <td>fa40b43298ba3f8aa52e8e8863faf2e2171e0b5d</td>\n",
       "      <td>0</td>\n",
       "      <td>25</td>\n",
       "      <td>Sweden</td>\n",
       "      <td>59.3327</td>\n",
       "      <td>18.0645</td>\n",
       "      <td>44033.943287</td>\n",
       "      <td>3eb72791-6322-466b-87d3-24d74901eb2d</td>\n",
       "      <td>83</td>\n",
       "    </tr>\n",
       "    <tr>\n",
       "      <th>6</th>\n",
       "      <td>fa40b43298ba3f8aa52e8e8863faf2e2171e0b5d</td>\n",
       "      <td>0</td>\n",
       "      <td>25</td>\n",
       "      <td>Sweden</td>\n",
       "      <td>59.3327</td>\n",
       "      <td>18.0645</td>\n",
       "      <td>44033.943287</td>\n",
       "      <td>01d3c51b-9b98-418a-8d8e-37f6fab59d8c</td>\n",
       "      <td>136</td>\n",
       "    </tr>\n",
       "    <tr>\n",
       "      <th>7</th>\n",
       "      <td>fa40b43298ba3f8aa52e8e8863faf2e2171e0b5d</td>\n",
       "      <td>0</td>\n",
       "      <td>25</td>\n",
       "      <td>Sweden</td>\n",
       "      <td>59.3327</td>\n",
       "      <td>18.0645</td>\n",
       "      <td>44033.943287</td>\n",
       "      <td>0383dadf-2a4e-4d10-a46a-e9e041da8eb3</td>\n",
       "      <td>240</td>\n",
       "    </tr>\n",
       "    <tr>\n",
       "      <th>8</th>\n",
       "      <td>fa40b43298ba3f8aa52e8e8863faf2e2171e0b5d</td>\n",
       "      <td>0</td>\n",
       "      <td>25</td>\n",
       "      <td>Sweden</td>\n",
       "      <td>59.3327</td>\n",
       "      <td>18.0645</td>\n",
       "      <td>44033.943287</td>\n",
       "      <td>3f2a12e9-6398-42fd-b257-2f6abd4aa5fc</td>\n",
       "      <td>54</td>\n",
       "    </tr>\n",
       "    <tr>\n",
       "      <th>9</th>\n",
       "      <td>fa40b43298ba3f8aa52e8e8863faf2e2171e0b5d</td>\n",
       "      <td>0</td>\n",
       "      <td>25</td>\n",
       "      <td>Sweden</td>\n",
       "      <td>59.3327</td>\n",
       "      <td>18.0645</td>\n",
       "      <td>44033.943287</td>\n",
       "      <td>67f66c07-6e61-4026-ade5-7e782fad3a5d</td>\n",
       "      <td>84</td>\n",
       "    </tr>\n",
       "  </tbody>\n",
       "</table>\n",
       "</div>"
      ],
      "text/plain": [
       "                                       user  sex  age country  latitudes  \\\n",
       "0  fa40b43298ba3f8aa52e8e8863faf2e2171e0b5d    0   25  Sweden    59.3327   \n",
       "1  fa40b43298ba3f8aa52e8e8863faf2e2171e0b5d    0   25  Sweden    59.3327   \n",
       "2  fa40b43298ba3f8aa52e8e8863faf2e2171e0b5d    0   25  Sweden    59.3327   \n",
       "3  fa40b43298ba3f8aa52e8e8863faf2e2171e0b5d    0   25  Sweden    59.3327   \n",
       "4  fa40b43298ba3f8aa52e8e8863faf2e2171e0b5d    0   25  Sweden    59.3327   \n",
       "5  fa40b43298ba3f8aa52e8e8863faf2e2171e0b5d    0   25  Sweden    59.3327   \n",
       "6  fa40b43298ba3f8aa52e8e8863faf2e2171e0b5d    0   25  Sweden    59.3327   \n",
       "7  fa40b43298ba3f8aa52e8e8863faf2e2171e0b5d    0   25  Sweden    59.3327   \n",
       "8  fa40b43298ba3f8aa52e8e8863faf2e2171e0b5d    0   25  Sweden    59.3327   \n",
       "9  fa40b43298ba3f8aa52e8e8863faf2e2171e0b5d    0   25  Sweden    59.3327   \n",
       "\n",
       "   longitudes           gdp                                artist  plays  \n",
       "0     18.0645  44033.943287  980ee2d8-2ee9-407b-b48e-48360fbc7437     60  \n",
       "1     18.0645  44033.943287  b10bbbfc-cf9e-42e0-be17-e2c3e1d2600d     51  \n",
       "2     18.0645  44033.943287  b616019a-810c-4b05-a558-ad8406f225ff    156  \n",
       "3     18.0645  44033.943287  ebfc1398-8d96-47e3-82c3-f782abcdb13d     32  \n",
       "4     18.0645  44033.943287  8bfac288-ccc5-448d-9573-c33ea2aa5c30     50  \n",
       "5     18.0645  44033.943287  3eb72791-6322-466b-87d3-24d74901eb2d     83  \n",
       "6     18.0645  44033.943287  01d3c51b-9b98-418a-8d8e-37f6fab59d8c    136  \n",
       "7     18.0645  44033.943287  0383dadf-2a4e-4d10-a46a-e9e041da8eb3    240  \n",
       "8     18.0645  44033.943287  3f2a12e9-6398-42fd-b257-2f6abd4aa5fc     54  \n",
       "9     18.0645  44033.943287  67f66c07-6e61-4026-ade5-7e782fad3a5d     84  "
      ]
     },
     "execution_count": 177,
     "metadata": {},
     "output_type": "execute_result"
    }
   ],
   "source": [
    "trainmerge.head(10)"
   ]
  },
  {
   "cell_type": "code",
   "execution_count": 157,
   "metadata": {
    "collapsed": true
   },
   "outputs": [],
   "source": [
    "testmerge = pd.merge(profilesdf, testdf, on='user')"
   ]
  },
  {
   "cell_type": "code",
   "execution_count": 158,
   "metadata": {
    "collapsed": false
   },
   "outputs": [
    {
     "data": {
      "text/html": [
       "<div>\n",
       "<table border=\"1\" class=\"dataframe\">\n",
       "  <thead>\n",
       "    <tr style=\"text-align: right;\">\n",
       "      <th></th>\n",
       "      <th>user</th>\n",
       "      <th>sex</th>\n",
       "      <th>age</th>\n",
       "      <th>country</th>\n",
       "      <th>latitudes</th>\n",
       "      <th>longitudes</th>\n",
       "      <th>gdp</th>\n",
       "      <th>artist</th>\n",
       "    </tr>\n",
       "  </thead>\n",
       "  <tbody>\n",
       "    <tr>\n",
       "      <th>0</th>\n",
       "      <td>fa40b43298ba3f8aa52e8e8863faf2e2171e0b5d</td>\n",
       "      <td>0</td>\n",
       "      <td>25</td>\n",
       "      <td>Sweden</td>\n",
       "      <td>59.3327</td>\n",
       "      <td>18.0645</td>\n",
       "      <td>44033.943287</td>\n",
       "      <td>144ef525-85e9-40c3-8335-02c32d0861f3</td>\n",
       "    </tr>\n",
       "    <tr>\n",
       "      <th>1</th>\n",
       "      <td>fa40b43298ba3f8aa52e8e8863faf2e2171e0b5d</td>\n",
       "      <td>0</td>\n",
       "      <td>25</td>\n",
       "      <td>Sweden</td>\n",
       "      <td>59.3327</td>\n",
       "      <td>18.0645</td>\n",
       "      <td>44033.943287</td>\n",
       "      <td>fbb375f9-48bb-4635-824e-4120273b3ba7</td>\n",
       "    </tr>\n",
       "    <tr>\n",
       "      <th>2</th>\n",
       "      <td>fa40b43298ba3f8aa52e8e8863faf2e2171e0b5d</td>\n",
       "      <td>0</td>\n",
       "      <td>25</td>\n",
       "      <td>Sweden</td>\n",
       "      <td>59.3327</td>\n",
       "      <td>18.0645</td>\n",
       "      <td>44033.943287</td>\n",
       "      <td>d43d12a1-2dc9-4257-a2fd-0a3bb1081b86</td>\n",
       "    </tr>\n",
       "    <tr>\n",
       "      <th>3</th>\n",
       "      <td>fa40b43298ba3f8aa52e8e8863faf2e2171e0b5d</td>\n",
       "      <td>0</td>\n",
       "      <td>25</td>\n",
       "      <td>Sweden</td>\n",
       "      <td>59.3327</td>\n",
       "      <td>18.0645</td>\n",
       "      <td>44033.943287</td>\n",
       "      <td>ea4dfa26-f633-4da6-a52a-f49ea4897b58</td>\n",
       "    </tr>\n",
       "    <tr>\n",
       "      <th>4</th>\n",
       "      <td>fa40b43298ba3f8aa52e8e8863faf2e2171e0b5d</td>\n",
       "      <td>0</td>\n",
       "      <td>25</td>\n",
       "      <td>Sweden</td>\n",
       "      <td>59.3327</td>\n",
       "      <td>18.0645</td>\n",
       "      <td>44033.943287</td>\n",
       "      <td>cc7d4686-ea02-45fd-956e-94c1a322558c</td>\n",
       "    </tr>\n",
       "  </tbody>\n",
       "</table>\n",
       "</div>"
      ],
      "text/plain": [
       "                                       user  sex  age country  latitudes  \\\n",
       "0  fa40b43298ba3f8aa52e8e8863faf2e2171e0b5d    0   25  Sweden    59.3327   \n",
       "1  fa40b43298ba3f8aa52e8e8863faf2e2171e0b5d    0   25  Sweden    59.3327   \n",
       "2  fa40b43298ba3f8aa52e8e8863faf2e2171e0b5d    0   25  Sweden    59.3327   \n",
       "3  fa40b43298ba3f8aa52e8e8863faf2e2171e0b5d    0   25  Sweden    59.3327   \n",
       "4  fa40b43298ba3f8aa52e8e8863faf2e2171e0b5d    0   25  Sweden    59.3327   \n",
       "\n",
       "   longitudes           gdp                                artist  \n",
       "0     18.0645  44033.943287  144ef525-85e9-40c3-8335-02c32d0861f3  \n",
       "1     18.0645  44033.943287  fbb375f9-48bb-4635-824e-4120273b3ba7  \n",
       "2     18.0645  44033.943287  d43d12a1-2dc9-4257-a2fd-0a3bb1081b86  \n",
       "3     18.0645  44033.943287  ea4dfa26-f633-4da6-a52a-f49ea4897b58  \n",
       "4     18.0645  44033.943287  cc7d4686-ea02-45fd-956e-94c1a322558c  "
      ]
     },
     "execution_count": 158,
     "metadata": {},
     "output_type": "execute_result"
    }
   ],
   "source": [
    "testmerge.head()"
   ]
  },
  {
   "cell_type": "markdown",
   "metadata": {},
   "source": [
    "# merge code dump"
   ]
  },
  {
   "cell_type": "code",
   "execution_count": 150,
   "metadata": {
    "collapsed": true
   },
   "outputs": [],
   "source": [
    "a = 'fa40b43298ba3f8aa52e8e8863faf2e2171e0b5d'\n",
    "b = '118276dbaf61bc28a11bfc5abca1042de1990d83'"
   ]
  },
  {
   "cell_type": "code",
   "execution_count": 144,
   "metadata": {
    "collapsed": false
   },
   "outputs": [
    {
     "data": {
      "text/html": [
       "<div>\n",
       "<table border=\"1\" class=\"dataframe\">\n",
       "  <thead>\n",
       "    <tr style=\"text-align: right;\">\n",
       "      <th></th>\n",
       "      <th>user</th>\n",
       "      <th>sex</th>\n",
       "      <th>age</th>\n",
       "      <th>country</th>\n",
       "    </tr>\n",
       "  </thead>\n",
       "  <tbody>\n",
       "    <tr>\n",
       "      <th>0</th>\n",
       "      <td>fa40b43298ba3f8aa52e8e8863faf2e2171e0b5d</td>\n",
       "      <td>f</td>\n",
       "      <td>25</td>\n",
       "      <td>Sweden</td>\n",
       "    </tr>\n",
       "  </tbody>\n",
       "</table>\n",
       "</div>"
      ],
      "text/plain": [
       "                                       user sex  age country\n",
       "0  fa40b43298ba3f8aa52e8e8863faf2e2171e0b5d   f   25  Sweden"
      ]
     },
     "execution_count": 144,
     "metadata": {},
     "output_type": "execute_result"
    }
   ],
   "source": [
    "profilesdf.loc[profilesdf['user'] == a]"
   ]
  },
  {
   "cell_type": "code",
   "execution_count": 147,
   "metadata": {
    "collapsed": false
   },
   "outputs": [
    {
     "data": {
      "text/html": [
       "<div>\n",
       "<table border=\"1\" class=\"dataframe\">\n",
       "  <thead>\n",
       "    <tr style=\"text-align: right;\">\n",
       "      <th></th>\n",
       "      <th>user</th>\n",
       "      <th>artist</th>\n",
       "    </tr>\n",
       "  </thead>\n",
       "  <tbody>\n",
       "    <tr>\n",
       "      <th>42831</th>\n",
       "      <td>fa40b43298ba3f8aa52e8e8863faf2e2171e0b5d</td>\n",
       "      <td>144ef525-85e9-40c3-8335-02c32d0861f3</td>\n",
       "    </tr>\n",
       "    <tr>\n",
       "      <th>324381</th>\n",
       "      <td>fa40b43298ba3f8aa52e8e8863faf2e2171e0b5d</td>\n",
       "      <td>fbb375f9-48bb-4635-824e-4120273b3ba7</td>\n",
       "    </tr>\n",
       "    <tr>\n",
       "      <th>499044</th>\n",
       "      <td>fa40b43298ba3f8aa52e8e8863faf2e2171e0b5d</td>\n",
       "      <td>d43d12a1-2dc9-4257-a2fd-0a3bb1081b86</td>\n",
       "    </tr>\n",
       "    <tr>\n",
       "      <th>706070</th>\n",
       "      <td>fa40b43298ba3f8aa52e8e8863faf2e2171e0b5d</td>\n",
       "      <td>ea4dfa26-f633-4da6-a52a-f49ea4897b58</td>\n",
       "    </tr>\n",
       "    <tr>\n",
       "      <th>737503</th>\n",
       "      <td>fa40b43298ba3f8aa52e8e8863faf2e2171e0b5d</td>\n",
       "      <td>cc7d4686-ea02-45fd-956e-94c1a322558c</td>\n",
       "    </tr>\n",
       "    <tr>\n",
       "      <th>770856</th>\n",
       "      <td>fa40b43298ba3f8aa52e8e8863faf2e2171e0b5d</td>\n",
       "      <td>ffb2d3e3-a4cc-48cf-8fb0-f2f846e9d7b9</td>\n",
       "    </tr>\n",
       "    <tr>\n",
       "      <th>949379</th>\n",
       "      <td>fa40b43298ba3f8aa52e8e8863faf2e2171e0b5d</td>\n",
       "      <td>319b1175-ced9-438f-986b-9239c3edd92d</td>\n",
       "    </tr>\n",
       "    <tr>\n",
       "      <th>1651196</th>\n",
       "      <td>fa40b43298ba3f8aa52e8e8863faf2e2171e0b5d</td>\n",
       "      <td>1723c867-d5c5-4a61-a40b-8c04fa7acf1b</td>\n",
       "    </tr>\n",
       "    <tr>\n",
       "      <th>2111058</th>\n",
       "      <td>fa40b43298ba3f8aa52e8e8863faf2e2171e0b5d</td>\n",
       "      <td>cc197bad-dc9c-440d-a5b5-d52ba2e14234</td>\n",
       "    </tr>\n",
       "    <tr>\n",
       "      <th>2505210</th>\n",
       "      <td>fa40b43298ba3f8aa52e8e8863faf2e2171e0b5d</td>\n",
       "      <td>6e17c8d1-2493-46cc-88d4-64b848a32593</td>\n",
       "    </tr>\n",
       "    <tr>\n",
       "      <th>3106007</th>\n",
       "      <td>fa40b43298ba3f8aa52e8e8863faf2e2171e0b5d</td>\n",
       "      <td>49018fd2-95ef-4f7e-92bb-813159909314</td>\n",
       "    </tr>\n",
       "    <tr>\n",
       "      <th>3140127</th>\n",
       "      <td>fa40b43298ba3f8aa52e8e8863faf2e2171e0b5d</td>\n",
       "      <td>82eb8936-7bf6-4577-8320-a2639465206d</td>\n",
       "    </tr>\n",
       "    <tr>\n",
       "      <th>3686492</th>\n",
       "      <td>fa40b43298ba3f8aa52e8e8863faf2e2171e0b5d</td>\n",
       "      <td>a3cb23fc-acd3-4ce0-8f36-1e5aa6a18432</td>\n",
       "    </tr>\n",
       "    <tr>\n",
       "      <th>3927693</th>\n",
       "      <td>fa40b43298ba3f8aa52e8e8863faf2e2171e0b5d</td>\n",
       "      <td>28503ab7-8bf2-4666-a7bd-2644bfc7cb1d</td>\n",
       "    </tr>\n",
       "  </tbody>\n",
       "</table>\n",
       "</div>"
      ],
      "text/plain": [
       "                                             user  \\\n",
       "42831    fa40b43298ba3f8aa52e8e8863faf2e2171e0b5d   \n",
       "324381   fa40b43298ba3f8aa52e8e8863faf2e2171e0b5d   \n",
       "499044   fa40b43298ba3f8aa52e8e8863faf2e2171e0b5d   \n",
       "706070   fa40b43298ba3f8aa52e8e8863faf2e2171e0b5d   \n",
       "737503   fa40b43298ba3f8aa52e8e8863faf2e2171e0b5d   \n",
       "770856   fa40b43298ba3f8aa52e8e8863faf2e2171e0b5d   \n",
       "949379   fa40b43298ba3f8aa52e8e8863faf2e2171e0b5d   \n",
       "1651196  fa40b43298ba3f8aa52e8e8863faf2e2171e0b5d   \n",
       "2111058  fa40b43298ba3f8aa52e8e8863faf2e2171e0b5d   \n",
       "2505210  fa40b43298ba3f8aa52e8e8863faf2e2171e0b5d   \n",
       "3106007  fa40b43298ba3f8aa52e8e8863faf2e2171e0b5d   \n",
       "3140127  fa40b43298ba3f8aa52e8e8863faf2e2171e0b5d   \n",
       "3686492  fa40b43298ba3f8aa52e8e8863faf2e2171e0b5d   \n",
       "3927693  fa40b43298ba3f8aa52e8e8863faf2e2171e0b5d   \n",
       "\n",
       "                                       artist  \n",
       "42831    144ef525-85e9-40c3-8335-02c32d0861f3  \n",
       "324381   fbb375f9-48bb-4635-824e-4120273b3ba7  \n",
       "499044   d43d12a1-2dc9-4257-a2fd-0a3bb1081b86  \n",
       "706070   ea4dfa26-f633-4da6-a52a-f49ea4897b58  \n",
       "737503   cc7d4686-ea02-45fd-956e-94c1a322558c  \n",
       "770856   ffb2d3e3-a4cc-48cf-8fb0-f2f846e9d7b9  \n",
       "949379   319b1175-ced9-438f-986b-9239c3edd92d  \n",
       "1651196  1723c867-d5c5-4a61-a40b-8c04fa7acf1b  \n",
       "2111058  cc197bad-dc9c-440d-a5b5-d52ba2e14234  \n",
       "2505210  6e17c8d1-2493-46cc-88d4-64b848a32593  \n",
       "3106007  49018fd2-95ef-4f7e-92bb-813159909314  \n",
       "3140127  82eb8936-7bf6-4577-8320-a2639465206d  \n",
       "3686492  a3cb23fc-acd3-4ce0-8f36-1e5aa6a18432  \n",
       "3927693  28503ab7-8bf2-4666-a7bd-2644bfc7cb1d  "
      ]
     },
     "execution_count": 147,
     "metadata": {},
     "output_type": "execute_result"
    }
   ],
   "source": [
    "testdf.loc[testdf['user'] == a]"
   ]
  },
  {
   "cell_type": "code",
   "execution_count": 151,
   "metadata": {
    "collapsed": false
   },
   "outputs": [
    {
     "data": {
      "text/html": [
       "<div>\n",
       "<table border=\"1\" class=\"dataframe\">\n",
       "  <thead>\n",
       "    <tr style=\"text-align: right;\">\n",
       "      <th></th>\n",
       "      <th>user</th>\n",
       "      <th>sex</th>\n",
       "      <th>age</th>\n",
       "      <th>country</th>\n",
       "    </tr>\n",
       "  </thead>\n",
       "  <tbody>\n",
       "    <tr>\n",
       "      <th>233285</th>\n",
       "      <td>118276dbaf61bc28a11bfc5abca1042de1990d83</td>\n",
       "      <td>m</td>\n",
       "      <td>21</td>\n",
       "      <td>Germany</td>\n",
       "    </tr>\n",
       "  </tbody>\n",
       "</table>\n",
       "</div>"
      ],
      "text/plain": [
       "                                            user sex  age  country\n",
       "233285  118276dbaf61bc28a11bfc5abca1042de1990d83   m   21  Germany"
      ]
     },
     "execution_count": 151,
     "metadata": {},
     "output_type": "execute_result"
    }
   ],
   "source": [
    "profilesdf.loc[profilesdf['user'] == b]"
   ]
  },
  {
   "cell_type": "code",
   "execution_count": 152,
   "metadata": {
    "collapsed": false
   },
   "outputs": [
    {
     "data": {
      "text/html": [
       "<div>\n",
       "<table border=\"1\" class=\"dataframe\">\n",
       "  <thead>\n",
       "    <tr style=\"text-align: right;\">\n",
       "      <th></th>\n",
       "      <th>user</th>\n",
       "      <th>artist</th>\n",
       "    </tr>\n",
       "  </thead>\n",
       "  <tbody>\n",
       "    <tr>\n",
       "      <th>427331</th>\n",
       "      <td>118276dbaf61bc28a11bfc5abca1042de1990d83</td>\n",
       "      <td>5de80871-f721-4c7c-b0c5-4ad0d350c232</td>\n",
       "    </tr>\n",
       "    <tr>\n",
       "      <th>1049874</th>\n",
       "      <td>118276dbaf61bc28a11bfc5abca1042de1990d83</td>\n",
       "      <td>5e5480be-eded-44ad-9c45-f6136ec2f5db</td>\n",
       "    </tr>\n",
       "    <tr>\n",
       "      <th>1058917</th>\n",
       "      <td>118276dbaf61bc28a11bfc5abca1042de1990d83</td>\n",
       "      <td>7952b266-9fd4-4a09-a324-7dc84f11b5fc</td>\n",
       "    </tr>\n",
       "    <tr>\n",
       "      <th>1218765</th>\n",
       "      <td>118276dbaf61bc28a11bfc5abca1042de1990d83</td>\n",
       "      <td>cfb1c147-1046-4921-9c53-d3a226ebdb0b</td>\n",
       "    </tr>\n",
       "    <tr>\n",
       "      <th>1330604</th>\n",
       "      <td>118276dbaf61bc28a11bfc5abca1042de1990d83</td>\n",
       "      <td>7570a0dd-5a67-401b-b19a-261eee01a284</td>\n",
       "    </tr>\n",
       "    <tr>\n",
       "      <th>1457441</th>\n",
       "      <td>118276dbaf61bc28a11bfc5abca1042de1990d83</td>\n",
       "      <td>aaf09f31-bb5c-43e5-9f54-bb6554c33a71</td>\n",
       "    </tr>\n",
       "    <tr>\n",
       "      <th>1734046</th>\n",
       "      <td>118276dbaf61bc28a11bfc5abca1042de1990d83</td>\n",
       "      <td>148ddea2-6839-4354-8e2c-5dfadf136b7f</td>\n",
       "    </tr>\n",
       "    <tr>\n",
       "      <th>1864899</th>\n",
       "      <td>118276dbaf61bc28a11bfc5abca1042de1990d83</td>\n",
       "      <td>614e3804-7d34-41ba-857f-811bad7c2b7a</td>\n",
       "    </tr>\n",
       "    <tr>\n",
       "      <th>2121169</th>\n",
       "      <td>118276dbaf61bc28a11bfc5abca1042de1990d83</td>\n",
       "      <td>0743b15a-3c32-48c8-ad58-cb325350befa</td>\n",
       "    </tr>\n",
       "    <tr>\n",
       "      <th>2247131</th>\n",
       "      <td>118276dbaf61bc28a11bfc5abca1042de1990d83</td>\n",
       "      <td>ef6e2e49-aa93-41bd-89b0-8c7d2f260a83</td>\n",
       "    </tr>\n",
       "    <tr>\n",
       "      <th>2318123</th>\n",
       "      <td>118276dbaf61bc28a11bfc5abca1042de1990d83</td>\n",
       "      <td>bc710bcf-8815-42cf-bad2-3f1d12246aeb</td>\n",
       "    </tr>\n",
       "    <tr>\n",
       "      <th>2734941</th>\n",
       "      <td>118276dbaf61bc28a11bfc5abca1042de1990d83</td>\n",
       "      <td>36e371e9-e76b-4b66-b813-e1d1af6d7128</td>\n",
       "    </tr>\n",
       "    <tr>\n",
       "      <th>3268913</th>\n",
       "      <td>118276dbaf61bc28a11bfc5abca1042de1990d83</td>\n",
       "      <td>5c2717ab-3b1e-4043-8874-e88ecf391cc9</td>\n",
       "    </tr>\n",
       "    <tr>\n",
       "      <th>3645488</th>\n",
       "      <td>118276dbaf61bc28a11bfc5abca1042de1990d83</td>\n",
       "      <td>4bb4e4e4-5f66-4509-98af-62dbb90c45c5</td>\n",
       "    </tr>\n",
       "    <tr>\n",
       "      <th>3922179</th>\n",
       "      <td>118276dbaf61bc28a11bfc5abca1042de1990d83</td>\n",
       "      <td>e9e9109e-5914-48c8-a7e6-a95dd94bd345</td>\n",
       "    </tr>\n",
       "    <tr>\n",
       "      <th>3985390</th>\n",
       "      <td>118276dbaf61bc28a11bfc5abca1042de1990d83</td>\n",
       "      <td>87a73cf0-ebdf-483d-8b5a-3db1e5e72122</td>\n",
       "    </tr>\n",
       "  </tbody>\n",
       "</table>\n",
       "</div>"
      ],
      "text/plain": [
       "                                             user  \\\n",
       "427331   118276dbaf61bc28a11bfc5abca1042de1990d83   \n",
       "1049874  118276dbaf61bc28a11bfc5abca1042de1990d83   \n",
       "1058917  118276dbaf61bc28a11bfc5abca1042de1990d83   \n",
       "1218765  118276dbaf61bc28a11bfc5abca1042de1990d83   \n",
       "1330604  118276dbaf61bc28a11bfc5abca1042de1990d83   \n",
       "1457441  118276dbaf61bc28a11bfc5abca1042de1990d83   \n",
       "1734046  118276dbaf61bc28a11bfc5abca1042de1990d83   \n",
       "1864899  118276dbaf61bc28a11bfc5abca1042de1990d83   \n",
       "2121169  118276dbaf61bc28a11bfc5abca1042de1990d83   \n",
       "2247131  118276dbaf61bc28a11bfc5abca1042de1990d83   \n",
       "2318123  118276dbaf61bc28a11bfc5abca1042de1990d83   \n",
       "2734941  118276dbaf61bc28a11bfc5abca1042de1990d83   \n",
       "3268913  118276dbaf61bc28a11bfc5abca1042de1990d83   \n",
       "3645488  118276dbaf61bc28a11bfc5abca1042de1990d83   \n",
       "3922179  118276dbaf61bc28a11bfc5abca1042de1990d83   \n",
       "3985390  118276dbaf61bc28a11bfc5abca1042de1990d83   \n",
       "\n",
       "                                       artist  \n",
       "427331   5de80871-f721-4c7c-b0c5-4ad0d350c232  \n",
       "1049874  5e5480be-eded-44ad-9c45-f6136ec2f5db  \n",
       "1058917  7952b266-9fd4-4a09-a324-7dc84f11b5fc  \n",
       "1218765  cfb1c147-1046-4921-9c53-d3a226ebdb0b  \n",
       "1330604  7570a0dd-5a67-401b-b19a-261eee01a284  \n",
       "1457441  aaf09f31-bb5c-43e5-9f54-bb6554c33a71  \n",
       "1734046  148ddea2-6839-4354-8e2c-5dfadf136b7f  \n",
       "1864899  614e3804-7d34-41ba-857f-811bad7c2b7a  \n",
       "2121169  0743b15a-3c32-48c8-ad58-cb325350befa  \n",
       "2247131  ef6e2e49-aa93-41bd-89b0-8c7d2f260a83  \n",
       "2318123  bc710bcf-8815-42cf-bad2-3f1d12246aeb  \n",
       "2734941  36e371e9-e76b-4b66-b813-e1d1af6d7128  \n",
       "3268913  5c2717ab-3b1e-4043-8874-e88ecf391cc9  \n",
       "3645488  4bb4e4e4-5f66-4509-98af-62dbb90c45c5  \n",
       "3922179  e9e9109e-5914-48c8-a7e6-a95dd94bd345  \n",
       "3985390  87a73cf0-ebdf-483d-8b5a-3db1e5e72122  "
      ]
     },
     "execution_count": 152,
     "metadata": {},
     "output_type": "execute_result"
    }
   ],
   "source": [
    "testdf.loc[testdf['user'] == b]"
   ]
  },
  {
   "cell_type": "code",
   "execution_count": 140,
   "metadata": {
    "collapsed": false
   },
   "outputs": [
    {
     "data": {
      "text/plain": [
       "(4154804, 5)"
      ]
     },
     "execution_count": 140,
     "metadata": {},
     "output_type": "execute_result"
    }
   ],
   "source": [
    "merged.shape"
   ]
  },
  {
   "cell_type": "code",
   "execution_count": 141,
   "metadata": {
    "collapsed": false
   },
   "outputs": [
    {
     "data": {
      "text/plain": [
       "(4154804, 2)"
      ]
     },
     "execution_count": 141,
     "metadata": {},
     "output_type": "execute_result"
    }
   ],
   "source": [
    "testdf.shape"
   ]
  },
  {
   "cell_type": "code",
   "execution_count": 142,
   "metadata": {
    "collapsed": false
   },
   "outputs": [
    {
     "data": {
      "text/plain": [
       "(233286, 4)"
      ]
     },
     "execution_count": 142,
     "metadata": {},
     "output_type": "execute_result"
    }
   ],
   "source": [
    "profilesdf.shape"
   ]
  },
  {
   "cell_type": "markdown",
   "metadata": {},
   "source": [
    "# outlier detection, normalization"
   ]
  },
  {
   "cell_type": "code",
   "execution_count": 181,
   "metadata": {
    "collapsed": false
   },
   "outputs": [
    {
     "data": {
      "text/html": [
       "<div>\n",
       "<table border=\"1\" class=\"dataframe\">\n",
       "  <thead>\n",
       "    <tr style=\"text-align: right;\">\n",
       "      <th></th>\n",
       "      <th>user</th>\n",
       "      <th>sex</th>\n",
       "      <th>age</th>\n",
       "      <th>country</th>\n",
       "      <th>latitudes</th>\n",
       "      <th>longitudes</th>\n",
       "      <th>gdp</th>\n",
       "    </tr>\n",
       "  </thead>\n",
       "  <tbody>\n",
       "    <tr>\n",
       "      <th>0</th>\n",
       "      <td>fa40b43298ba3f8aa52e8e8863faf2e2171e0b5d</td>\n",
       "      <td>0</td>\n",
       "      <td>25</td>\n",
       "      <td>Sweden</td>\n",
       "      <td>59.3327</td>\n",
       "      <td>18.06450</td>\n",
       "      <td>44033.943287</td>\n",
       "    </tr>\n",
       "    <tr>\n",
       "      <th>1</th>\n",
       "      <td>5909125332c108365a26ccf0ee62636eee08215c</td>\n",
       "      <td>1</td>\n",
       "      <td>29</td>\n",
       "      <td>Iceland</td>\n",
       "      <td>64.1353</td>\n",
       "      <td>-21.89520</td>\n",
       "      <td>41236.473229</td>\n",
       "    </tr>\n",
       "    <tr>\n",
       "      <th>2</th>\n",
       "      <td>d1867cbda35e0d48e9a8390d9f5e079c9d99ea96</td>\n",
       "      <td>1</td>\n",
       "      <td>30</td>\n",
       "      <td>United States</td>\n",
       "      <td>38.8895</td>\n",
       "      <td>-77.03200</td>\n",
       "      <td>52117.745853</td>\n",
       "    </tr>\n",
       "    <tr>\n",
       "      <th>3</th>\n",
       "      <td>63268cce0d68127729890c1691f62d5be5abd87c</td>\n",
       "      <td>1</td>\n",
       "      <td>21</td>\n",
       "      <td>Germany</td>\n",
       "      <td>52.5235</td>\n",
       "      <td>13.41150</td>\n",
       "      <td>43602.359247</td>\n",
       "    </tr>\n",
       "    <tr>\n",
       "      <th>4</th>\n",
       "      <td>02871cd952d607ba69b64e2e107773012c708113</td>\n",
       "      <td>1</td>\n",
       "      <td>24</td>\n",
       "      <td>Netherlands</td>\n",
       "      <td>52.3738</td>\n",
       "      <td>4.89095</td>\n",
       "      <td>45691.392933</td>\n",
       "    </tr>\n",
       "  </tbody>\n",
       "</table>\n",
       "</div>"
      ],
      "text/plain": [
       "                                       user  sex  age        country  \\\n",
       "0  fa40b43298ba3f8aa52e8e8863faf2e2171e0b5d    0   25         Sweden   \n",
       "1  5909125332c108365a26ccf0ee62636eee08215c    1   29        Iceland   \n",
       "2  d1867cbda35e0d48e9a8390d9f5e079c9d99ea96    1   30  United States   \n",
       "3  63268cce0d68127729890c1691f62d5be5abd87c    1   21        Germany   \n",
       "4  02871cd952d607ba69b64e2e107773012c708113    1   24    Netherlands   \n",
       "\n",
       "   latitudes  longitudes           gdp  \n",
       "0    59.3327    18.06450  44033.943287  \n",
       "1    64.1353   -21.89520  41236.473229  \n",
       "2    38.8895   -77.03200  52117.745853  \n",
       "3    52.5235    13.41150  43602.359247  \n",
       "4    52.3738     4.89095  45691.392933  "
      ]
     },
     "execution_count": 181,
     "metadata": {},
     "output_type": "execute_result"
    }
   ],
   "source": [
    "profilesdf.head()"
   ]
  },
  {
   "cell_type": "code",
   "execution_count": 189,
   "metadata": {
    "collapsed": false
   },
   "outputs": [
    {
     "data": {
      "text/plain": [
       "count    188444.000000\n",
       "mean         24.517400\n",
       "std          21.853296\n",
       "min       -1337.000000\n",
       "25%          20.000000\n",
       "50%          23.000000\n",
       "75%          27.000000\n",
       "max        1002.000000\n",
       "Name: age, dtype: float64"
      ]
     },
     "execution_count": 189,
     "metadata": {},
     "output_type": "execute_result"
    }
   ],
   "source": [
    "profilesdf['age'].describe()"
   ]
  },
  {
   "cell_type": "code",
   "execution_count": 190,
   "metadata": {
    "collapsed": false
   },
   "outputs": [
    {
     "data": {
      "text/plain": [
       "count            233286\n",
       "unique              239\n",
       "top       United States\n",
       "freq              48944\n",
       "Name: country, dtype: object"
      ]
     },
     "execution_count": 190,
     "metadata": {},
     "output_type": "execute_result"
    }
   ],
   "source": [
    "profilesdf['country'].describe()"
   ]
  },
  {
   "cell_type": "code",
   "execution_count": 178,
   "metadata": {
    "collapsed": false
   },
   "outputs": [
    {
     "data": {
      "text/plain": [
       "count    230242.000000\n",
       "mean         -8.538155\n",
       "std          53.595012\n",
       "min        -175.216000\n",
       "25%         -75.691900\n",
       "50%           4.367610\n",
       "75%          18.064500\n",
       "max         179.089567\n",
       "Name: longitudes, dtype: float64"
      ]
     },
     "execution_count": 178,
     "metadata": {},
     "output_type": "execute_result"
    }
   ],
   "source": [
    "profilesdf['longitudes'].describe()"
   ]
  },
  {
   "cell_type": "code",
   "execution_count": 179,
   "metadata": {
    "collapsed": false
   },
   "outputs": [
    {
     "data": {
      "text/plain": [
       "count    230242.000000\n",
       "mean         40.141652\n",
       "std          22.661198\n",
       "min         -41.286500\n",
       "25%          38.889500\n",
       "50%          46.948000\n",
       "75%          52.373800\n",
       "max          64.183600\n",
       "Name: latitudes, dtype: float64"
      ]
     },
     "execution_count": 179,
     "metadata": {},
     "output_type": "execute_result"
    }
   ],
   "source": [
    "profilesdf['latitudes'].describe()"
   ]
  },
  {
   "cell_type": "code",
   "execution_count": 180,
   "metadata": {
    "collapsed": false
   },
   "outputs": [
    {
     "data": {
      "text/plain": [
       "count    228069.000000\n",
       "mean      37682.380964\n",
       "std       13291.468400\n",
       "min         566.846007\n",
       "25%       25813.097164\n",
       "50%       38534.988209\n",
       "75%       48430.925586\n",
       "max      134182.414721\n",
       "Name: gdp, dtype: float64"
      ]
     },
     "execution_count": 180,
     "metadata": {},
     "output_type": "execute_result"
    }
   ],
   "source": [
    "profilesdf['gdp'].describe()"
   ]
  },
  {
   "cell_type": "markdown",
   "metadata": {},
   "source": [
    "## standardization"
   ]
  },
  {
   "cell_type": "code",
   "execution_count": 191,
   "metadata": {
    "collapsed": true
   },
   "outputs": [],
   "source": [
    "from sklearn import preprocessing"
   ]
  },
  {
   "cell_type": "code",
   "execution_count": null,
   "metadata": {
    "collapsed": true
   },
   "outputs": [],
   "source": [
    "std_scale = preprocessing.StandardScaler().fit(X_train)\n",
    "X_train_std = std_scale.transform(X_train)\n",
    "X_test_std = std_scale.transform(X_test)"
   ]
  },
  {
   "cell_type": "markdown",
   "metadata": {},
   "source": [
    "# artists dataset"
   ]
  },
  {
   "cell_type": "code",
   "execution_count": 34,
   "metadata": {
    "collapsed": true
   },
   "outputs": [],
   "source": [
    "artistsdf = pd.DataFrame.from_csv(artists_file)"
   ]
  },
  {
   "cell_type": "code",
   "execution_count": 35,
   "metadata": {
    "collapsed": false
   },
   "outputs": [
    {
     "data": {
      "text/html": [
       "<div>\n",
       "<table border=\"1\" class=\"dataframe\">\n",
       "  <thead>\n",
       "    <tr style=\"text-align: right;\">\n",
       "      <th></th>\n",
       "      <th>name</th>\n",
       "    </tr>\n",
       "    <tr>\n",
       "      <th>artist</th>\n",
       "      <th></th>\n",
       "    </tr>\n",
       "  </thead>\n",
       "  <tbody>\n",
       "    <tr>\n",
       "      <th>03098741-08b3-4dd7-b3f6-1b0bfa2c879c</th>\n",
       "      <td>Liars</td>\n",
       "    </tr>\n",
       "    <tr>\n",
       "      <th>69c4cc43-8163-41c5-ac81-30946d27bb69</th>\n",
       "      <td>CunninLynguists</td>\n",
       "    </tr>\n",
       "    <tr>\n",
       "      <th>7a2e6b55-f149-4e74-be6a-30a1b1a387bb</th>\n",
       "      <td>The Desert Sessions</td>\n",
       "    </tr>\n",
       "    <tr>\n",
       "      <th>7002bf88-1269-4965-a772-4ba1e7a91eaa</th>\n",
       "      <td>Glenn Gould</td>\n",
       "    </tr>\n",
       "    <tr>\n",
       "      <th>dbf7c761-e332-467b-b4d9-aafe06bbcf8f</th>\n",
       "      <td>G. Love &amp; Special Sauce</td>\n",
       "    </tr>\n",
       "  </tbody>\n",
       "</table>\n",
       "</div>"
      ],
      "text/plain": [
       "                                                         name\n",
       "artist                                                       \n",
       "03098741-08b3-4dd7-b3f6-1b0bfa2c879c                    Liars\n",
       "69c4cc43-8163-41c5-ac81-30946d27bb69          CunninLynguists\n",
       "7a2e6b55-f149-4e74-be6a-30a1b1a387bb      The Desert Sessions\n",
       "7002bf88-1269-4965-a772-4ba1e7a91eaa              Glenn Gould\n",
       "dbf7c761-e332-467b-b4d9-aafe06bbcf8f  G. Love & Special Sauce"
      ]
     },
     "execution_count": 35,
     "metadata": {},
     "output_type": "execute_result"
    }
   ],
   "source": [
    "artistsdf.head()"
   ]
  },
  {
   "cell_type": "code",
   "execution_count": 36,
   "metadata": {
    "collapsed": false
   },
   "outputs": [
    {
     "data": {
      "text/plain": [
       "(2000, 1)"
      ]
     },
     "execution_count": 36,
     "metadata": {},
     "output_type": "execute_result"
    }
   ],
   "source": [
    "artistsdf.shape"
   ]
  },
  {
   "cell_type": "markdown",
   "metadata": {},
   "source": [
    "# median datasets"
   ]
  },
  {
   "cell_type": "code",
   "execution_count": 167,
   "metadata": {
    "collapsed": true
   },
   "outputs": [],
   "source": [
    "usermediandf = pd.DataFrame.from_csv(user_median_file)\n",
    "globalmediandf = pd.DataFrame.from_csv(global_median_file)"
   ]
  },
  {
   "cell_type": "code",
   "execution_count": 168,
   "metadata": {
    "collapsed": false
   },
   "outputs": [
    {
     "data": {
      "text/html": [
       "<div>\n",
       "<table border=\"1\" class=\"dataframe\">\n",
       "  <thead>\n",
       "    <tr style=\"text-align: right;\">\n",
       "      <th></th>\n",
       "      <th>plays</th>\n",
       "    </tr>\n",
       "    <tr>\n",
       "      <th>Id</th>\n",
       "      <th></th>\n",
       "    </tr>\n",
       "  </thead>\n",
       "  <tbody>\n",
       "    <tr>\n",
       "      <th>1</th>\n",
       "      <td>72.5</td>\n",
       "    </tr>\n",
       "    <tr>\n",
       "      <th>2</th>\n",
       "      <td>143.5</td>\n",
       "    </tr>\n",
       "    <tr>\n",
       "      <th>3</th>\n",
       "      <td>207.0</td>\n",
       "    </tr>\n",
       "    <tr>\n",
       "      <th>4</th>\n",
       "      <td>307.0</td>\n",
       "    </tr>\n",
       "    <tr>\n",
       "      <th>5</th>\n",
       "      <td>109.0</td>\n",
       "    </tr>\n",
       "  </tbody>\n",
       "</table>\n",
       "</div>"
      ],
      "text/plain": [
       "    plays\n",
       "Id       \n",
       "1    72.5\n",
       "2   143.5\n",
       "3   207.0\n",
       "4   307.0\n",
       "5   109.0"
      ]
     },
     "execution_count": 168,
     "metadata": {},
     "output_type": "execute_result"
    }
   ],
   "source": [
    "usermediandf.head()"
   ]
  },
  {
   "cell_type": "code",
   "execution_count": 170,
   "metadata": {
    "collapsed": false
   },
   "outputs": [
    {
     "data": {
      "text/plain": [
       "(4154804, 1)"
      ]
     },
     "execution_count": 170,
     "metadata": {},
     "output_type": "execute_result"
    }
   ],
   "source": [
    "usermediandf.shape"
   ]
  },
  {
   "cell_type": "code",
   "execution_count": 39,
   "metadata": {
    "collapsed": false
   },
   "outputs": [
    {
     "data": {
      "text/html": [
       "<div>\n",
       "<table border=\"1\" class=\"dataframe\">\n",
       "  <thead>\n",
       "    <tr style=\"text-align: right;\">\n",
       "      <th></th>\n",
       "      <th>plays</th>\n",
       "    </tr>\n",
       "    <tr>\n",
       "      <th>Id</th>\n",
       "      <th></th>\n",
       "    </tr>\n",
       "  </thead>\n",
       "  <tbody>\n",
       "    <tr>\n",
       "      <th>1</th>\n",
       "      <td>118</td>\n",
       "    </tr>\n",
       "    <tr>\n",
       "      <th>2</th>\n",
       "      <td>118</td>\n",
       "    </tr>\n",
       "    <tr>\n",
       "      <th>3</th>\n",
       "      <td>118</td>\n",
       "    </tr>\n",
       "    <tr>\n",
       "      <th>4</th>\n",
       "      <td>118</td>\n",
       "    </tr>\n",
       "    <tr>\n",
       "      <th>5</th>\n",
       "      <td>118</td>\n",
       "    </tr>\n",
       "  </tbody>\n",
       "</table>\n",
       "</div>"
      ],
      "text/plain": [
       "    plays\n",
       "Id       \n",
       "1     118\n",
       "2     118\n",
       "3     118\n",
       "4     118\n",
       "5     118"
      ]
     },
     "execution_count": 39,
     "metadata": {},
     "output_type": "execute_result"
    }
   ],
   "source": [
    "globalmediandf.head()"
   ]
  },
  {
   "cell_type": "code",
   "execution_count": 40,
   "metadata": {
    "collapsed": false
   },
   "outputs": [
    {
     "name": "stdout",
     "output_type": "stream",
     "text": [
      "(4154804, 1) (4154804, 1)\n"
     ]
    }
   ],
   "source": [
    "print usermediandf.shape, globalmediandf.shape"
   ]
  },
  {
   "cell_type": "markdown",
   "metadata": {},
   "source": [
    "# K Means"
   ]
  },
  {
   "cell_type": "code",
   "execution_count": 17,
   "metadata": {
    "collapsed": true
   },
   "outputs": [],
   "source": [
    "from sklearn import cluster\n",
    "from sklearn.cross_validation import train_test_split"
   ]
  },
  {
   "cell_type": "code",
   "execution_count": 14,
   "metadata": {
    "collapsed": false
   },
   "outputs": [],
   "source": [
    "X = traindf.fillna(0).values"
   ]
  },
  {
   "cell_type": "code",
   "execution_count": 18,
   "metadata": {
    "collapsed": false
   },
   "outputs": [],
   "source": [
    "X_train, X_valid = train_test_split(X, test_size=0.33, random_state=42)"
   ]
  },
  {
   "cell_type": "code",
   "execution_count": 19,
   "metadata": {
    "collapsed": false
   },
   "outputs": [
    {
     "name": "stdout",
     "output_type": "stream",
     "text": [
      "CPU times: user 3min 7s, sys: 2min 6s, total: 5min 14s\n",
      "Wall time: 7min 35s\n"
     ]
    }
   ],
   "source": [
    "%%time\n",
    "k_means = cluster.KMeans()\n",
    "k_means.fit(X_train)"
   ]
  },
  {
   "cell_type": "code",
   "execution_count": 20,
   "metadata": {
    "collapsed": false
   },
   "outputs": [
    {
     "data": {
      "text/plain": [
       "array([0, 0, 0, 0, 0, 0, 0, 0, 0, 0, 0, 0, 0, 0, 0, 0, 0, 0, 0, 0, 0, 0, 0,\n",
       "       0, 0, 0, 0, 0, 0, 0, 0, 0, 0, 0, 0, 0, 0, 0, 0, 0, 0, 0, 0, 0, 0, 0,\n",
       "       0, 0, 0, 0, 0, 0, 0, 0, 0, 0, 0, 0, 0, 0, 0, 0, 0, 0, 0, 0, 0, 0, 0,\n",
       "       0, 0, 0, 0, 0, 0, 0, 0, 0, 0, 0, 0, 0, 0, 0, 0, 0, 0, 0, 0, 0, 0, 0,\n",
       "       0, 0, 0, 0, 0, 0, 0, 0, 0, 0, 0, 0, 0, 0, 0, 0, 0, 0, 0, 0, 0, 0, 0,\n",
       "       0, 0, 0, 0, 0, 0, 0, 0, 0, 0, 0, 0, 0, 0, 0, 0, 0, 0, 0, 0, 0, 0, 0,\n",
       "       0, 0, 0, 0, 0, 0, 0, 0, 0, 0, 0, 0, 0, 0, 0, 0, 0, 0, 0, 0, 0, 0, 0,\n",
       "       0, 0, 0, 0, 0, 0, 0, 0, 0, 0, 0, 0, 0, 0, 0, 0, 0, 0, 0, 0, 0, 0, 0,\n",
       "       0, 0, 0, 0, 0, 0, 0, 0, 0, 0, 0, 0, 0, 0, 0, 0, 0, 0, 0, 0, 0, 0, 0,\n",
       "       0, 0, 0, 0, 0, 0, 0, 0, 0, 0, 0, 0, 0, 0, 0, 0, 0, 0, 0, 0, 0, 0, 0,\n",
       "       0, 0, 0, 0, 0, 0, 0, 0, 0, 0, 0, 0, 0, 0, 0, 0, 0, 0, 0, 0, 0, 0, 0,\n",
       "       0, 0, 0, 0, 0, 0, 0, 0, 0, 0, 0, 0, 0, 0, 0, 0, 0, 0, 0, 0, 0, 0, 0,\n",
       "       0, 0, 0, 0, 0, 0, 0, 0, 0, 0, 0, 0, 0, 0, 0, 0, 0, 0, 0, 0, 0, 0, 0,\n",
       "       0, 0, 0, 0, 0, 0, 0, 0, 0, 0, 0, 0, 0, 0, 0, 0, 0, 0, 0, 0, 0, 0, 0,\n",
       "       0, 0, 0, 0, 0, 0, 0, 0, 0, 0, 0, 0, 0, 0, 0, 0, 0, 0, 0, 0, 0, 0, 0,\n",
       "       0, 0, 0, 0, 0, 0, 0, 0, 0, 0, 0, 0, 0, 0, 0, 0, 0, 0, 0, 0, 0, 0, 0,\n",
       "       0, 0, 0, 0, 0, 0, 0, 0, 0, 0, 0, 0, 0, 0, 0, 0, 0, 0, 0, 0, 0, 0, 0,\n",
       "       0, 0, 0, 0, 0, 0, 0, 0, 0, 0, 0, 0, 0, 0, 0, 0, 0, 0, 0, 0, 0, 0, 0,\n",
       "       0, 0, 0, 0, 0, 0, 0, 0, 0, 0, 0, 0, 0, 0, 0, 0, 0, 0, 0, 0, 0, 0, 0,\n",
       "       0, 0, 0, 0, 0, 0, 0, 0, 0, 0, 0, 0, 0, 0, 0, 0, 0, 0, 0, 0, 0, 0, 0,\n",
       "       0, 0, 0, 0, 0, 0, 0, 0, 0, 0, 0, 0, 0, 0, 0, 0, 0, 0, 0, 0, 0, 0, 0,\n",
       "       0, 0, 0, 0, 0, 0, 0, 0, 0, 0, 0, 0, 0, 0, 0, 0, 0, 0, 0, 0, 0, 0, 0,\n",
       "       0, 0, 0, 0, 0, 0, 0, 0, 0, 0, 0, 0, 0, 0, 0, 0, 0, 0, 0, 0, 0, 0, 0,\n",
       "       0, 0, 0, 0, 0, 0, 0, 0, 0, 0, 0, 0, 0, 0, 0, 0, 0, 0, 0, 0, 0, 0, 0,\n",
       "       0, 0, 0, 0, 0, 0, 0, 0, 0, 0, 0, 0, 0, 0, 0, 0, 0, 0, 0, 0, 0, 0, 0,\n",
       "       0, 0, 0, 0, 0, 0, 0, 0, 0, 0, 0, 0, 0, 0, 0, 0, 0, 0, 0, 0, 0, 0, 0,\n",
       "       0, 0, 0, 0, 0, 0, 0, 0, 0, 0, 0, 0, 0, 0, 0, 0, 0, 0, 0, 0, 0, 0, 0,\n",
       "       0, 0, 0, 0, 0, 0, 0, 0, 0, 0, 0, 0, 0, 0, 0, 0, 0, 0, 0, 0, 0, 0, 0,\n",
       "       0, 0, 0, 0, 0, 0, 0, 0, 0, 0, 0, 0, 0, 0, 0, 0], dtype=int32)"
      ]
     },
     "execution_count": 20,
     "metadata": {},
     "output_type": "execute_result"
    }
   ],
   "source": [
    "k_means.predict(X_valid)"
   ]
  },
  {
   "cell_type": "code",
   "execution_count": 21,
   "metadata": {
    "collapsed": false
   },
   "outputs": [
    {
     "data": {
      "text/plain": [
       "660"
      ]
     },
     "execution_count": 21,
     "metadata": {},
     "output_type": "execute_result"
    }
   ],
   "source": [
    "len(k_means.predict(X_valid))"
   ]
  },
  {
   "cell_type": "code",
   "execution_count": 22,
   "metadata": {
    "collapsed": false
   },
   "outputs": [
    {
     "data": {
      "text/plain": [
       "(1340, 233286)"
      ]
     },
     "execution_count": 22,
     "metadata": {},
     "output_type": "execute_result"
    }
   ],
   "source": [
    "X_train.shape"
   ]
  },
  {
   "cell_type": "code",
   "execution_count": 23,
   "metadata": {
    "collapsed": false
   },
   "outputs": [
    {
     "data": {
      "text/plain": [
       "(660, 233286)"
      ]
     },
     "execution_count": 23,
     "metadata": {},
     "output_type": "execute_result"
    }
   ],
   "source": [
    "X_valid.shape"
   ]
  },
  {
   "cell_type": "markdown",
   "metadata": {
    "collapsed": true
   },
   "source": [
    "# pycountry and wbdata dump"
   ]
  },
  {
   "cell_type": "code",
   "execution_count": 8,
   "metadata": {
    "collapsed": false
   },
   "outputs": [],
   "source": [
    "import pycountry"
   ]
  },
  {
   "cell_type": "code",
   "execution_count": 97,
   "metadata": {
    "collapsed": false
   },
   "outputs": [],
   "source": [
    "pycodes = {}\n",
    "for country in set(profilesdf['country']):\n",
    "    pycodes[country] = pycountries.get(country, None)"
   ]
  },
  {
   "cell_type": "code",
   "execution_count": 111,
   "metadata": {
    "collapsed": false
   },
   "outputs": [
    {
     "ename": "KeyError",
     "evalue": "u'CA'",
     "output_type": "error",
     "traceback": [
      "\u001b[0;31m---------------------------------------------------------------------------\u001b[0m",
      "\u001b[0;31mKeyError\u001b[0m                                  Traceback (most recent call last)",
      "\u001b[0;32m<ipython-input-111-642bc55405e6>\u001b[0m in \u001b[0;36m<module>\u001b[0;34m()\u001b[0m\n\u001b[1;32m      1\u001b[0m \u001b[0mpylanguages\u001b[0m \u001b[0;34m=\u001b[0m \u001b[0;34m{\u001b[0m\u001b[0;34m}\u001b[0m\u001b[0;34m\u001b[0m\u001b[0m\n\u001b[1;32m      2\u001b[0m \u001b[0;32mfor\u001b[0m \u001b[0mcountry\u001b[0m \u001b[0;32min\u001b[0m \u001b[0mset\u001b[0m\u001b[0;34m(\u001b[0m\u001b[0mprofilesdf\u001b[0m\u001b[0;34m[\u001b[0m\u001b[0;34m'country'\u001b[0m\u001b[0;34m]\u001b[0m\u001b[0;34m)\u001b[0m\u001b[0;34m:\u001b[0m\u001b[0;34m\u001b[0m\u001b[0m\n\u001b[0;32m----> 3\u001b[0;31m     \u001b[0mpylanguages\u001b[0m\u001b[0;34m[\u001b[0m\u001b[0mcountry\u001b[0m\u001b[0;34m]\u001b[0m \u001b[0;34m=\u001b[0m \u001b[0mpycountry\u001b[0m\u001b[0;34m.\u001b[0m\u001b[0mlanguages\u001b[0m\u001b[0;34m.\u001b[0m\u001b[0mget\u001b[0m\u001b[0;34m(\u001b[0m\u001b[0miso639_1_code\u001b[0m\u001b[0;34m=\u001b[0m\u001b[0mpycodes\u001b[0m\u001b[0;34m[\u001b[0m\u001b[0mcountry\u001b[0m\u001b[0;34m]\u001b[0m\u001b[0;34m)\u001b[0m\u001b[0;34m\u001b[0m\u001b[0m\n\u001b[0m",
      "\u001b[0;32m/Users/Luke/anaconda/lib/python2.7/site-packages/pycountry/db.pyc\u001b[0m in \u001b[0;36mload_if_needed\u001b[0;34m(self, *args, **kw)\u001b[0m\n\u001b[1;32m     19\u001b[0m         \u001b[0;32mif\u001b[0m \u001b[0;32mnot\u001b[0m \u001b[0mself\u001b[0m\u001b[0;34m.\u001b[0m\u001b[0m_is_loaded\u001b[0m\u001b[0;34m:\u001b[0m\u001b[0;34m\u001b[0m\u001b[0m\n\u001b[1;32m     20\u001b[0m             \u001b[0mself\u001b[0m\u001b[0;34m.\u001b[0m\u001b[0m_load\u001b[0m\u001b[0;34m(\u001b[0m\u001b[0;34m)\u001b[0m\u001b[0;34m\u001b[0m\u001b[0m\n\u001b[0;32m---> 21\u001b[0;31m         \u001b[0;32mreturn\u001b[0m \u001b[0mf\u001b[0m\u001b[0;34m(\u001b[0m\u001b[0mself\u001b[0m\u001b[0;34m,\u001b[0m \u001b[0;34m*\u001b[0m\u001b[0margs\u001b[0m\u001b[0;34m,\u001b[0m \u001b[0;34m**\u001b[0m\u001b[0mkw\u001b[0m\u001b[0;34m)\u001b[0m\u001b[0;34m\u001b[0m\u001b[0m\n\u001b[0m\u001b[1;32m     22\u001b[0m     \u001b[0;32mreturn\u001b[0m \u001b[0mload_if_needed\u001b[0m\u001b[0;34m\u001b[0m\u001b[0m\n\u001b[1;32m     23\u001b[0m \u001b[0;34m\u001b[0m\u001b[0m\n",
      "\u001b[0;32m/Users/Luke/anaconda/lib/python2.7/site-packages/pycountry/db.pyc\u001b[0m in \u001b[0;36mget\u001b[0;34m(self, **kw)\u001b[0m\n\u001b[1;32m    126\u001b[0m         \u001b[0;32massert\u001b[0m \u001b[0mlen\u001b[0m\u001b[0;34m(\u001b[0m\u001b[0mkw\u001b[0m\u001b[0;34m)\u001b[0m \u001b[0;34m==\u001b[0m \u001b[0;36m1\u001b[0m\u001b[0;34m,\u001b[0m \u001b[0;34m'Only one criteria may be given.'\u001b[0m\u001b[0;34m\u001b[0m\u001b[0m\n\u001b[1;32m    127\u001b[0m         \u001b[0mfield\u001b[0m\u001b[0;34m,\u001b[0m \u001b[0mvalue\u001b[0m \u001b[0;34m=\u001b[0m \u001b[0mkw\u001b[0m\u001b[0;34m.\u001b[0m\u001b[0mpopitem\u001b[0m\u001b[0;34m(\u001b[0m\u001b[0;34m)\u001b[0m\u001b[0;34m\u001b[0m\u001b[0m\n\u001b[0;32m--> 128\u001b[0;31m         \u001b[0;32mreturn\u001b[0m \u001b[0mself\u001b[0m\u001b[0;34m.\u001b[0m\u001b[0mindices\u001b[0m\u001b[0;34m[\u001b[0m\u001b[0mfield\u001b[0m\u001b[0;34m]\u001b[0m\u001b[0;34m[\u001b[0m\u001b[0mvalue\u001b[0m\u001b[0;34m]\u001b[0m\u001b[0;34m\u001b[0m\u001b[0m\n\u001b[0m",
      "\u001b[0;31mKeyError\u001b[0m: u'CA'"
     ]
    }
   ],
   "source": [
    "pylanguages = {}\n",
    "for country in set(profilesdf['country']):\n",
    "    pylanguages[country] = pycountry.languages.get(iso639_1_code=pycodes[country])"
   ]
  },
  {
   "cell_type": "code",
   "execution_count": 114,
   "metadata": {
    "collapsed": false
   },
   "outputs": [
    {
     "data": {
      "text/plain": [
       "<pycountry.db.Language at 0x1176c7090>"
      ]
     },
     "execution_count": 114,
     "metadata": {},
     "output_type": "execute_result"
    }
   ],
   "source": [
    "list(pycountry.languages)[0]"
   ]
  },
  {
   "cell_type": "code",
   "execution_count": 108,
   "metadata": {
    "collapsed": false
   },
   "outputs": [
    {
     "data": {
      "text/plain": [
       "u'Bengali'"
      ]
     },
     "execution_count": 108,
     "metadata": {},
     "output_type": "execute_result"
    }
   ],
   "source": [
    "bengali.name"
   ]
  },
  {
   "cell_type": "code",
   "execution_count": null,
   "metadata": {
    "collapsed": false
   },
   "outputs": [],
   "source": [
    "currencies = {}\n",
    "for currency in pycountry.currencies:\n",
    "    currencies[currency.name] = currency.numeric\n",
    "\n",
    "money = [currencies.get(country, 'Unknown code') for country in input_countries]"
   ]
  },
  {
   "cell_type": "code",
   "execution_count": 13,
   "metadata": {
    "collapsed": false
   },
   "outputs": [
    {
     "data": {
      "text/plain": [
       "{u'adminregion': {u'id': u'', u'value': u''},\n",
       " u'capitalCity': u'Washington D.C.',\n",
       " u'id': u'USA',\n",
       " u'incomeLevel': {u'id': u'OEC', u'value': u'High income: OECD'},\n",
       " u'iso2Code': u'US',\n",
       " u'latitude': u'38.8895',\n",
       " u'lendingType': {u'id': u'LNX', u'value': u'Not classified'},\n",
       " u'longitude': u'-77.032',\n",
       " u'name': u'United States',\n",
       " u'region': {u'id': u'NAC', u'value': u'North America'}}"
      ]
     },
     "execution_count": 13,
     "metadata": {},
     "output_type": "execute_result"
    }
   ],
   "source": [
    "wbdata.search_countries('United States', display=False)[0]"
   ]
  },
  {
   "cell_type": "code",
   "execution_count": 66,
   "metadata": {
    "collapsed": false
   },
   "outputs": [
    {
     "data": {
      "text/plain": [
       "'NLD'"
      ]
     },
     "execution_count": 66,
     "metadata": {},
     "output_type": "execute_result"
    }
   ],
   "source": [
    "str(wbdata.search_countries('Netherlands', display=False)[0]['id'])"
   ]
  },
  {
   "cell_type": "code",
   "execution_count": 74,
   "metadata": {
    "collapsed": false
   },
   "outputs": [
    {
     "name": "stdout",
     "output_type": "stream",
     "text": [
      "Canada CAN\n",
      "Libyan Arab Jamahiriya None\n",
      "Sao Tome and Principe STP\n",
      "Turkmenistan TKM\n",
      "Saint Helena None\n",
      "Montenegro MNE\n",
      "Lithuania LTU\n",
      "Saint Pierre and Miquelon None\n",
      "Saint Kitts and Nevis None\n",
      "Ethiopia ETH\n",
      "Aruba ABW\n",
      "Sri Lanka LKA\n",
      "Swaziland SWZ\n",
      "Argentina ARG\n",
      "Bolivia BOL\n",
      "Cameroon CMR\n",
      "Burkina Faso BFA\n",
      "Bahrain BHR\n",
      "Saudi Arabia SAU\n",
      "American Samoa ASM\n",
      "Montserrat None\n",
      "United States Minor Outlying Islands None\n",
      "Cocos (Keeling) Islands None\n",
      "Slovenia SVN\n",
      "Guatemala GTM\n",
      "Bosnia and Herzegovina BIH\n",
      "Russian Federation RUS\n",
      "Jordan JOR\n",
      "Virgin Islands, British None\n",
      "Spain ESP\n",
      "Liberia LBR\n",
      "Netherlands NLD\n",
      "Armenia ARM\n",
      "Pakistan PAK\n",
      "Oman OMN\n",
      "Marshall Islands MHL\n",
      "Christmas Island None\n",
      "Gabon GAB\n",
      "Niue None\n",
      "Finland FIN\n",
      "Monaco MCO\n",
      "Bahamas BHS\n",
      "Wallis and Futuna None\n",
      "New Zealand NZL\n",
      "Yemen YEM\n",
      "Jamaica JAM\n",
      "Albania ALB\n",
      "Samoa ASM\n",
      "Norfolk Island None\n",
      "United Arab Emirates ARE\n",
      "Guam GUM\n",
      "India IND\n",
      "Azerbaijan AZE\n",
      "Cote D'Ivoire CIV\n",
      "Lesotho LSO\n",
      "Saint Vincent and the Grenadines None\n",
      "Cyprus CYP\n",
      "Macao MAC\n",
      "Pitcairn None\n",
      "Turkey TUR\n",
      "Afghanistan AFG\n",
      "Czech Republic CZE\n",
      "Eritrea ERI\n",
      "Solomon Islands SLB\n",
      "Viet Nam None\n",
      "Saint Lucia None\n",
      "San Marino SMR\n",
      "French Polynesia PYF\n",
      "France FRA\n",
      "Syrian Arab Republic SYR\n",
      "Bermuda BMU\n",
      "Slovakia None\n",
      "Somalia SOM\n",
      "Peru PER\n",
      "Vanuatu VUT\n",
      "Nauru None\n",
      "Seychelles SYC\n",
      "Norway NOR\n",
      "Malawi MWI\n",
      "Cook Islands None\n",
      "Benin BEN\n",
      "Congo, the Democratic Republic of the None\n",
      "Singapore SGP\n",
      "Botswana BWA\n",
      "Iran, Islamic Republic of None\n",
      "Falkland Islands (Malvinas) None\n",
      "Togo TGO\n",
      "China CHN\n",
      "Micronesia, Federated States of None\n",
      "Timor-Leste TLS\n",
      "Dominican Republic DOM\n",
      "Ukraine UKR\n",
      "Ghana GHA\n",
      "Tonga TON\n",
      "Cayman Islands CYM\n",
      "Western Sahara None\n",
      "Indonesia IDN\n",
      "Central African Republic CAF\n",
      "Mali MLI\n",
      "United States USA\n",
      "Tajikistan TJK\n",
      "Sweden SWE\n",
      "Belarus BLR\n",
      "Guyana GUY\n",
      "Kenya KEN\n",
      "Cambodia KHM\n",
      "Bulgaria BGR\n",
      "Mauritius MUS\n",
      "Romania ROU\n",
      "Angola AGO\n",
      "French Southern Territories None\n",
      "Chad TCD\n",
      "South Africa SXZ\n",
      "Tokelau None\n",
      "Turks and Caicos Islands TCA\n",
      "South Georgia and the South Sandwich Islands None\n",
      "Liechtenstein LIE\n",
      "Qatar QAT\n",
      "Virgin Islands, U.s. None\n",
      "Malaysia MYS\n",
      "Austria AUT\n",
      "Mozambique MOZ\n",
      "Uganda UGA\n",
      "Japan JPN\n",
      "Niger NER\n",
      "Brazil BRA\n",
      "Faroe Islands FRO\n",
      "Kuwait KWT\n",
      "Panama PAN\n",
      "Korea, Republic of None\n",
      "Costa Rica CRI\n",
      "Luxembourg LUX\n",
      "Cape Verde None\n",
      "Andorra AND\n",
      "Gibraltar None\n",
      "Ireland IRL\n",
      "Palau PLW\n",
      "Nigeria NGA\n",
      "Ecuador ECU\n",
      "Bangladesh BGD\n",
      "Australia AUS\n",
      "Algeria DZA\n",
      "El Salvador SLV\n",
      "Tuvalu TUV\n",
      "Gambia GMB\n",
      "Rwanda RWA\n",
      "Chile CHL\n",
      "Puerto Rico PRI\n",
      "Belgium BEL\n",
      "Thailand THA\n",
      "Haiti HTI\n",
      "Belize BLZ\n",
      "Hong Kong HKG\n",
      "Sierra Leone SLE\n",
      "Georgia GEO\n",
      "Lao People's Democratic Republic None\n",
      "Denmark DNK\n",
      "Philippines PHL\n",
      "Namibia NAM\n",
      "Moldova MDA\n",
      "French Guiana None\n",
      "Morocco MAR\n",
      "Croatia HRV\n",
      "Mongolia MNG\n",
      "Guinea-Bissau GNB\n",
      "Kiribati KIR\n",
      "Switzerland CHE\n",
      "Grenada GRD\n",
      "Iraq IRQ\n",
      "Tanzania, United Republic of None\n",
      "Portugal PRT\n",
      "Estonia EST\n",
      "Uruguay URY\n",
      "Equatorial Guinea GNQ\n",
      "Lebanon LBN\n",
      "Svalbard and Jan Mayen None\n",
      "Uzbekistan UZB\n",
      "Tunisia TUN\n",
      "Djibouti DJI\n",
      "Holy See (Vatican City State) None\n",
      "Antigua and Barbuda ATG\n",
      "Dominica DMA\n",
      "Colombia COL\n",
      "Reunion None\n",
      "Burundi BDI\n",
      "Taiwan TWN\n",
      "Nicaragua NIC\n",
      "Barbados BRB\n",
      "Madagascar MDG\n",
      "Italy ITA\n",
      "Bhutan BTN\n",
      "Sudan SDN\n",
      "Nepal NPL\n",
      "Malta MLT\n",
      "Brunei Darussalam BRN\n",
      "Maldives MDV\n",
      "Northern Mariana Islands MNP\n",
      "Suriname SUR\n",
      "Anguilla None\n",
      "Venezuela VEN\n",
      "Netherlands Antilles None\n",
      "Israel ISR\n",
      "Bouvet Island None\n",
      "Iceland ISL\n",
      "Zambia ZMB\n",
      "Senegal SEN\n",
      "Papua New Guinea PNG\n",
      "Zimbabwe ZWE\n",
      "Germany DEU\n",
      "Martinique None\n",
      "Kazakhstan KAZ\n",
      "Poland POL\n",
      "Mauritania MRT\n",
      "Kyrgyzstan None\n",
      "Mayotte None\n",
      "British Indian Ocean Territory None\n",
      "Korea, Democratic People's Republic of None\n",
      "New Caledonia NCL\n",
      "Macedonia MKD\n",
      "Trinidad and Tobago TTO\n",
      "Latvia LVA\n",
      "Hungary HUN\n",
      "Guadeloupe None\n",
      "Greenland GRL\n",
      "Honduras HND\n",
      "Myanmar MMR\n",
      "Mexico MEX\n",
      "Egypt EGY\n",
      "Cuba CUB\n",
      "Serbia SRB\n",
      "Comoros COM\n",
      "United Kingdom GBR\n",
      "Antarctica None\n",
      "Congo COD\n",
      "Heard Island and Mcdonald Islands None\n",
      "Greece GRC\n",
      "Paraguay PRY\n",
      "Fiji FJI\n",
      "Palestinian Territory, Occupied None\n"
     ]
    }
   ],
   "source": [
    "for key, value in country_wbcode.iteritems():\n",
    "    print key, value"
   ]
  },
  {
   "cell_type": "code",
   "execution_count": 92,
   "metadata": {
    "collapsed": false
   },
   "outputs": [
    {
     "name": "stdout",
     "output_type": "stream",
     "text": [
      "6.0.GDPpc_constant      \tGDP per capita, PPP (constant 2011 international $) \n",
      "NV.AGR.PCAP.KD.ZG       \tReal agricultural GDP per capita growth rate (%)\n",
      "NY.GDP.PCAP.CD          \tGDP per capita (current US$)\n",
      "NY.GDP.PCAP.CN          \tGDP per capita (current LCU)\n",
      "NY.GDP.PCAP.KD          \tGDP per capita (constant 2005 US$)\n",
      "NY.GDP.PCAP.KD.ZG       \tGDP per capita growth (annual %)\n",
      "NY.GDP.PCAP.KN          \tGDP per capita (constant LCU)\n",
      "NY.GDP.PCAP.PP.CD       \tGDP per capita, PPP (current international $)\n",
      "NY.GDP.PCAP.PP.KD       \tGDP per capita, PPP (constant 2011 international $)\n",
      "NY.GDP.PCAP.PP.KD.ZG    \tGDP per capita, PPP annual growth (%)\n",
      "SE.XPD.PRIM.PC.ZS       \tGovernment expenditure per primary student as % of GDP per capita (%)\n",
      "SE.XPD.SECO.PC.ZS       \tGovernment expenditure per secondary student as % of GDP per capita (%)\n",
      "SE.XPD.TERT.PC.ZS       \tGovernment expenditure per tertiary student as % of GDP per capita (%)\n",
      "UIS.XUNIT.GDPCAP.2.FSGOV\tGovernment expenditure per lower secondary student as % of GDP per capita (%)\n",
      "UIS.XUNIT.GDPCAP.3.FSGOV\tGovernment expenditure per upper secondary student as % of GDP per capita (%)\n",
      "UIS.XUNIT.GDPCAP.4.FSGOV\tGovernment expenditure per post-secondary non-tertiary student as % of GDP per capita (%)\n"
     ]
    }
   ],
   "source": [
    "wbdata.search_indicators(\"gdp per capita\")"
   ]
  },
  {
   "cell_type": "code",
   "execution_count": 113,
   "metadata": {
    "collapsed": false
   },
   "outputs": [
    {
     "data": {
      "text/html": [
       "<div>\n",
       "<table border=\"1\" class=\"dataframe\">\n",
       "  <thead>\n",
       "    <tr style=\"text-align: right;\">\n",
       "      <th></th>\n",
       "      <th>doing_business</th>\n",
       "      <th>gdppc</th>\n",
       "    </tr>\n",
       "  </thead>\n",
       "  <tbody>\n",
       "    <tr>\n",
       "      <th>count</th>\n",
       "      <td>64.000000</td>\n",
       "      <td>787.000000</td>\n",
       "    </tr>\n",
       "    <tr>\n",
       "      <th>mean</th>\n",
       "      <td>24.937500</td>\n",
       "      <td>33740.780244</td>\n",
       "    </tr>\n",
       "    <tr>\n",
       "      <th>std</th>\n",
       "      <td>16.212747</td>\n",
       "      <td>13536.454210</td>\n",
       "    </tr>\n",
       "    <tr>\n",
       "      <th>min</th>\n",
       "      <td>2.000000</td>\n",
       "      <td>9244.159549</td>\n",
       "    </tr>\n",
       "    <tr>\n",
       "      <th>25%</th>\n",
       "      <td>11.500000</td>\n",
       "      <td>25139.116627</td>\n",
       "    </tr>\n",
       "    <tr>\n",
       "      <th>50%</th>\n",
       "      <td>24.000000</td>\n",
       "      <td>32361.390355</td>\n",
       "    </tr>\n",
       "    <tr>\n",
       "      <th>75%</th>\n",
       "      <td>34.250000</td>\n",
       "      <td>40308.545267</td>\n",
       "    </tr>\n",
       "    <tr>\n",
       "      <th>max</th>\n",
       "      <td>61.000000</td>\n",
       "      <td>96711.050369</td>\n",
       "    </tr>\n",
       "  </tbody>\n",
       "</table>\n",
       "</div>"
      ],
      "text/plain": [
       "       doing_business         gdppc\n",
       "count       64.000000    787.000000\n",
       "mean        24.937500  33740.780244\n",
       "std         16.212747  13536.454210\n",
       "min          2.000000   9244.159549\n",
       "25%         11.500000  25139.116627\n",
       "50%         24.000000  32361.390355\n",
       "75%         34.250000  40308.545267\n",
       "max         61.000000  96711.050369"
      ]
     },
     "execution_count": 113,
     "metadata": {},
     "output_type": "execute_result"
    }
   ],
   "source": [
    "countries = [i['id'] for i in wbdata.get_country(incomelevel=\"OEC\", display=False)]\n",
    "indicators = {\"IC.BUS.EASE.XQ\": \"doing_business\", \"NY.GDP.PCAP.PP.KD\": \"gdppc\"}\n",
    "df = wbdata.get_dataframe(indicators, country=countries, convert_date=True)\n",
    "df.describe()"
   ]
  },
  {
   "cell_type": "code",
   "execution_count": null,
   "metadata": {
    "collapsed": true
   },
   "outputs": [],
   "source": []
  }
 ],
 "metadata": {
  "kernelspec": {
   "display_name": "Python 2",
   "language": "python",
   "name": "python2"
  },
  "language_info": {
   "codemirror_mode": {
    "name": "ipython",
    "version": 2
   },
   "file_extension": ".py",
   "mimetype": "text/x-python",
   "name": "python",
   "nbconvert_exporter": "python",
   "pygments_lexer": "ipython2",
   "version": "2.7.10"
  }
 },
 "nbformat": 4,
 "nbformat_minor": 0
}
