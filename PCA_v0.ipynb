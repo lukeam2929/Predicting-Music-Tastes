{
 "cells": [
  {
   "cell_type": "code",
   "execution_count": 1,
   "metadata": {
    "collapsed": true
   },
   "outputs": [],
   "source": [
    "import numpy as np\n",
    "import csv\n",
    "import pandas as pd"
   ]
  },
  {
   "cell_type": "code",
   "execution_count": 2,
   "metadata": {
    "collapsed": true
   },
   "outputs": [],
   "source": [
    "from sklearn.cross_validation import train_test_split\n",
    "from sklearn import preprocessing\n",
    "from sklearn.decomposition import PCA"
   ]
  },
  {
   "cell_type": "code",
   "execution_count": 3,
   "metadata": {
    "collapsed": true
   },
   "outputs": [],
   "source": [
    "train_file = 'train.csv'\n",
    "test_file  = 'test.csv'\n",
    "user_median_file  = 'user_median.csv'\n",
    "global_median_file = 'global_median.csv'\n",
    "profiles_file = 'profiles.csv'\n",
    "artists_file = 'artists.csv'"
   ]
  },
  {
   "cell_type": "code",
   "execution_count": 4,
   "metadata": {
    "collapsed": true
   },
   "outputs": [],
   "source": [
    "# Load the training data.\n",
    "train_data = {}\n",
    "with open(train_file, 'r') as train_fh:\n",
    "    train_csv = csv.reader(train_fh, delimiter=',', quotechar='\"')\n",
    "    next(train_csv, None)\n",
    "    for row in train_csv:\n",
    "        user   = row[0]\n",
    "        artist = row[1]\n",
    "        plays  = row[2]\n",
    "    \n",
    "        if not user in train_data:\n",
    "            train_data[user] = {}\n",
    "        \n",
    "        train_data[user][artist] = int(plays)"
   ]
  },
  {
   "cell_type": "code",
   "execution_count": 5,
   "metadata": {
    "collapsed": true
   },
   "outputs": [],
   "source": [
    "bigtraindf = pd.DataFrame.from_dict(train_data)"
   ]
  },
  {
   "cell_type": "code",
   "execution_count": 6,
   "metadata": {
    "collapsed": false
   },
   "outputs": [],
   "source": [
    "bigtraindf = bigtraindf.fillna(0)"
   ]
  },
  {
   "cell_type": "code",
   "execution_count": 7,
   "metadata": {
    "collapsed": false
   },
   "outputs": [
    {
     "data": {
      "text/html": [
       "<div>\n",
       "<table border=\"1\" class=\"dataframe\">\n",
       "  <thead>\n",
       "    <tr style=\"text-align: right;\">\n",
       "      <th></th>\n",
       "      <th>00000c289a1829a808ac09c00daf10bc3c4e223b</th>\n",
       "      <th>00001411dc427966b17297bf4d69e7e193135d89</th>\n",
       "      <th>000063d3fe1cf2ba248b9e3c3f0334845a27a6bf</th>\n",
       "      <th>00007a47085b9aab8af55f52ec8846ac479ac4fe</th>\n",
       "      <th>0000c176103e538d5c9828e695fed4f7ae42dd01</th>\n",
       "      <th>0000ee7dd906373efa37f4e1185bfe1e3f8695ae</th>\n",
       "      <th>0000ef373bbd0d89ce796abae961f2705e8c1faf</th>\n",
       "      <th>0001399387da41d557219578fb08b12afa25ab67</th>\n",
       "      <th>000163263d2a41a3966a3746855b8b75b7d7aa83</th>\n",
       "      <th>0001a88a7092846abb1b70dbcced05f914976371</th>\n",
       "      <th>...</th>\n",
       "      <th>fffcf52d27aa7ea75f99d4bff654fa08fcedc4b6</th>\n",
       "      <th>fffd3df081c03829a9ea4699e2d85e868d7a791b</th>\n",
       "      <th>fffe1f0fc9eb1432b98eb25b2c950850796a4a8b</th>\n",
       "      <th>fffe356b9dab2fae1f887fabb1f08ab4976c91bb</th>\n",
       "      <th>fffe3e8eb1b2db8dcb3f3fe753552d5803d085f1</th>\n",
       "      <th>fffe454af08a58c7bafe77491b586711f6b5e6f1</th>\n",
       "      <th>fffe7823f67b433b45f22056467db921c1d3d7d0</th>\n",
       "      <th>fffe8637bd8234309e871409c7ebef99a720afc1</th>\n",
       "      <th>fffe8c7f952d9b960a56ed4dcb40a415d924b224</th>\n",
       "      <th>ffff9ef87a7d9494ada2f9ade4b9ff637c0759ac</th>\n",
       "    </tr>\n",
       "  </thead>\n",
       "  <tbody>\n",
       "    <tr>\n",
       "      <th>000d90ec-d64c-48a1-b775-e726fd240e9f</th>\n",
       "      <td>0</td>\n",
       "      <td>0</td>\n",
       "      <td>0</td>\n",
       "      <td>0</td>\n",
       "      <td>0</td>\n",
       "      <td>0</td>\n",
       "      <td>0</td>\n",
       "      <td>0</td>\n",
       "      <td>0</td>\n",
       "      <td>0</td>\n",
       "      <td>...</td>\n",
       "      <td>0</td>\n",
       "      <td>0</td>\n",
       "      <td>0</td>\n",
       "      <td>0</td>\n",
       "      <td>0</td>\n",
       "      <td>0</td>\n",
       "      <td>0</td>\n",
       "      <td>0</td>\n",
       "      <td>0</td>\n",
       "      <td>0</td>\n",
       "    </tr>\n",
       "    <tr>\n",
       "      <th>000fc734-b7e1-4a01-92d1-f544261b43f5</th>\n",
       "      <td>0</td>\n",
       "      <td>0</td>\n",
       "      <td>0</td>\n",
       "      <td>0</td>\n",
       "      <td>0</td>\n",
       "      <td>0</td>\n",
       "      <td>0</td>\n",
       "      <td>0</td>\n",
       "      <td>0</td>\n",
       "      <td>0</td>\n",
       "      <td>...</td>\n",
       "      <td>0</td>\n",
       "      <td>0</td>\n",
       "      <td>0</td>\n",
       "      <td>0</td>\n",
       "      <td>0</td>\n",
       "      <td>0</td>\n",
       "      <td>0</td>\n",
       "      <td>0</td>\n",
       "      <td>0</td>\n",
       "      <td>0</td>\n",
       "    </tr>\n",
       "    <tr>\n",
       "      <th>0019749d-ee29-4a5f-ab17-6bfa11deb969</th>\n",
       "      <td>0</td>\n",
       "      <td>0</td>\n",
       "      <td>0</td>\n",
       "      <td>0</td>\n",
       "      <td>0</td>\n",
       "      <td>0</td>\n",
       "      <td>0</td>\n",
       "      <td>0</td>\n",
       "      <td>0</td>\n",
       "      <td>0</td>\n",
       "      <td>...</td>\n",
       "      <td>0</td>\n",
       "      <td>0</td>\n",
       "      <td>0</td>\n",
       "      <td>0</td>\n",
       "      <td>0</td>\n",
       "      <td>0</td>\n",
       "      <td>0</td>\n",
       "      <td>0</td>\n",
       "      <td>0</td>\n",
       "      <td>0</td>\n",
       "    </tr>\n",
       "    <tr>\n",
       "      <th>0039c7ae-e1a7-4a7d-9b49-0cbc716821a6</th>\n",
       "      <td>0</td>\n",
       "      <td>0</td>\n",
       "      <td>0</td>\n",
       "      <td>0</td>\n",
       "      <td>0</td>\n",
       "      <td>0</td>\n",
       "      <td>0</td>\n",
       "      <td>0</td>\n",
       "      <td>0</td>\n",
       "      <td>0</td>\n",
       "      <td>...</td>\n",
       "      <td>0</td>\n",
       "      <td>0</td>\n",
       "      <td>0</td>\n",
       "      <td>0</td>\n",
       "      <td>0</td>\n",
       "      <td>0</td>\n",
       "      <td>0</td>\n",
       "      <td>0</td>\n",
       "      <td>0</td>\n",
       "      <td>0</td>\n",
       "    </tr>\n",
       "    <tr>\n",
       "      <th>004e5eed-e267-46ea-b504-54526f1f377d</th>\n",
       "      <td>0</td>\n",
       "      <td>0</td>\n",
       "      <td>0</td>\n",
       "      <td>0</td>\n",
       "      <td>0</td>\n",
       "      <td>0</td>\n",
       "      <td>0</td>\n",
       "      <td>0</td>\n",
       "      <td>0</td>\n",
       "      <td>0</td>\n",
       "      <td>...</td>\n",
       "      <td>0</td>\n",
       "      <td>0</td>\n",
       "      <td>0</td>\n",
       "      <td>0</td>\n",
       "      <td>0</td>\n",
       "      <td>0</td>\n",
       "      <td>0</td>\n",
       "      <td>0</td>\n",
       "      <td>0</td>\n",
       "      <td>0</td>\n",
       "    </tr>\n",
       "  </tbody>\n",
       "</table>\n",
       "<p>5 rows × 233286 columns</p>\n",
       "</div>"
      ],
      "text/plain": [
       "                                      00000c289a1829a808ac09c00daf10bc3c4e223b  \\\n",
       "000d90ec-d64c-48a1-b775-e726fd240e9f                                         0   \n",
       "000fc734-b7e1-4a01-92d1-f544261b43f5                                         0   \n",
       "0019749d-ee29-4a5f-ab17-6bfa11deb969                                         0   \n",
       "0039c7ae-e1a7-4a7d-9b49-0cbc716821a6                                         0   \n",
       "004e5eed-e267-46ea-b504-54526f1f377d                                         0   \n",
       "\n",
       "                                      00001411dc427966b17297bf4d69e7e193135d89  \\\n",
       "000d90ec-d64c-48a1-b775-e726fd240e9f                                         0   \n",
       "000fc734-b7e1-4a01-92d1-f544261b43f5                                         0   \n",
       "0019749d-ee29-4a5f-ab17-6bfa11deb969                                         0   \n",
       "0039c7ae-e1a7-4a7d-9b49-0cbc716821a6                                         0   \n",
       "004e5eed-e267-46ea-b504-54526f1f377d                                         0   \n",
       "\n",
       "                                      000063d3fe1cf2ba248b9e3c3f0334845a27a6bf  \\\n",
       "000d90ec-d64c-48a1-b775-e726fd240e9f                                         0   \n",
       "000fc734-b7e1-4a01-92d1-f544261b43f5                                         0   \n",
       "0019749d-ee29-4a5f-ab17-6bfa11deb969                                         0   \n",
       "0039c7ae-e1a7-4a7d-9b49-0cbc716821a6                                         0   \n",
       "004e5eed-e267-46ea-b504-54526f1f377d                                         0   \n",
       "\n",
       "                                      00007a47085b9aab8af55f52ec8846ac479ac4fe  \\\n",
       "000d90ec-d64c-48a1-b775-e726fd240e9f                                         0   \n",
       "000fc734-b7e1-4a01-92d1-f544261b43f5                                         0   \n",
       "0019749d-ee29-4a5f-ab17-6bfa11deb969                                         0   \n",
       "0039c7ae-e1a7-4a7d-9b49-0cbc716821a6                                         0   \n",
       "004e5eed-e267-46ea-b504-54526f1f377d                                         0   \n",
       "\n",
       "                                      0000c176103e538d5c9828e695fed4f7ae42dd01  \\\n",
       "000d90ec-d64c-48a1-b775-e726fd240e9f                                         0   \n",
       "000fc734-b7e1-4a01-92d1-f544261b43f5                                         0   \n",
       "0019749d-ee29-4a5f-ab17-6bfa11deb969                                         0   \n",
       "0039c7ae-e1a7-4a7d-9b49-0cbc716821a6                                         0   \n",
       "004e5eed-e267-46ea-b504-54526f1f377d                                         0   \n",
       "\n",
       "                                      0000ee7dd906373efa37f4e1185bfe1e3f8695ae  \\\n",
       "000d90ec-d64c-48a1-b775-e726fd240e9f                                         0   \n",
       "000fc734-b7e1-4a01-92d1-f544261b43f5                                         0   \n",
       "0019749d-ee29-4a5f-ab17-6bfa11deb969                                         0   \n",
       "0039c7ae-e1a7-4a7d-9b49-0cbc716821a6                                         0   \n",
       "004e5eed-e267-46ea-b504-54526f1f377d                                         0   \n",
       "\n",
       "                                      0000ef373bbd0d89ce796abae961f2705e8c1faf  \\\n",
       "000d90ec-d64c-48a1-b775-e726fd240e9f                                         0   \n",
       "000fc734-b7e1-4a01-92d1-f544261b43f5                                         0   \n",
       "0019749d-ee29-4a5f-ab17-6bfa11deb969                                         0   \n",
       "0039c7ae-e1a7-4a7d-9b49-0cbc716821a6                                         0   \n",
       "004e5eed-e267-46ea-b504-54526f1f377d                                         0   \n",
       "\n",
       "                                      0001399387da41d557219578fb08b12afa25ab67  \\\n",
       "000d90ec-d64c-48a1-b775-e726fd240e9f                                         0   \n",
       "000fc734-b7e1-4a01-92d1-f544261b43f5                                         0   \n",
       "0019749d-ee29-4a5f-ab17-6bfa11deb969                                         0   \n",
       "0039c7ae-e1a7-4a7d-9b49-0cbc716821a6                                         0   \n",
       "004e5eed-e267-46ea-b504-54526f1f377d                                         0   \n",
       "\n",
       "                                      000163263d2a41a3966a3746855b8b75b7d7aa83  \\\n",
       "000d90ec-d64c-48a1-b775-e726fd240e9f                                         0   \n",
       "000fc734-b7e1-4a01-92d1-f544261b43f5                                         0   \n",
       "0019749d-ee29-4a5f-ab17-6bfa11deb969                                         0   \n",
       "0039c7ae-e1a7-4a7d-9b49-0cbc716821a6                                         0   \n",
       "004e5eed-e267-46ea-b504-54526f1f377d                                         0   \n",
       "\n",
       "                                      0001a88a7092846abb1b70dbcced05f914976371  \\\n",
       "000d90ec-d64c-48a1-b775-e726fd240e9f                                         0   \n",
       "000fc734-b7e1-4a01-92d1-f544261b43f5                                         0   \n",
       "0019749d-ee29-4a5f-ab17-6bfa11deb969                                         0   \n",
       "0039c7ae-e1a7-4a7d-9b49-0cbc716821a6                                         0   \n",
       "004e5eed-e267-46ea-b504-54526f1f377d                                         0   \n",
       "\n",
       "                                                        ...                     \\\n",
       "000d90ec-d64c-48a1-b775-e726fd240e9f                    ...                      \n",
       "000fc734-b7e1-4a01-92d1-f544261b43f5                    ...                      \n",
       "0019749d-ee29-4a5f-ab17-6bfa11deb969                    ...                      \n",
       "0039c7ae-e1a7-4a7d-9b49-0cbc716821a6                    ...                      \n",
       "004e5eed-e267-46ea-b504-54526f1f377d                    ...                      \n",
       "\n",
       "                                      fffcf52d27aa7ea75f99d4bff654fa08fcedc4b6  \\\n",
       "000d90ec-d64c-48a1-b775-e726fd240e9f                                         0   \n",
       "000fc734-b7e1-4a01-92d1-f544261b43f5                                         0   \n",
       "0019749d-ee29-4a5f-ab17-6bfa11deb969                                         0   \n",
       "0039c7ae-e1a7-4a7d-9b49-0cbc716821a6                                         0   \n",
       "004e5eed-e267-46ea-b504-54526f1f377d                                         0   \n",
       "\n",
       "                                      fffd3df081c03829a9ea4699e2d85e868d7a791b  \\\n",
       "000d90ec-d64c-48a1-b775-e726fd240e9f                                         0   \n",
       "000fc734-b7e1-4a01-92d1-f544261b43f5                                         0   \n",
       "0019749d-ee29-4a5f-ab17-6bfa11deb969                                         0   \n",
       "0039c7ae-e1a7-4a7d-9b49-0cbc716821a6                                         0   \n",
       "004e5eed-e267-46ea-b504-54526f1f377d                                         0   \n",
       "\n",
       "                                      fffe1f0fc9eb1432b98eb25b2c950850796a4a8b  \\\n",
       "000d90ec-d64c-48a1-b775-e726fd240e9f                                         0   \n",
       "000fc734-b7e1-4a01-92d1-f544261b43f5                                         0   \n",
       "0019749d-ee29-4a5f-ab17-6bfa11deb969                                         0   \n",
       "0039c7ae-e1a7-4a7d-9b49-0cbc716821a6                                         0   \n",
       "004e5eed-e267-46ea-b504-54526f1f377d                                         0   \n",
       "\n",
       "                                      fffe356b9dab2fae1f887fabb1f08ab4976c91bb  \\\n",
       "000d90ec-d64c-48a1-b775-e726fd240e9f                                         0   \n",
       "000fc734-b7e1-4a01-92d1-f544261b43f5                                         0   \n",
       "0019749d-ee29-4a5f-ab17-6bfa11deb969                                         0   \n",
       "0039c7ae-e1a7-4a7d-9b49-0cbc716821a6                                         0   \n",
       "004e5eed-e267-46ea-b504-54526f1f377d                                         0   \n",
       "\n",
       "                                      fffe3e8eb1b2db8dcb3f3fe753552d5803d085f1  \\\n",
       "000d90ec-d64c-48a1-b775-e726fd240e9f                                         0   \n",
       "000fc734-b7e1-4a01-92d1-f544261b43f5                                         0   \n",
       "0019749d-ee29-4a5f-ab17-6bfa11deb969                                         0   \n",
       "0039c7ae-e1a7-4a7d-9b49-0cbc716821a6                                         0   \n",
       "004e5eed-e267-46ea-b504-54526f1f377d                                         0   \n",
       "\n",
       "                                      fffe454af08a58c7bafe77491b586711f6b5e6f1  \\\n",
       "000d90ec-d64c-48a1-b775-e726fd240e9f                                         0   \n",
       "000fc734-b7e1-4a01-92d1-f544261b43f5                                         0   \n",
       "0019749d-ee29-4a5f-ab17-6bfa11deb969                                         0   \n",
       "0039c7ae-e1a7-4a7d-9b49-0cbc716821a6                                         0   \n",
       "004e5eed-e267-46ea-b504-54526f1f377d                                         0   \n",
       "\n",
       "                                      fffe7823f67b433b45f22056467db921c1d3d7d0  \\\n",
       "000d90ec-d64c-48a1-b775-e726fd240e9f                                         0   \n",
       "000fc734-b7e1-4a01-92d1-f544261b43f5                                         0   \n",
       "0019749d-ee29-4a5f-ab17-6bfa11deb969                                         0   \n",
       "0039c7ae-e1a7-4a7d-9b49-0cbc716821a6                                         0   \n",
       "004e5eed-e267-46ea-b504-54526f1f377d                                         0   \n",
       "\n",
       "                                      fffe8637bd8234309e871409c7ebef99a720afc1  \\\n",
       "000d90ec-d64c-48a1-b775-e726fd240e9f                                         0   \n",
       "000fc734-b7e1-4a01-92d1-f544261b43f5                                         0   \n",
       "0019749d-ee29-4a5f-ab17-6bfa11deb969                                         0   \n",
       "0039c7ae-e1a7-4a7d-9b49-0cbc716821a6                                         0   \n",
       "004e5eed-e267-46ea-b504-54526f1f377d                                         0   \n",
       "\n",
       "                                      fffe8c7f952d9b960a56ed4dcb40a415d924b224  \\\n",
       "000d90ec-d64c-48a1-b775-e726fd240e9f                                         0   \n",
       "000fc734-b7e1-4a01-92d1-f544261b43f5                                         0   \n",
       "0019749d-ee29-4a5f-ab17-6bfa11deb969                                         0   \n",
       "0039c7ae-e1a7-4a7d-9b49-0cbc716821a6                                         0   \n",
       "004e5eed-e267-46ea-b504-54526f1f377d                                         0   \n",
       "\n",
       "                                      ffff9ef87a7d9494ada2f9ade4b9ff637c0759ac  \n",
       "000d90ec-d64c-48a1-b775-e726fd240e9f                                         0  \n",
       "000fc734-b7e1-4a01-92d1-f544261b43f5                                         0  \n",
       "0019749d-ee29-4a5f-ab17-6bfa11deb969                                         0  \n",
       "0039c7ae-e1a7-4a7d-9b49-0cbc716821a6                                         0  \n",
       "004e5eed-e267-46ea-b504-54526f1f377d                                         0  \n",
       "\n",
       "[5 rows x 233286 columns]"
      ]
     },
     "execution_count": 7,
     "metadata": {},
     "output_type": "execute_result"
    }
   ],
   "source": [
    "bigtraindf.head()"
   ]
  },
  {
   "cell_type": "code",
   "execution_count": 8,
   "metadata": {
    "collapsed": false
   },
   "outputs": [
    {
     "data": {
      "text/plain": [
       "(2000, 233286)"
      ]
     },
     "execution_count": 8,
     "metadata": {},
     "output_type": "execute_result"
    }
   ],
   "source": [
    "bigtraindf.shape"
   ]
  },
  {
   "cell_type": "code",
   "execution_count": 9,
   "metadata": {
    "collapsed": true
   },
   "outputs": [],
   "source": [
    "bigtraindf = bigtraindf.transpose()"
   ]
  },
  {
   "cell_type": "code",
   "execution_count": 10,
   "metadata": {
    "collapsed": false
   },
   "outputs": [
    {
     "data": {
      "text/plain": [
       "(233286, 2000)"
      ]
     },
     "execution_count": 10,
     "metadata": {},
     "output_type": "execute_result"
    }
   ],
   "source": [
    "bigtraindf.shape"
   ]
  },
  {
   "cell_type": "markdown",
   "metadata": {},
   "source": [
    "# getting PCs for training data"
   ]
  },
  {
   "cell_type": "code",
   "execution_count": 44,
   "metadata": {
    "collapsed": true
   },
   "outputs": [],
   "source": [
    "X = bigtraindf.values"
   ]
  },
  {
   "cell_type": "code",
   "execution_count": 45,
   "metadata": {
    "collapsed": false
   },
   "outputs": [
    {
     "data": {
      "text/plain": [
       "(233286, 2000)"
      ]
     },
     "execution_count": 45,
     "metadata": {},
     "output_type": "execute_result"
    }
   ],
   "source": [
    "X.shape"
   ]
  },
  {
   "cell_type": "code",
   "execution_count": 46,
   "metadata": {
    "collapsed": false
   },
   "outputs": [
    {
     "data": {
      "text/plain": [
       "False"
      ]
     },
     "execution_count": 46,
     "metadata": {},
     "output_type": "execute_result"
    }
   ],
   "source": [
    "np.any(np.isnan(X))"
   ]
  },
  {
   "cell_type": "code",
   "execution_count": 47,
   "metadata": {
    "collapsed": false
   },
   "outputs": [
    {
     "data": {
      "text/plain": [
       "True"
      ]
     },
     "execution_count": 47,
     "metadata": {},
     "output_type": "execute_result"
    }
   ],
   "source": [
    "np.all(np.isfinite(X))"
   ]
  },
  {
   "cell_type": "code",
   "execution_count": null,
   "metadata": {
    "collapsed": true
   },
   "outputs": [],
   "source": [
    "std_scale = preprocessing.StandardScaler().fit(X)"
   ]
  },
  {
   "cell_type": "code",
   "execution_count": 60,
   "metadata": {
    "collapsed": true
   },
   "outputs": [],
   "source": [
    "X_full_std = std_scale.transform(X)"
   ]
  },
  {
   "cell_type": "code",
   "execution_count": 62,
   "metadata": {
    "collapsed": false
   },
   "outputs": [
    {
     "name": "stdout",
     "output_type": "stream",
     "text": [
      "CPU times: user 13min 23s, sys: 22min 20s, total: 35min 43s\n",
      "Wall time: 1h 5min 56s\n"
     ]
    }
   ],
   "source": [
    "%%time\n",
    "pca_full_std = PCA(n_components=10).fit(X)"
   ]
  },
  {
   "cell_type": "code",
   "execution_count": 63,
   "metadata": {
    "collapsed": true
   },
   "outputs": [],
   "source": [
    "X_full_std = pca_full_std.transform(X_full_std)"
   ]
  },
  {
   "cell_type": "code",
   "execution_count": 64,
   "metadata": {
    "collapsed": false
   },
   "outputs": [
    {
     "data": {
      "text/plain": [
       "(233286, 10)"
      ]
     },
     "execution_count": 64,
     "metadata": {},
     "output_type": "execute_result"
    }
   ],
   "source": [
    "X_full_std.shape"
   ]
  },
  {
   "cell_type": "markdown",
   "metadata": {},
   "source": [
    "# train test split option"
   ]
  },
  {
   "cell_type": "code",
   "execution_count": 49,
   "metadata": {
    "collapsed": true
   },
   "outputs": [],
   "source": [
    "X_train, X_valid = train_test_split(X, test_size=0.30, random_state=12345)"
   ]
  },
  {
   "cell_type": "code",
   "execution_count": 50,
   "metadata": {
    "collapsed": false
   },
   "outputs": [],
   "source": [
    "X_train_std = std_scale.transform(X_train)\n",
    "X_valid_std = std_scale.transform(X_valid)"
   ]
  },
  {
   "cell_type": "code",
   "execution_count": 52,
   "metadata": {
    "collapsed": false
   },
   "outputs": [
    {
     "name": "stdout",
     "output_type": "stream",
     "text": [
      "CPU times: user 8min 18s, sys: 5min 58s, total: 14min 16s\n",
      "Wall time: 18min 45s\n"
     ]
    }
   ],
   "source": [
    "%%time\n",
    "pca_std = PCA(n_components=10).fit(X_train_std)"
   ]
  },
  {
   "cell_type": "code",
   "execution_count": 53,
   "metadata": {
    "collapsed": false
   },
   "outputs": [],
   "source": [
    "X_train_std = pca_std.transform(X_train_std)"
   ]
  },
  {
   "cell_type": "code",
   "execution_count": 54,
   "metadata": {
    "collapsed": true
   },
   "outputs": [],
   "source": [
    "X_test_std = pca_std.transform(X_valid_std)"
   ]
  },
  {
   "cell_type": "code",
   "execution_count": 55,
   "metadata": {
    "collapsed": false
   },
   "outputs": [
    {
     "data": {
      "text/plain": [
       "(163300, 10)"
      ]
     },
     "execution_count": 55,
     "metadata": {},
     "output_type": "execute_result"
    }
   ],
   "source": [
    "X_train_std.shape"
   ]
  },
  {
   "cell_type": "code",
   "execution_count": 56,
   "metadata": {
    "collapsed": false
   },
   "outputs": [
    {
     "data": {
      "text/plain": [
       "(69986, 10)"
      ]
     },
     "execution_count": 56,
     "metadata": {},
     "output_type": "execute_result"
    }
   ],
   "source": [
    "X_test_std.shape"
   ]
  },
  {
   "cell_type": "markdown",
   "metadata": {},
   "source": [
    "# Now that we have the PCs..."
   ]
  },
  {
   "cell_type": "code",
   "execution_count": 76,
   "metadata": {
    "collapsed": true
   },
   "outputs": [],
   "source": [
    "#traindf = pd.DataFrame(X_full_std)"
   ]
  },
  {
   "cell_type": "code",
   "execution_count": 77,
   "metadata": {
    "collapsed": true
   },
   "outputs": [],
   "source": [
    "#traindf.to_pickle('trainpcs.pkl')"
   ]
  },
  {
   "cell_type": "code",
   "execution_count": 11,
   "metadata": {
    "collapsed": true
   },
   "outputs": [],
   "source": [
    "traindf = pd.read_pickle('trainpcs.pkl')"
   ]
  },
  {
   "cell_type": "code",
   "execution_count": 12,
   "metadata": {
    "collapsed": false
   },
   "outputs": [
    {
     "data": {
      "text/html": [
       "<div>\n",
       "<table border=\"1\" class=\"dataframe\">\n",
       "  <thead>\n",
       "    <tr style=\"text-align: right;\">\n",
       "      <th></th>\n",
       "      <th>0</th>\n",
       "      <th>1</th>\n",
       "      <th>2</th>\n",
       "      <th>3</th>\n",
       "      <th>4</th>\n",
       "      <th>5</th>\n",
       "      <th>6</th>\n",
       "      <th>7</th>\n",
       "      <th>8</th>\n",
       "      <th>9</th>\n",
       "    </tr>\n",
       "  </thead>\n",
       "  <tbody>\n",
       "    <tr>\n",
       "      <th>0</th>\n",
       "      <td>11.324483</td>\n",
       "      <td>-16.983502</td>\n",
       "      <td>2.374633</td>\n",
       "      <td>-33.610175</td>\n",
       "      <td>-126.178727</td>\n",
       "      <td>-22.288957</td>\n",
       "      <td>-40.593754</td>\n",
       "      <td>10.109217</td>\n",
       "      <td>2.176274</td>\n",
       "      <td>43.500433</td>\n",
       "    </tr>\n",
       "    <tr>\n",
       "      <th>1</th>\n",
       "      <td>11.352039</td>\n",
       "      <td>-16.966248</td>\n",
       "      <td>2.389203</td>\n",
       "      <td>-33.840068</td>\n",
       "      <td>-124.625681</td>\n",
       "      <td>-22.271881</td>\n",
       "      <td>-40.567590</td>\n",
       "      <td>9.301574</td>\n",
       "      <td>2.115986</td>\n",
       "      <td>42.320933</td>\n",
       "    </tr>\n",
       "    <tr>\n",
       "      <th>2</th>\n",
       "      <td>11.350998</td>\n",
       "      <td>-16.999347</td>\n",
       "      <td>2.373547</td>\n",
       "      <td>-33.708899</td>\n",
       "      <td>-126.375006</td>\n",
       "      <td>-22.311998</td>\n",
       "      <td>-40.636847</td>\n",
       "      <td>10.092343</td>\n",
       "      <td>2.150509</td>\n",
       "      <td>43.535793</td>\n",
       "    </tr>\n",
       "    <tr>\n",
       "      <th>3</th>\n",
       "      <td>11.351004</td>\n",
       "      <td>-16.991318</td>\n",
       "      <td>2.375921</td>\n",
       "      <td>-33.730675</td>\n",
       "      <td>-126.175386</td>\n",
       "      <td>-22.313208</td>\n",
       "      <td>-40.582921</td>\n",
       "      <td>10.000191</td>\n",
       "      <td>2.163599</td>\n",
       "      <td>43.450782</td>\n",
       "    </tr>\n",
       "    <tr>\n",
       "      <th>4</th>\n",
       "      <td>11.340858</td>\n",
       "      <td>-16.976316</td>\n",
       "      <td>2.387526</td>\n",
       "      <td>-33.715731</td>\n",
       "      <td>-122.184709</td>\n",
       "      <td>-22.296451</td>\n",
       "      <td>-40.318415</td>\n",
       "      <td>9.905982</td>\n",
       "      <td>2.186074</td>\n",
       "      <td>41.362572</td>\n",
       "    </tr>\n",
       "  </tbody>\n",
       "</table>\n",
       "</div>"
      ],
      "text/plain": [
       "           0          1         2          3           4          5  \\\n",
       "0  11.324483 -16.983502  2.374633 -33.610175 -126.178727 -22.288957   \n",
       "1  11.352039 -16.966248  2.389203 -33.840068 -124.625681 -22.271881   \n",
       "2  11.350998 -16.999347  2.373547 -33.708899 -126.375006 -22.311998   \n",
       "3  11.351004 -16.991318  2.375921 -33.730675 -126.175386 -22.313208   \n",
       "4  11.340858 -16.976316  2.387526 -33.715731 -122.184709 -22.296451   \n",
       "\n",
       "           6          7         8          9  \n",
       "0 -40.593754  10.109217  2.176274  43.500433  \n",
       "1 -40.567590   9.301574  2.115986  42.320933  \n",
       "2 -40.636847  10.092343  2.150509  43.535793  \n",
       "3 -40.582921  10.000191  2.163599  43.450782  \n",
       "4 -40.318415   9.905982  2.186074  41.362572  "
      ]
     },
     "execution_count": 12,
     "metadata": {},
     "output_type": "execute_result"
    }
   ],
   "source": [
    "traindf.head()"
   ]
  },
  {
   "cell_type": "code",
   "execution_count": 13,
   "metadata": {
    "collapsed": false
   },
   "outputs": [],
   "source": [
    "traindf['user'] = bigtraindf.index"
   ]
  },
  {
   "cell_type": "code",
   "execution_count": 14,
   "metadata": {
    "collapsed": false
   },
   "outputs": [
    {
     "data": {
      "text/html": [
       "<div>\n",
       "<table border=\"1\" class=\"dataframe\">\n",
       "  <thead>\n",
       "    <tr style=\"text-align: right;\">\n",
       "      <th></th>\n",
       "      <th>0</th>\n",
       "      <th>1</th>\n",
       "      <th>2</th>\n",
       "      <th>3</th>\n",
       "      <th>4</th>\n",
       "      <th>5</th>\n",
       "      <th>6</th>\n",
       "      <th>7</th>\n",
       "      <th>8</th>\n",
       "      <th>9</th>\n",
       "      <th>user</th>\n",
       "    </tr>\n",
       "  </thead>\n",
       "  <tbody>\n",
       "    <tr>\n",
       "      <th>0</th>\n",
       "      <td>11.324483</td>\n",
       "      <td>-16.983502</td>\n",
       "      <td>2.374633</td>\n",
       "      <td>-33.610175</td>\n",
       "      <td>-126.178727</td>\n",
       "      <td>-22.288957</td>\n",
       "      <td>-40.593754</td>\n",
       "      <td>10.109217</td>\n",
       "      <td>2.176274</td>\n",
       "      <td>43.500433</td>\n",
       "      <td>00000c289a1829a808ac09c00daf10bc3c4e223b</td>\n",
       "    </tr>\n",
       "    <tr>\n",
       "      <th>1</th>\n",
       "      <td>11.352039</td>\n",
       "      <td>-16.966248</td>\n",
       "      <td>2.389203</td>\n",
       "      <td>-33.840068</td>\n",
       "      <td>-124.625681</td>\n",
       "      <td>-22.271881</td>\n",
       "      <td>-40.567590</td>\n",
       "      <td>9.301574</td>\n",
       "      <td>2.115986</td>\n",
       "      <td>42.320933</td>\n",
       "      <td>00001411dc427966b17297bf4d69e7e193135d89</td>\n",
       "    </tr>\n",
       "    <tr>\n",
       "      <th>2</th>\n",
       "      <td>11.350998</td>\n",
       "      <td>-16.999347</td>\n",
       "      <td>2.373547</td>\n",
       "      <td>-33.708899</td>\n",
       "      <td>-126.375006</td>\n",
       "      <td>-22.311998</td>\n",
       "      <td>-40.636847</td>\n",
       "      <td>10.092343</td>\n",
       "      <td>2.150509</td>\n",
       "      <td>43.535793</td>\n",
       "      <td>000063d3fe1cf2ba248b9e3c3f0334845a27a6bf</td>\n",
       "    </tr>\n",
       "    <tr>\n",
       "      <th>3</th>\n",
       "      <td>11.351004</td>\n",
       "      <td>-16.991318</td>\n",
       "      <td>2.375921</td>\n",
       "      <td>-33.730675</td>\n",
       "      <td>-126.175386</td>\n",
       "      <td>-22.313208</td>\n",
       "      <td>-40.582921</td>\n",
       "      <td>10.000191</td>\n",
       "      <td>2.163599</td>\n",
       "      <td>43.450782</td>\n",
       "      <td>00007a47085b9aab8af55f52ec8846ac479ac4fe</td>\n",
       "    </tr>\n",
       "    <tr>\n",
       "      <th>4</th>\n",
       "      <td>11.340858</td>\n",
       "      <td>-16.976316</td>\n",
       "      <td>2.387526</td>\n",
       "      <td>-33.715731</td>\n",
       "      <td>-122.184709</td>\n",
       "      <td>-22.296451</td>\n",
       "      <td>-40.318415</td>\n",
       "      <td>9.905982</td>\n",
       "      <td>2.186074</td>\n",
       "      <td>41.362572</td>\n",
       "      <td>0000c176103e538d5c9828e695fed4f7ae42dd01</td>\n",
       "    </tr>\n",
       "  </tbody>\n",
       "</table>\n",
       "</div>"
      ],
      "text/plain": [
       "           0          1         2          3           4          5  \\\n",
       "0  11.324483 -16.983502  2.374633 -33.610175 -126.178727 -22.288957   \n",
       "1  11.352039 -16.966248  2.389203 -33.840068 -124.625681 -22.271881   \n",
       "2  11.350998 -16.999347  2.373547 -33.708899 -126.375006 -22.311998   \n",
       "3  11.351004 -16.991318  2.375921 -33.730675 -126.175386 -22.313208   \n",
       "4  11.340858 -16.976316  2.387526 -33.715731 -122.184709 -22.296451   \n",
       "\n",
       "           6          7         8          9  \\\n",
       "0 -40.593754  10.109217  2.176274  43.500433   \n",
       "1 -40.567590   9.301574  2.115986  42.320933   \n",
       "2 -40.636847  10.092343  2.150509  43.535793   \n",
       "3 -40.582921  10.000191  2.163599  43.450782   \n",
       "4 -40.318415   9.905982  2.186074  41.362572   \n",
       "\n",
       "                                       user  \n",
       "0  00000c289a1829a808ac09c00daf10bc3c4e223b  \n",
       "1  00001411dc427966b17297bf4d69e7e193135d89  \n",
       "2  000063d3fe1cf2ba248b9e3c3f0334845a27a6bf  \n",
       "3  00007a47085b9aab8af55f52ec8846ac479ac4fe  \n",
       "4  0000c176103e538d5c9828e695fed4f7ae42dd01  "
      ]
     },
     "execution_count": 14,
     "metadata": {},
     "output_type": "execute_result"
    }
   ],
   "source": [
    "traindf.head()"
   ]
  },
  {
   "cell_type": "markdown",
   "metadata": {},
   "source": [
    "### read in the demographics data"
   ]
  },
  {
   "cell_type": "code",
   "execution_count": 15,
   "metadata": {
    "collapsed": true
   },
   "outputs": [],
   "source": [
    "profilesdf = pd.read_pickle('profiles.pkl')"
   ]
  },
  {
   "cell_type": "markdown",
   "metadata": {},
   "source": [
    "###prepare for normalization"
   ]
  },
  {
   "cell_type": "code",
   "execution_count": 16,
   "metadata": {
    "collapsed": false
   },
   "outputs": [],
   "source": [
    "countries = profilesdf['country']\n",
    "profilesdf = profilesdf.drop('country', 1)\n",
    "users = profilesdf['user']\n",
    "profilesdf = profilesdf.drop('user', 1)"
   ]
  },
  {
   "cell_type": "code",
   "execution_count": 17,
   "metadata": {
    "collapsed": false
   },
   "outputs": [],
   "source": [
    "profilesdf = profilesdf.fillna(0)"
   ]
  },
  {
   "cell_type": "markdown",
   "metadata": {},
   "source": [
    "### perform normalization"
   ]
  },
  {
   "cell_type": "code",
   "execution_count": 18,
   "metadata": {
    "collapsed": false
   },
   "outputs": [],
   "source": [
    "profiles_scale = preprocessing.StandardScaler().fit(profilesdf)\n",
    "profiles_std = profiles_scale.transform(profilesdf)"
   ]
  },
  {
   "cell_type": "code",
   "execution_count": 19,
   "metadata": {
    "collapsed": false
   },
   "outputs": [],
   "source": [
    "profilesdf = pd.DataFrame(profiles_std)\n",
    "profilesdf['user'] = users"
   ]
  },
  {
   "cell_type": "markdown",
   "metadata": {},
   "source": [
    "### merge w/ training data pcs"
   ]
  },
  {
   "cell_type": "code",
   "execution_count": 21,
   "metadata": {
    "collapsed": false
   },
   "outputs": [],
   "source": [
    "merge_traindf = pd.merge(profilesdf, traindf, on='user')"
   ]
  },
  {
   "cell_type": "code",
   "execution_count": 22,
   "metadata": {
    "collapsed": false
   },
   "outputs": [],
   "source": [
    "users = merge_traindf['user']\n",
    "merge_traindf = merge_traindf.drop('user', 1)"
   ]
  },
  {
   "cell_type": "code",
   "execution_count": 23,
   "metadata": {
    "collapsed": false
   },
   "outputs": [
    {
     "data": {
      "text/html": [
       "<div>\n",
       "<table border=\"1\" class=\"dataframe\">\n",
       "  <thead>\n",
       "    <tr style=\"text-align: right;\">\n",
       "      <th></th>\n",
       "      <th>0_x</th>\n",
       "      <th>1_x</th>\n",
       "      <th>2_x</th>\n",
       "      <th>3_x</th>\n",
       "      <th>4_x</th>\n",
       "      <th>0_y</th>\n",
       "      <th>1_y</th>\n",
       "      <th>2_y</th>\n",
       "      <th>3_y</th>\n",
       "      <th>4_y</th>\n",
       "      <th>5</th>\n",
       "      <th>6</th>\n",
       "      <th>7</th>\n",
       "      <th>8</th>\n",
       "      <th>9</th>\n",
       "    </tr>\n",
       "  </thead>\n",
       "  <tbody>\n",
       "    <tr>\n",
       "      <th>0</th>\n",
       "      <td>-1.398483</td>\n",
       "      <td>0.237355</td>\n",
       "      <td>0.858321</td>\n",
       "      <td>0.497461</td>\n",
       "      <td>0.504000</td>\n",
       "      <td>11.349568</td>\n",
       "      <td>-16.993841</td>\n",
       "      <td>2.373350</td>\n",
       "      <td>-33.686099</td>\n",
       "      <td>-126.073410</td>\n",
       "      <td>-22.289325</td>\n",
       "      <td>-40.659993</td>\n",
       "      <td>10.109199</td>\n",
       "      <td>2.146177</td>\n",
       "      <td>43.476150</td>\n",
       "    </tr>\n",
       "    <tr>\n",
       "      <th>1</th>\n",
       "      <td>0.715060</td>\n",
       "      <td>0.420100</td>\n",
       "      <td>1.067411</td>\n",
       "      <td>-0.252915</td>\n",
       "      <td>0.308021</td>\n",
       "      <td>11.331777</td>\n",
       "      <td>-16.995372</td>\n",
       "      <td>2.373682</td>\n",
       "      <td>-33.658612</td>\n",
       "      <td>-125.494628</td>\n",
       "      <td>-22.252894</td>\n",
       "      <td>-40.004488</td>\n",
       "      <td>9.905228</td>\n",
       "      <td>2.123154</td>\n",
       "      <td>41.409493</td>\n",
       "    </tr>\n",
       "    <tr>\n",
       "      <th>2</th>\n",
       "      <td>0.715060</td>\n",
       "      <td>0.465787</td>\n",
       "      <td>-0.031711</td>\n",
       "      <td>-1.288291</td>\n",
       "      <td>1.070318</td>\n",
       "      <td>11.345714</td>\n",
       "      <td>-16.995508</td>\n",
       "      <td>2.373562</td>\n",
       "      <td>-33.714111</td>\n",
       "      <td>-126.326516</td>\n",
       "      <td>-22.305383</td>\n",
       "      <td>-40.627728</td>\n",
       "      <td>10.087023</td>\n",
       "      <td>2.155519</td>\n",
       "      <td>43.498657</td>\n",
       "    </tr>\n",
       "    <tr>\n",
       "      <th>3</th>\n",
       "      <td>0.715060</td>\n",
       "      <td>0.054609</td>\n",
       "      <td>0.561870</td>\n",
       "      <td>0.410086</td>\n",
       "      <td>0.473765</td>\n",
       "      <td>11.122431</td>\n",
       "      <td>-16.608948</td>\n",
       "      <td>2.386491</td>\n",
       "      <td>-31.982962</td>\n",
       "      <td>-120.319543</td>\n",
       "      <td>-21.361182</td>\n",
       "      <td>-33.717319</td>\n",
       "      <td>9.441934</td>\n",
       "      <td>2.414767</td>\n",
       "      <td>40.101103</td>\n",
       "    </tr>\n",
       "    <tr>\n",
       "      <th>4</th>\n",
       "      <td>0.715060</td>\n",
       "      <td>0.191668</td>\n",
       "      <td>0.555353</td>\n",
       "      <td>0.250084</td>\n",
       "      <td>0.620114</td>\n",
       "      <td>11.351337</td>\n",
       "      <td>-16.989830</td>\n",
       "      <td>2.372330</td>\n",
       "      <td>-33.718368</td>\n",
       "      <td>-126.231744</td>\n",
       "      <td>-22.273078</td>\n",
       "      <td>-40.643782</td>\n",
       "      <td>10.073113</td>\n",
       "      <td>2.139216</td>\n",
       "      <td>43.366065</td>\n",
       "    </tr>\n",
       "  </tbody>\n",
       "</table>\n",
       "</div>"
      ],
      "text/plain": [
       "        0_x       1_x       2_x       3_x       4_x        0_y        1_y  \\\n",
       "0 -1.398483  0.237355  0.858321  0.497461  0.504000  11.349568 -16.993841   \n",
       "1  0.715060  0.420100  1.067411 -0.252915  0.308021  11.331777 -16.995372   \n",
       "2  0.715060  0.465787 -0.031711 -1.288291  1.070318  11.345714 -16.995508   \n",
       "3  0.715060  0.054609  0.561870  0.410086  0.473765  11.122431 -16.608948   \n",
       "4  0.715060  0.191668  0.555353  0.250084  0.620114  11.351337 -16.989830   \n",
       "\n",
       "        2_y        3_y         4_y          5          6          7         8  \\\n",
       "0  2.373350 -33.686099 -126.073410 -22.289325 -40.659993  10.109199  2.146177   \n",
       "1  2.373682 -33.658612 -125.494628 -22.252894 -40.004488   9.905228  2.123154   \n",
       "2  2.373562 -33.714111 -126.326516 -22.305383 -40.627728  10.087023  2.155519   \n",
       "3  2.386491 -31.982962 -120.319543 -21.361182 -33.717319   9.441934  2.414767   \n",
       "4  2.372330 -33.718368 -126.231744 -22.273078 -40.643782  10.073113  2.139216   \n",
       "\n",
       "           9  \n",
       "0  43.476150  \n",
       "1  41.409493  \n",
       "2  43.498657  \n",
       "3  40.101103  \n",
       "4  43.366065  "
      ]
     },
     "execution_count": 23,
     "metadata": {},
     "output_type": "execute_result"
    }
   ],
   "source": [
    "merge_traindf.head()"
   ]
  },
  {
   "cell_type": "code",
   "execution_count": 43,
   "metadata": {
    "collapsed": false
   },
   "outputs": [
    {
     "data": {
      "text/plain": [
       "(233286, 15)"
      ]
     },
     "execution_count": 43,
     "metadata": {},
     "output_type": "execute_result"
    }
   ],
   "source": [
    "merge_traindf.shape"
   ]
  },
  {
   "cell_type": "markdown",
   "metadata": {},
   "source": [
    "# Test data"
   ]
  },
  {
   "cell_type": "code",
   "execution_count": 27,
   "metadata": {
    "collapsed": true
   },
   "outputs": [],
   "source": [
    "# Load the training data.\n",
    "test_data = {}\n",
    "with open(test_file, 'r') as test_fh:\n",
    "    test_csv = csv.reader(test_fh, delimiter=',', quotechar='\"')\n",
    "    next(test_csv, None)\n",
    "    for row in test_csv:\n",
    "        id     = row[0]\n",
    "        user   = row[1]\n",
    "        artist = row[2]\n",
    "    \n",
    "        if not user in test_data:\n",
    "            test_data[user] = {}\n",
    "        \n",
    "        test_data[user][artist] = 0"
   ]
  },
  {
   "cell_type": "code",
   "execution_count": 29,
   "metadata": {
    "collapsed": true
   },
   "outputs": [],
   "source": [
    "bigtestdf = pd.DataFrame.from_dict(test_data)"
   ]
  },
  {
   "cell_type": "code",
   "execution_count": 31,
   "metadata": {
    "collapsed": false
   },
   "outputs": [],
   "source": [
    "bigtestdf = bigtestdf.transpose()"
   ]
  },
  {
   "cell_type": "code",
   "execution_count": 34,
   "metadata": {
    "collapsed": false
   },
   "outputs": [
    {
     "data": {
      "text/html": [
       "<div>\n",
       "<table border=\"1\" class=\"dataframe\">\n",
       "  <thead>\n",
       "    <tr style=\"text-align: right;\">\n",
       "      <th></th>\n",
       "      <th>000d90ec-d64c-48a1-b775-e726fd240e9f</th>\n",
       "      <th>000fc734-b7e1-4a01-92d1-f544261b43f5</th>\n",
       "      <th>0019749d-ee29-4a5f-ab17-6bfa11deb969</th>\n",
       "      <th>0039c7ae-e1a7-4a7d-9b49-0cbc716821a6</th>\n",
       "      <th>004e5eed-e267-46ea-b504-54526f1f377d</th>\n",
       "      <th>00565b31-14a3-4913-bd22-385eb40dd13c</th>\n",
       "      <th>00a9f935-ba93-4fc8-a33a-993abe9c936b</th>\n",
       "      <th>00eeed6b-5897-4359-8347-b8cd28375331</th>\n",
       "      <th>0103c1cc-4a09-4a5d-a344-56ad99a77193</th>\n",
       "      <th>0110e63e-0a9b-4818-af8e-41e180c20b9a</th>\n",
       "      <th>...</th>\n",
       "      <th>ff6e677f-91dd-4986-a174-8db0474b1799</th>\n",
       "      <th>ff7f80cd-05c2-4068-a00e-fbfbd453d049</th>\n",
       "      <th>ff865aa0-4603-4f79-ae8b-8735332e2cfa</th>\n",
       "      <th>ff95eb47-41c4-4f7f-a104-cdc30f02e872</th>\n",
       "      <th>ff9deaae-da4f-42b7-a19e-36fedd3fc706</th>\n",
       "      <th>ffb18e19-64a4-4a65-b4ce-979e00c3c69d</th>\n",
       "      <th>ffb2d3e3-a4cc-48cf-8fb0-f2f846e9d7b9</th>\n",
       "      <th>ffb390b8-8df4-4b72-97d1-7b2fc008a452</th>\n",
       "      <th>ffe16bba-4d84-409b-8f22-5242c60b930f</th>\n",
       "      <th>ffe9ec08-6b6b-4993-9394-e280b429dbfd</th>\n",
       "    </tr>\n",
       "  </thead>\n",
       "  <tbody>\n",
       "    <tr>\n",
       "      <th>00000c289a1829a808ac09c00daf10bc3c4e223b</th>\n",
       "      <td>NaN</td>\n",
       "      <td>NaN</td>\n",
       "      <td>NaN</td>\n",
       "      <td>NaN</td>\n",
       "      <td>NaN</td>\n",
       "      <td>NaN</td>\n",
       "      <td>NaN</td>\n",
       "      <td>NaN</td>\n",
       "      <td>NaN</td>\n",
       "      <td>NaN</td>\n",
       "      <td>...</td>\n",
       "      <td>0</td>\n",
       "      <td>0</td>\n",
       "      <td>NaN</td>\n",
       "      <td>NaN</td>\n",
       "      <td>NaN</td>\n",
       "      <td>NaN</td>\n",
       "      <td>NaN</td>\n",
       "      <td>NaN</td>\n",
       "      <td>NaN</td>\n",
       "      <td>NaN</td>\n",
       "    </tr>\n",
       "    <tr>\n",
       "      <th>00001411dc427966b17297bf4d69e7e193135d89</th>\n",
       "      <td>NaN</td>\n",
       "      <td>NaN</td>\n",
       "      <td>NaN</td>\n",
       "      <td>0</td>\n",
       "      <td>NaN</td>\n",
       "      <td>NaN</td>\n",
       "      <td>NaN</td>\n",
       "      <td>NaN</td>\n",
       "      <td>NaN</td>\n",
       "      <td>NaN</td>\n",
       "      <td>...</td>\n",
       "      <td>NaN</td>\n",
       "      <td>NaN</td>\n",
       "      <td>NaN</td>\n",
       "      <td>NaN</td>\n",
       "      <td>NaN</td>\n",
       "      <td>NaN</td>\n",
       "      <td>NaN</td>\n",
       "      <td>NaN</td>\n",
       "      <td>NaN</td>\n",
       "      <td>NaN</td>\n",
       "    </tr>\n",
       "    <tr>\n",
       "      <th>000063d3fe1cf2ba248b9e3c3f0334845a27a6bf</th>\n",
       "      <td>NaN</td>\n",
       "      <td>NaN</td>\n",
       "      <td>NaN</td>\n",
       "      <td>NaN</td>\n",
       "      <td>NaN</td>\n",
       "      <td>NaN</td>\n",
       "      <td>NaN</td>\n",
       "      <td>NaN</td>\n",
       "      <td>NaN</td>\n",
       "      <td>NaN</td>\n",
       "      <td>...</td>\n",
       "      <td>NaN</td>\n",
       "      <td>NaN</td>\n",
       "      <td>NaN</td>\n",
       "      <td>NaN</td>\n",
       "      <td>NaN</td>\n",
       "      <td>NaN</td>\n",
       "      <td>NaN</td>\n",
       "      <td>NaN</td>\n",
       "      <td>NaN</td>\n",
       "      <td>NaN</td>\n",
       "    </tr>\n",
       "    <tr>\n",
       "      <th>00007a47085b9aab8af55f52ec8846ac479ac4fe</th>\n",
       "      <td>NaN</td>\n",
       "      <td>NaN</td>\n",
       "      <td>NaN</td>\n",
       "      <td>NaN</td>\n",
       "      <td>NaN</td>\n",
       "      <td>NaN</td>\n",
       "      <td>NaN</td>\n",
       "      <td>NaN</td>\n",
       "      <td>NaN</td>\n",
       "      <td>NaN</td>\n",
       "      <td>...</td>\n",
       "      <td>NaN</td>\n",
       "      <td>NaN</td>\n",
       "      <td>NaN</td>\n",
       "      <td>NaN</td>\n",
       "      <td>NaN</td>\n",
       "      <td>NaN</td>\n",
       "      <td>NaN</td>\n",
       "      <td>NaN</td>\n",
       "      <td>NaN</td>\n",
       "      <td>NaN</td>\n",
       "    </tr>\n",
       "    <tr>\n",
       "      <th>0000c176103e538d5c9828e695fed4f7ae42dd01</th>\n",
       "      <td>NaN</td>\n",
       "      <td>NaN</td>\n",
       "      <td>NaN</td>\n",
       "      <td>NaN</td>\n",
       "      <td>NaN</td>\n",
       "      <td>NaN</td>\n",
       "      <td>NaN</td>\n",
       "      <td>NaN</td>\n",
       "      <td>NaN</td>\n",
       "      <td>NaN</td>\n",
       "      <td>...</td>\n",
       "      <td>NaN</td>\n",
       "      <td>NaN</td>\n",
       "      <td>NaN</td>\n",
       "      <td>NaN</td>\n",
       "      <td>NaN</td>\n",
       "      <td>NaN</td>\n",
       "      <td>NaN</td>\n",
       "      <td>NaN</td>\n",
       "      <td>NaN</td>\n",
       "      <td>NaN</td>\n",
       "    </tr>\n",
       "  </tbody>\n",
       "</table>\n",
       "<p>5 rows × 2000 columns</p>\n",
       "</div>"
      ],
      "text/plain": [
       "                                          000d90ec-d64c-48a1-b775-e726fd240e9f  \\\n",
       "00000c289a1829a808ac09c00daf10bc3c4e223b                                   NaN   \n",
       "00001411dc427966b17297bf4d69e7e193135d89                                   NaN   \n",
       "000063d3fe1cf2ba248b9e3c3f0334845a27a6bf                                   NaN   \n",
       "00007a47085b9aab8af55f52ec8846ac479ac4fe                                   NaN   \n",
       "0000c176103e538d5c9828e695fed4f7ae42dd01                                   NaN   \n",
       "\n",
       "                                          000fc734-b7e1-4a01-92d1-f544261b43f5  \\\n",
       "00000c289a1829a808ac09c00daf10bc3c4e223b                                   NaN   \n",
       "00001411dc427966b17297bf4d69e7e193135d89                                   NaN   \n",
       "000063d3fe1cf2ba248b9e3c3f0334845a27a6bf                                   NaN   \n",
       "00007a47085b9aab8af55f52ec8846ac479ac4fe                                   NaN   \n",
       "0000c176103e538d5c9828e695fed4f7ae42dd01                                   NaN   \n",
       "\n",
       "                                          0019749d-ee29-4a5f-ab17-6bfa11deb969  \\\n",
       "00000c289a1829a808ac09c00daf10bc3c4e223b                                   NaN   \n",
       "00001411dc427966b17297bf4d69e7e193135d89                                   NaN   \n",
       "000063d3fe1cf2ba248b9e3c3f0334845a27a6bf                                   NaN   \n",
       "00007a47085b9aab8af55f52ec8846ac479ac4fe                                   NaN   \n",
       "0000c176103e538d5c9828e695fed4f7ae42dd01                                   NaN   \n",
       "\n",
       "                                          0039c7ae-e1a7-4a7d-9b49-0cbc716821a6  \\\n",
       "00000c289a1829a808ac09c00daf10bc3c4e223b                                   NaN   \n",
       "00001411dc427966b17297bf4d69e7e193135d89                                     0   \n",
       "000063d3fe1cf2ba248b9e3c3f0334845a27a6bf                                   NaN   \n",
       "00007a47085b9aab8af55f52ec8846ac479ac4fe                                   NaN   \n",
       "0000c176103e538d5c9828e695fed4f7ae42dd01                                   NaN   \n",
       "\n",
       "                                          004e5eed-e267-46ea-b504-54526f1f377d  \\\n",
       "00000c289a1829a808ac09c00daf10bc3c4e223b                                   NaN   \n",
       "00001411dc427966b17297bf4d69e7e193135d89                                   NaN   \n",
       "000063d3fe1cf2ba248b9e3c3f0334845a27a6bf                                   NaN   \n",
       "00007a47085b9aab8af55f52ec8846ac479ac4fe                                   NaN   \n",
       "0000c176103e538d5c9828e695fed4f7ae42dd01                                   NaN   \n",
       "\n",
       "                                          00565b31-14a3-4913-bd22-385eb40dd13c  \\\n",
       "00000c289a1829a808ac09c00daf10bc3c4e223b                                   NaN   \n",
       "00001411dc427966b17297bf4d69e7e193135d89                                   NaN   \n",
       "000063d3fe1cf2ba248b9e3c3f0334845a27a6bf                                   NaN   \n",
       "00007a47085b9aab8af55f52ec8846ac479ac4fe                                   NaN   \n",
       "0000c176103e538d5c9828e695fed4f7ae42dd01                                   NaN   \n",
       "\n",
       "                                          00a9f935-ba93-4fc8-a33a-993abe9c936b  \\\n",
       "00000c289a1829a808ac09c00daf10bc3c4e223b                                   NaN   \n",
       "00001411dc427966b17297bf4d69e7e193135d89                                   NaN   \n",
       "000063d3fe1cf2ba248b9e3c3f0334845a27a6bf                                   NaN   \n",
       "00007a47085b9aab8af55f52ec8846ac479ac4fe                                   NaN   \n",
       "0000c176103e538d5c9828e695fed4f7ae42dd01                                   NaN   \n",
       "\n",
       "                                          00eeed6b-5897-4359-8347-b8cd28375331  \\\n",
       "00000c289a1829a808ac09c00daf10bc3c4e223b                                   NaN   \n",
       "00001411dc427966b17297bf4d69e7e193135d89                                   NaN   \n",
       "000063d3fe1cf2ba248b9e3c3f0334845a27a6bf                                   NaN   \n",
       "00007a47085b9aab8af55f52ec8846ac479ac4fe                                   NaN   \n",
       "0000c176103e538d5c9828e695fed4f7ae42dd01                                   NaN   \n",
       "\n",
       "                                          0103c1cc-4a09-4a5d-a344-56ad99a77193  \\\n",
       "00000c289a1829a808ac09c00daf10bc3c4e223b                                   NaN   \n",
       "00001411dc427966b17297bf4d69e7e193135d89                                   NaN   \n",
       "000063d3fe1cf2ba248b9e3c3f0334845a27a6bf                                   NaN   \n",
       "00007a47085b9aab8af55f52ec8846ac479ac4fe                                   NaN   \n",
       "0000c176103e538d5c9828e695fed4f7ae42dd01                                   NaN   \n",
       "\n",
       "                                          0110e63e-0a9b-4818-af8e-41e180c20b9a  \\\n",
       "00000c289a1829a808ac09c00daf10bc3c4e223b                                   NaN   \n",
       "00001411dc427966b17297bf4d69e7e193135d89                                   NaN   \n",
       "000063d3fe1cf2ba248b9e3c3f0334845a27a6bf                                   NaN   \n",
       "00007a47085b9aab8af55f52ec8846ac479ac4fe                                   NaN   \n",
       "0000c176103e538d5c9828e695fed4f7ae42dd01                                   NaN   \n",
       "\n",
       "                                                          ...                   \\\n",
       "00000c289a1829a808ac09c00daf10bc3c4e223b                  ...                    \n",
       "00001411dc427966b17297bf4d69e7e193135d89                  ...                    \n",
       "000063d3fe1cf2ba248b9e3c3f0334845a27a6bf                  ...                    \n",
       "00007a47085b9aab8af55f52ec8846ac479ac4fe                  ...                    \n",
       "0000c176103e538d5c9828e695fed4f7ae42dd01                  ...                    \n",
       "\n",
       "                                          ff6e677f-91dd-4986-a174-8db0474b1799  \\\n",
       "00000c289a1829a808ac09c00daf10bc3c4e223b                                     0   \n",
       "00001411dc427966b17297bf4d69e7e193135d89                                   NaN   \n",
       "000063d3fe1cf2ba248b9e3c3f0334845a27a6bf                                   NaN   \n",
       "00007a47085b9aab8af55f52ec8846ac479ac4fe                                   NaN   \n",
       "0000c176103e538d5c9828e695fed4f7ae42dd01                                   NaN   \n",
       "\n",
       "                                          ff7f80cd-05c2-4068-a00e-fbfbd453d049  \\\n",
       "00000c289a1829a808ac09c00daf10bc3c4e223b                                     0   \n",
       "00001411dc427966b17297bf4d69e7e193135d89                                   NaN   \n",
       "000063d3fe1cf2ba248b9e3c3f0334845a27a6bf                                   NaN   \n",
       "00007a47085b9aab8af55f52ec8846ac479ac4fe                                   NaN   \n",
       "0000c176103e538d5c9828e695fed4f7ae42dd01                                   NaN   \n",
       "\n",
       "                                          ff865aa0-4603-4f79-ae8b-8735332e2cfa  \\\n",
       "00000c289a1829a808ac09c00daf10bc3c4e223b                                   NaN   \n",
       "00001411dc427966b17297bf4d69e7e193135d89                                   NaN   \n",
       "000063d3fe1cf2ba248b9e3c3f0334845a27a6bf                                   NaN   \n",
       "00007a47085b9aab8af55f52ec8846ac479ac4fe                                   NaN   \n",
       "0000c176103e538d5c9828e695fed4f7ae42dd01                                   NaN   \n",
       "\n",
       "                                          ff95eb47-41c4-4f7f-a104-cdc30f02e872  \\\n",
       "00000c289a1829a808ac09c00daf10bc3c4e223b                                   NaN   \n",
       "00001411dc427966b17297bf4d69e7e193135d89                                   NaN   \n",
       "000063d3fe1cf2ba248b9e3c3f0334845a27a6bf                                   NaN   \n",
       "00007a47085b9aab8af55f52ec8846ac479ac4fe                                   NaN   \n",
       "0000c176103e538d5c9828e695fed4f7ae42dd01                                   NaN   \n",
       "\n",
       "                                          ff9deaae-da4f-42b7-a19e-36fedd3fc706  \\\n",
       "00000c289a1829a808ac09c00daf10bc3c4e223b                                   NaN   \n",
       "00001411dc427966b17297bf4d69e7e193135d89                                   NaN   \n",
       "000063d3fe1cf2ba248b9e3c3f0334845a27a6bf                                   NaN   \n",
       "00007a47085b9aab8af55f52ec8846ac479ac4fe                                   NaN   \n",
       "0000c176103e538d5c9828e695fed4f7ae42dd01                                   NaN   \n",
       "\n",
       "                                          ffb18e19-64a4-4a65-b4ce-979e00c3c69d  \\\n",
       "00000c289a1829a808ac09c00daf10bc3c4e223b                                   NaN   \n",
       "00001411dc427966b17297bf4d69e7e193135d89                                   NaN   \n",
       "000063d3fe1cf2ba248b9e3c3f0334845a27a6bf                                   NaN   \n",
       "00007a47085b9aab8af55f52ec8846ac479ac4fe                                   NaN   \n",
       "0000c176103e538d5c9828e695fed4f7ae42dd01                                   NaN   \n",
       "\n",
       "                                          ffb2d3e3-a4cc-48cf-8fb0-f2f846e9d7b9  \\\n",
       "00000c289a1829a808ac09c00daf10bc3c4e223b                                   NaN   \n",
       "00001411dc427966b17297bf4d69e7e193135d89                                   NaN   \n",
       "000063d3fe1cf2ba248b9e3c3f0334845a27a6bf                                   NaN   \n",
       "00007a47085b9aab8af55f52ec8846ac479ac4fe                                   NaN   \n",
       "0000c176103e538d5c9828e695fed4f7ae42dd01                                   NaN   \n",
       "\n",
       "                                          ffb390b8-8df4-4b72-97d1-7b2fc008a452  \\\n",
       "00000c289a1829a808ac09c00daf10bc3c4e223b                                   NaN   \n",
       "00001411dc427966b17297bf4d69e7e193135d89                                   NaN   \n",
       "000063d3fe1cf2ba248b9e3c3f0334845a27a6bf                                   NaN   \n",
       "00007a47085b9aab8af55f52ec8846ac479ac4fe                                   NaN   \n",
       "0000c176103e538d5c9828e695fed4f7ae42dd01                                   NaN   \n",
       "\n",
       "                                          ffe16bba-4d84-409b-8f22-5242c60b930f  \\\n",
       "00000c289a1829a808ac09c00daf10bc3c4e223b                                   NaN   \n",
       "00001411dc427966b17297bf4d69e7e193135d89                                   NaN   \n",
       "000063d3fe1cf2ba248b9e3c3f0334845a27a6bf                                   NaN   \n",
       "00007a47085b9aab8af55f52ec8846ac479ac4fe                                   NaN   \n",
       "0000c176103e538d5c9828e695fed4f7ae42dd01                                   NaN   \n",
       "\n",
       "                                          ffe9ec08-6b6b-4993-9394-e280b429dbfd  \n",
       "00000c289a1829a808ac09c00daf10bc3c4e223b                                   NaN  \n",
       "00001411dc427966b17297bf4d69e7e193135d89                                   NaN  \n",
       "000063d3fe1cf2ba248b9e3c3f0334845a27a6bf                                   NaN  \n",
       "00007a47085b9aab8af55f52ec8846ac479ac4fe                                   NaN  \n",
       "0000c176103e538d5c9828e695fed4f7ae42dd01                                   NaN  \n",
       "\n",
       "[5 rows x 2000 columns]"
      ]
     },
     "execution_count": 34,
     "metadata": {},
     "output_type": "execute_result"
    }
   ],
   "source": [
    "bigtestdf.head()"
   ]
  },
  {
   "cell_type": "code",
   "execution_count": 33,
   "metadata": {
    "collapsed": false
   },
   "outputs": [
    {
     "data": {
      "text/plain": [
       "(233286, 2000)"
      ]
     },
     "execution_count": 33,
     "metadata": {},
     "output_type": "execute_result"
    }
   ],
   "source": [
    "bigtestdf.shape"
   ]
  },
  {
   "cell_type": "markdown",
   "metadata": {},
   "source": [
    "# K means"
   ]
  },
  {
   "cell_type": "code",
   "execution_count": 35,
   "metadata": {
    "collapsed": true
   },
   "outputs": [],
   "source": [
    "from sklearn import cluster"
   ]
  },
  {
   "cell_type": "code",
   "execution_count": 36,
   "metadata": {
    "collapsed": false
   },
   "outputs": [
    {
     "name": "stdout",
     "output_type": "stream",
     "text": [
      "CPU times: user 11.8 s, sys: 1.69 s, total: 13.5 s\n",
      "Wall time: 11.2 s\n"
     ]
    }
   ],
   "source": [
    "%%time\n",
    "k_means = cluster.KMeans()\n",
    "k_means.fit(merge_traindf)"
   ]
  },
  {
   "cell_type": "code",
   "execution_count": 38,
   "metadata": {
    "collapsed": false
   },
   "outputs": [
    {
     "name": "stdout",
     "output_type": "stream",
     "text": [
      "CPU times: user 17.1 s, sys: 2.36 s, total: 19.5 s\n",
      "Wall time: 16.1 s\n"
     ]
    }
   ],
   "source": [
    "%%time\n",
    "df = k_means.fit_predict(merge_traindf)"
   ]
  },
  {
   "cell_type": "code",
   "execution_count": 42,
   "metadata": {
    "collapsed": false
   },
   "outputs": [
    {
     "data": {
      "text/plain": [
       "2"
      ]
     },
     "execution_count": 42,
     "metadata": {},
     "output_type": "execute_result"
    }
   ],
   "source": []
  },
  {
   "cell_type": "code",
   "execution_count": null,
   "metadata": {
    "collapsed": true
   },
   "outputs": [],
   "source": []
  }
 ],
 "metadata": {
  "kernelspec": {
   "display_name": "Python 2",
   "language": "python",
   "name": "python2"
  },
  "language_info": {
   "codemirror_mode": {
    "name": "ipython",
    "version": 2
   },
   "file_extension": ".py",
   "mimetype": "text/x-python",
   "name": "python",
   "nbconvert_exporter": "python",
   "pygments_lexer": "ipython2",
   "version": "2.7.10"
  }
 },
 "nbformat": 4,
 "nbformat_minor": 0
}
