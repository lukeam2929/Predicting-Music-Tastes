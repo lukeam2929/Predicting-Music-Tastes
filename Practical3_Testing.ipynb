{
 "cells": [
  {
   "cell_type": "code",
   "execution_count": 1,
   "metadata": {
    "collapsed": true
   },
   "outputs": [],
   "source": [
    "import numpy as np\n",
    "import csv\n",
    "import pandas as pd\n",
    "from sklearn.cross_validation import train_test_split\n",
    "from sklearn import preprocessing\n",
    "from sklearn.decomposition import PCA"
   ]
  },
  {
   "cell_type": "code",
   "execution_count": 2,
   "metadata": {
    "collapsed": true
   },
   "outputs": [],
   "source": [
    "from sklearn import cluster"
   ]
  },
  {
   "cell_type": "code",
   "execution_count": 3,
   "metadata": {
    "collapsed": true
   },
   "outputs": [],
   "source": [
    "train_file = 'train.csv'\n",
    "test_file  = 'test.csv'\n",
    "user_median_file  = 'user_median.csv'\n",
    "global_median_file = 'global_median.csv'\n",
    "profiles_file = 'profiles.csv'\n",
    "artists_file = 'artists.csv'\n",
    "usr_art_file = 'usr-art_mat.csv'"
   ]
  },
  {
   "cell_type": "markdown",
   "metadata": {},
   "source": [
    "# Artist data"
   ]
  },
  {
   "cell_type": "code",
   "execution_count": 4,
   "metadata": {
    "collapsed": true
   },
   "outputs": [],
   "source": [
    "artistsdf = pd.read_csv(artists_file)"
   ]
  },
  {
   "cell_type": "code",
   "execution_count": 5,
   "metadata": {
    "collapsed": false
   },
   "outputs": [
    {
     "data": {
      "text/html": [
       "<div>\n",
       "<table border=\"1\" class=\"dataframe\">\n",
       "  <thead>\n",
       "    <tr style=\"text-align: right;\">\n",
       "      <th></th>\n",
       "      <th>artist</th>\n",
       "      <th>name</th>\n",
       "    </tr>\n",
       "  </thead>\n",
       "  <tbody>\n",
       "    <tr>\n",
       "      <th>0</th>\n",
       "      <td>03098741-08b3-4dd7-b3f6-1b0bfa2c879c</td>\n",
       "      <td>Liars</td>\n",
       "    </tr>\n",
       "    <tr>\n",
       "      <th>1</th>\n",
       "      <td>69c4cc43-8163-41c5-ac81-30946d27bb69</td>\n",
       "      <td>CunninLynguists</td>\n",
       "    </tr>\n",
       "    <tr>\n",
       "      <th>2</th>\n",
       "      <td>7a2e6b55-f149-4e74-be6a-30a1b1a387bb</td>\n",
       "      <td>The Desert Sessions</td>\n",
       "    </tr>\n",
       "    <tr>\n",
       "      <th>3</th>\n",
       "      <td>7002bf88-1269-4965-a772-4ba1e7a91eaa</td>\n",
       "      <td>Glenn Gould</td>\n",
       "    </tr>\n",
       "    <tr>\n",
       "      <th>4</th>\n",
       "      <td>dbf7c761-e332-467b-b4d9-aafe06bbcf8f</td>\n",
       "      <td>G. Love &amp; Special Sauce</td>\n",
       "    </tr>\n",
       "  </tbody>\n",
       "</table>\n",
       "</div>"
      ],
      "text/plain": [
       "                                 artist                     name\n",
       "0  03098741-08b3-4dd7-b3f6-1b0bfa2c879c                    Liars\n",
       "1  69c4cc43-8163-41c5-ac81-30946d27bb69          CunninLynguists\n",
       "2  7a2e6b55-f149-4e74-be6a-30a1b1a387bb      The Desert Sessions\n",
       "3  7002bf88-1269-4965-a772-4ba1e7a91eaa              Glenn Gould\n",
       "4  dbf7c761-e332-467b-b4d9-aafe06bbcf8f  G. Love & Special Sauce"
      ]
     },
     "execution_count": 5,
     "metadata": {},
     "output_type": "execute_result"
    }
   ],
   "source": [
    "artistsdf.head()"
   ]
  },
  {
   "cell_type": "code",
   "execution_count": 6,
   "metadata": {
    "collapsed": true
   },
   "outputs": [],
   "source": [
    "artists = artistsdf['artist']"
   ]
  },
  {
   "cell_type": "markdown",
   "metadata": {},
   "source": [
    "# Read in full training data"
   ]
  },
  {
   "cell_type": "code",
   "execution_count": 7,
   "metadata": {
    "collapsed": true
   },
   "outputs": [],
   "source": [
    "inputdf = pd.read_csv(train_file)"
   ]
  },
  {
   "cell_type": "code",
   "execution_count": 8,
   "metadata": {
    "collapsed": false
   },
   "outputs": [],
   "source": [
    "traindf = inputdf.pivot(index='user', columns='artist', values='plays')"
   ]
  },
  {
   "cell_type": "code",
   "execution_count": 9,
   "metadata": {
    "collapsed": true
   },
   "outputs": [],
   "source": [
    "traindf.reset_index(inplace=True)"
   ]
  },
  {
   "cell_type": "code",
   "execution_count": 10,
   "metadata": {
    "collapsed": true
   },
   "outputs": [],
   "source": [
    "train_users = traindf['user']"
   ]
  },
  {
   "cell_type": "code",
   "execution_count": 11,
   "metadata": {
    "collapsed": true
   },
   "outputs": [],
   "source": [
    "traindfpc = pd.read_pickle('trainpcs.pkl')"
   ]
  },
  {
   "cell_type": "code",
   "execution_count": 12,
   "metadata": {
    "collapsed": true
   },
   "outputs": [],
   "source": [
    "merge_traindf = pd.read_pickle('merge_traindf.pkl')"
   ]
  },
  {
   "cell_type": "code",
   "execution_count": 13,
   "metadata": {
    "collapsed": true
   },
   "outputs": [],
   "source": [
    "merge_users = merge_traindf['user']\n",
    "merge_traindf = merge_traindf.drop('user', 1)"
   ]
  },
  {
   "cell_type": "markdown",
   "metadata": {},
   "source": [
    "# Read in split train/validate data"
   ]
  },
  {
   "cell_type": "code",
   "execution_count": 14,
   "metadata": {
    "collapsed": false
   },
   "outputs": [],
   "source": [
    "X_train = pd.read_pickle('Xtrain.pkl')"
   ]
  },
  {
   "cell_type": "code",
   "execution_count": 16,
   "metadata": {
    "collapsed": false
   },
   "outputs": [],
   "source": [
    "X_valid = pd.read_pickle('Xvalid.pkl')"
   ]
  },
  {
   "cell_type": "code",
   "execution_count": 17,
   "metadata": {
    "collapsed": true
   },
   "outputs": [],
   "source": [
    "X_traindfpc = pd.read_pickle('Xtrainpcs.pkl')"
   ]
  },
  {
   "cell_type": "code",
   "execution_count": 18,
   "metadata": {
    "collapsed": true
   },
   "outputs": [],
   "source": [
    "Xmerge_traindf = pd.read_pickle('Xmerge_traindf.pkl')"
   ]
  },
  {
   "cell_type": "code",
   "execution_count": 19,
   "metadata": {
    "collapsed": true
   },
   "outputs": [],
   "source": [
    "Xmerge_users = Xmerge_traindf['user']\n",
    "Xmerge_traindf = Xmerge_traindf.drop('user', 1)"
   ]
  },
  {
   "cell_type": "code",
   "execution_count": 20,
   "metadata": {
    "collapsed": false
   },
   "outputs": [
    {
     "data": {
      "text/plain": [
       "(233286, 20)"
      ]
     },
     "execution_count": 20,
     "metadata": {},
     "output_type": "execute_result"
    }
   ],
   "source": [
    "Xmerge_traindf.shape"
   ]
  },
  {
   "cell_type": "markdown",
   "metadata": {},
   "source": [
    "# K Means"
   ]
  },
  {
   "cell_type": "code",
   "execution_count": 22,
   "metadata": {
    "collapsed": true
   },
   "outputs": [],
   "source": [
    "K = 10"
   ]
  },
  {
   "cell_type": "code",
   "execution_count": 22,
   "metadata": {
    "collapsed": false
   },
   "outputs": [
    {
     "name": "stdout",
     "output_type": "stream",
     "text": [
      "CPU times: user 42.9 s, sys: 3.75 s, total: 46.6 s\n",
      "Wall time: 40.4 s\n"
     ]
    }
   ],
   "source": [
    "%%time\n",
    "k_means = cluster.KMeans(n_clusters=K, init='k-means++')\n",
    "k_means.fit(merge_traindf)"
   ]
  },
  {
   "cell_type": "code",
   "execution_count": 23,
   "metadata": {
    "collapsed": false
   },
   "outputs": [
    {
     "data": {
      "text/plain": [
       "array([7, 1, 4, ..., 7, 1, 1], dtype=int32)"
      ]
     },
     "execution_count": 23,
     "metadata": {},
     "output_type": "execute_result"
    }
   ],
   "source": [
    "k_means.labels_"
   ]
  },
  {
   "cell_type": "code",
   "execution_count": 105,
   "metadata": {
    "collapsed": false
   },
   "outputs": [
    {
     "name": "stdout",
     "output_type": "stream",
     "text": [
      "CPU times: user 20min 59s, sys: 4.51 s, total: 21min 3s\n",
      "Wall time: 21min 4s\n"
     ]
    }
   ],
   "source": [
    "%%time\n",
    "dbs = cluster.DBSCAN()\n",
    "dbs.fit(merge_traindf)"
   ]
  },
  {
   "cell_type": "markdown",
   "metadata": {},
   "source": [
    "### for split data"
   ]
  },
  {
   "cell_type": "code",
   "execution_count": 23,
   "metadata": {
    "collapsed": false
   },
   "outputs": [
    {
     "name": "stdout",
     "output_type": "stream",
     "text": [
      "CPU times: user 35.1 s, sys: 3.09 s, total: 38.2 s\n",
      "Wall time: 31.5 s\n"
     ]
    }
   ],
   "source": [
    "%%time\n",
    "Xk_means = cluster.KMeans(n_clusters=K, init='k-means++')\n",
    "Xk_means.fit(Xmerge_traindf)"
   ]
  },
  {
   "cell_type": "code",
   "execution_count": 24,
   "metadata": {
    "collapsed": false
   },
   "outputs": [
    {
     "data": {
      "text/plain": [
       "array([0, 1, 8, ..., 0, 1, 1], dtype=int32)"
      ]
     },
     "execution_count": 24,
     "metadata": {},
     "output_type": "execute_result"
    }
   ],
   "source": [
    "Xk_means.labels_"
   ]
  },
  {
   "cell_type": "code",
   "execution_count": 53,
   "metadata": {
    "collapsed": false
   },
   "outputs": [
    {
     "name": "stdout",
     "output_type": "stream",
     "text": [
      "CPU times: user 23min 20s, sys: 24.3 s, total: 23min 44s\n",
      "Wall time: 24min 1s\n"
     ]
    }
   ],
   "source": [
    "%%time\n",
    "dbs = cluster.DBSCAN()\n",
    "dbs.fit(Xmerge_traindf)"
   ]
  },
  {
   "cell_type": "code",
   "execution_count": 54,
   "metadata": {
    "collapsed": false
   },
   "outputs": [
    {
     "data": {
      "text/plain": [
       "array([ 0, -1,  1, ..., -1, -1, -1])"
      ]
     },
     "execution_count": 54,
     "metadata": {},
     "output_type": "execute_result"
    }
   ],
   "source": [
    "dbs.labels_"
   ]
  },
  {
   "cell_type": "code",
   "execution_count": 55,
   "metadata": {
    "collapsed": false
   },
   "outputs": [
    {
     "data": {
      "text/plain": [
       "233286"
      ]
     },
     "execution_count": 55,
     "metadata": {},
     "output_type": "execute_result"
    }
   ],
   "source": [
    "len(dbs.labels_)"
   ]
  },
  {
   "cell_type": "markdown",
   "metadata": {},
   "source": [
    "# Prediction"
   ]
  },
  {
   "cell_type": "markdown",
   "metadata": {},
   "source": [
    "The idea is to use the median number of plays for a given artist across users in a given cluster. So if my cluster label is 1, I'm predicted to listen to \"Kanye West\" equal to the median number of plays of Kanye West for people in cluster 1."
   ]
  },
  {
   "cell_type": "code",
   "execution_count": 106,
   "metadata": {
    "collapsed": true
   },
   "outputs": [],
   "source": [
    "user_labels = dict(zip(merge_users, dbs.labels_))"
   ]
  },
  {
   "cell_type": "code",
   "execution_count": 107,
   "metadata": {
    "collapsed": false
   },
   "outputs": [],
   "source": [
    "summary_df = pd.DataFrame.from_dict(user_labels, orient='index')"
   ]
  },
  {
   "cell_type": "code",
   "execution_count": 108,
   "metadata": {
    "collapsed": true
   },
   "outputs": [],
   "source": [
    "summary_df.reset_index(inplace=True)"
   ]
  },
  {
   "cell_type": "code",
   "execution_count": 109,
   "metadata": {
    "collapsed": true
   },
   "outputs": [],
   "source": [
    "summary_df.columns = ['user', 'label']"
   ]
  },
  {
   "cell_type": "code",
   "execution_count": 110,
   "metadata": {
    "collapsed": true
   },
   "outputs": [],
   "source": [
    "summary_df = pd.merge(inputdf, summary_df, on='user')"
   ]
  },
  {
   "cell_type": "code",
   "execution_count": 111,
   "metadata": {
    "collapsed": false
   },
   "outputs": [],
   "source": [
    "summary_labelgroup = summary_df.groupby(['label', 'artist'])"
   ]
  },
  {
   "cell_type": "code",
   "execution_count": 112,
   "metadata": {
    "collapsed": true
   },
   "outputs": [],
   "source": [
    "summary_labelonly = summary_df.groupby('label')"
   ]
  },
  {
   "cell_type": "code",
   "execution_count": 113,
   "metadata": {
    "collapsed": false
   },
   "outputs": [],
   "source": [
    "group_mediansdf = summary_labelgroup.median()"
   ]
  },
  {
   "cell_type": "code",
   "execution_count": 114,
   "metadata": {
    "collapsed": true
   },
   "outputs": [],
   "source": [
    "group_labelonly_meds_df = summary_labelonly.median()"
   ]
  },
  {
   "cell_type": "code",
   "execution_count": 115,
   "metadata": {
    "collapsed": false
   },
   "outputs": [],
   "source": [
    "group_mediansdf.reset_index(inplace=True)"
   ]
  },
  {
   "cell_type": "code",
   "execution_count": 116,
   "metadata": {
    "collapsed": false
   },
   "outputs": [
    {
     "data": {
      "text/html": [
       "<div>\n",
       "<table border=\"1\" class=\"dataframe\">\n",
       "  <thead>\n",
       "    <tr style=\"text-align: right;\">\n",
       "      <th></th>\n",
       "      <th>label</th>\n",
       "      <th>artist</th>\n",
       "      <th>plays</th>\n",
       "    </tr>\n",
       "  </thead>\n",
       "  <tbody>\n",
       "    <tr>\n",
       "      <th>0</th>\n",
       "      <td>-1</td>\n",
       "      <td>000d90ec-d64c-48a1-b775-e726fd240e9f</td>\n",
       "      <td>199.0</td>\n",
       "    </tr>\n",
       "    <tr>\n",
       "      <th>1</th>\n",
       "      <td>-1</td>\n",
       "      <td>000fc734-b7e1-4a01-92d1-f544261b43f5</td>\n",
       "      <td>249.5</td>\n",
       "    </tr>\n",
       "    <tr>\n",
       "      <th>2</th>\n",
       "      <td>-1</td>\n",
       "      <td>0019749d-ee29-4a5f-ab17-6bfa11deb969</td>\n",
       "      <td>160.0</td>\n",
       "    </tr>\n",
       "    <tr>\n",
       "      <th>3</th>\n",
       "      <td>-1</td>\n",
       "      <td>0039c7ae-e1a7-4a7d-9b49-0cbc716821a6</td>\n",
       "      <td>308.0</td>\n",
       "    </tr>\n",
       "    <tr>\n",
       "      <th>4</th>\n",
       "      <td>-1</td>\n",
       "      <td>004e5eed-e267-46ea-b504-54526f1f377d</td>\n",
       "      <td>290.0</td>\n",
       "    </tr>\n",
       "  </tbody>\n",
       "</table>\n",
       "</div>"
      ],
      "text/plain": [
       "   label                                artist  plays\n",
       "0     -1  000d90ec-d64c-48a1-b775-e726fd240e9f  199.0\n",
       "1     -1  000fc734-b7e1-4a01-92d1-f544261b43f5  249.5\n",
       "2     -1  0019749d-ee29-4a5f-ab17-6bfa11deb969  160.0\n",
       "3     -1  0039c7ae-e1a7-4a7d-9b49-0cbc716821a6  308.0\n",
       "4     -1  004e5eed-e267-46ea-b504-54526f1f377d  290.0"
      ]
     },
     "execution_count": 116,
     "metadata": {},
     "output_type": "execute_result"
    }
   ],
   "source": [
    "group_mediansdf.head()"
   ]
  },
  {
   "cell_type": "markdown",
   "metadata": {},
   "source": [
    "convert to nested dictionary"
   ]
  },
  {
   "cell_type": "code",
   "execution_count": 117,
   "metadata": {
    "collapsed": true
   },
   "outputs": [],
   "source": [
    "def recur_dictify(frame):\n",
    "    if len(frame.columns) == 1:\n",
    "        if frame.values.size == 1: return frame.values[0][0]\n",
    "        return frame.values.squeeze()\n",
    "    grouped = frame.groupby(frame.columns[0])\n",
    "    d = {k: recur_dictify(g.ix[:,1:]) for k,g in grouped}\n",
    "    return d"
   ]
  },
  {
   "cell_type": "code",
   "execution_count": 118,
   "metadata": {
    "collapsed": true
   },
   "outputs": [],
   "source": [
    "group_medians_dict = recur_dictify(group_mediansdf)"
   ]
  },
  {
   "cell_type": "code",
   "execution_count": 119,
   "metadata": {
    "collapsed": true
   },
   "outputs": [],
   "source": [
    "group_labelonly_meds_df.reset_index(inplace=True)"
   ]
  },
  {
   "cell_type": "code",
   "execution_count": 120,
   "metadata": {
    "collapsed": true
   },
   "outputs": [],
   "source": [
    "label_medians = dict(zip(group_labelonly_meds_df.label, group_labelonly_meds_df.plays))"
   ]
  },
  {
   "cell_type": "markdown",
   "metadata": {},
   "source": [
    "### for split data"
   ]
  },
  {
   "cell_type": "code",
   "execution_count": 56,
   "metadata": {
    "collapsed": true
   },
   "outputs": [],
   "source": [
    "Xuser_labels = dict(zip(Xmerge_users, dbs.labels_))"
   ]
  },
  {
   "cell_type": "code",
   "execution_count": 57,
   "metadata": {
    "collapsed": true
   },
   "outputs": [],
   "source": [
    "Xsummary_df = pd.DataFrame.from_dict(Xuser_labels, orient='index')"
   ]
  },
  {
   "cell_type": "code",
   "execution_count": 58,
   "metadata": {
    "collapsed": true
   },
   "outputs": [],
   "source": [
    "Xsummary_df.reset_index(inplace=True)\n",
    "Xsummary_df.columns = ['user', 'label']"
   ]
  },
  {
   "cell_type": "code",
   "execution_count": 59,
   "metadata": {
    "collapsed": false
   },
   "outputs": [
    {
     "data": {
      "text/plain": [
       "(233286, 2)"
      ]
     },
     "execution_count": 59,
     "metadata": {},
     "output_type": "execute_result"
    }
   ],
   "source": [
    "Xsummary_df.shape"
   ]
  },
  {
   "cell_type": "code",
   "execution_count": 60,
   "metadata": {
    "collapsed": true
   },
   "outputs": [],
   "source": [
    "Xsummary_df = pd.merge(X_train, Xsummary_df, on='user')"
   ]
  },
  {
   "cell_type": "code",
   "execution_count": 61,
   "metadata": {
    "collapsed": true
   },
   "outputs": [],
   "source": [
    "Xsummary_labelgroup = Xsummary_df.groupby(['label', 'artist'])\n",
    "Xsummary_labelonly = Xsummary_df.groupby('label')\n",
    "Xgroup_mediansdf = Xsummary_labelgroup.median()\n",
    "Xgroup_labelonly_meds_df = Xsummary_labelonly.median()"
   ]
  },
  {
   "cell_type": "code",
   "execution_count": 62,
   "metadata": {
    "collapsed": true
   },
   "outputs": [],
   "source": [
    "Xgroup_mediansdf.reset_index(inplace=True)"
   ]
  },
  {
   "cell_type": "code",
   "execution_count": 63,
   "metadata": {
    "collapsed": false
   },
   "outputs": [],
   "source": [
    "Xgroup_medians_dict = recur_dictify(Xgroup_mediansdf)"
   ]
  },
  {
   "cell_type": "code",
   "execution_count": 64,
   "metadata": {
    "collapsed": true
   },
   "outputs": [],
   "source": [
    "Xgroup_labelonly_meds_df.reset_index(inplace=True)"
   ]
  },
  {
   "cell_type": "code",
   "execution_count": 65,
   "metadata": {
    "collapsed": true
   },
   "outputs": [],
   "source": [
    "Xlabel_medians = dict(zip(Xgroup_labelonly_meds_df.label, Xgroup_labelonly_meds_df.plays))"
   ]
  },
  {
   "cell_type": "markdown",
   "metadata": {},
   "source": [
    "# Get the user medians"
   ]
  },
  {
   "cell_type": "code",
   "execution_count": 38,
   "metadata": {
    "collapsed": true
   },
   "outputs": [],
   "source": [
    "# Load the training data.\n",
    "\n",
    "# new: partition into training and validation set\n",
    "# if we want to use all data for training? just set rMax to > 5M\n",
    "rMax = 6000000 # use first 3M to populate training matrix; after that, test\n",
    "r = 0\n",
    "idx = 1\n",
    "\n",
    "train_data = {}\n",
    "test_data = {}\n",
    "with open(train_file, 'r') as train_fh:\n",
    "    train_csv = csv.reader(train_fh, delimiter=',', quotechar='\"')\n",
    "    next(train_csv, None)\n",
    "\n",
    "    for row in train_csv:\n",
    "        user   = row[0]\n",
    "        artist = row[1]\n",
    "        plays  = row[2]\n",
    "        \n",
    "        if r<rMax: # then populate training data\n",
    "            if not user in train_data:\n",
    "                train_data[user] = {}\n",
    "        \n",
    "            train_data[user][artist] = int(plays)\n",
    "            r = r+1\n",
    "        else: # else populate validation set\n",
    "            test_data[idx] = [user, artist, plays] # with valid set: now how extra entry for real # of plays\n",
    "            idx = idx+1"
   ]
  },
  {
   "cell_type": "code",
   "execution_count": 39,
   "metadata": {
    "collapsed": true
   },
   "outputs": [],
   "source": [
    "# Compute the global median and per-user median.\n",
    "plays_array  = []\n",
    "user_medians = {}\n",
    "for user, user_data in train_data.iteritems():\n",
    "    user_plays = []\n",
    "    for artist, plays in user_data.iteritems():\n",
    "        plays_array.append(plays)\n",
    "        user_plays.append(plays)\n",
    "\n",
    "    user_medians[user] = np.median(np.array(user_plays))\n",
    "global_median = np.median(np.array(plays_array))"
   ]
  },
  {
   "cell_type": "markdown",
   "metadata": {},
   "source": [
    "# Write solutions"
   ]
  },
  {
   "cell_type": "code",
   "execution_count": 132,
   "metadata": {
    "collapsed": false
   },
   "outputs": [],
   "source": [
    "soln_file = 'final_test4.csv'\n",
    "\n",
    "# Write out test solutions.\n",
    "with open(test_file, 'r') as test_fh:\n",
    "    test_csv = csv.reader(test_fh, delimiter=',', quotechar='\"')\n",
    "    next(test_csv, None)\n",
    "\n",
    "    with open(soln_file, 'w') as soln_fh:\n",
    "        soln_csv = csv.writer(soln_fh,\n",
    "                              delimiter=',',\n",
    "                              quotechar='\"',\n",
    "                              quoting=csv.QUOTE_MINIMAL)\n",
    "        soln_csv.writerow(['Id', 'plays'])\n",
    "\n",
    "        for row in test_csv:\n",
    "            id     = row[0]\n",
    "            user   = row[1]\n",
    "            artist = row[2]\n",
    "\n",
    "            if user in user_medians:\n",
    "                try:\n",
    "                    label = user_labels[user]\n",
    "                    artist_median = group_medians_dict[label][artist]\n",
    "                    cluster_median = label_medians[label]\n",
    "                    ratio = artist_median/cluster_median\n",
    "                    prediction = user_medians[user]*(ratio)\n",
    "                    if (ratio < 0.5) or (ratio > 2):\n",
    "                        prediction = user_medians[user]*(artist_median/cluster_median)\n",
    "                        #prediction = np.mean([user_medians[user],artist_median])\n",
    "                    else:\n",
    "                        prediction = user_medians[user]\n",
    "                    soln_csv.writerow([id, prediction])\n",
    "                except:\n",
    "                    soln_csv.writerow([id, 0]) # if the artist isn't in the user's cluster, assume 0 plays\n",
    "            else:\n",
    "                print \"User\", id, \"not in training data.\"\n",
    "                soln_csv.writerow([id, global_median])"
   ]
  },
  {
   "cell_type": "code",
   "execution_count": 133,
   "metadata": {
    "collapsed": true
   },
   "outputs": [],
   "source": [
    "solutions = pd.read_csv(soln_file)"
   ]
  },
  {
   "cell_type": "code",
   "execution_count": 134,
   "metadata": {
    "collapsed": false
   },
   "outputs": [
    {
     "data": {
      "text/html": [
       "<div>\n",
       "<table border=\"1\" class=\"dataframe\">\n",
       "  <thead>\n",
       "    <tr style=\"text-align: right;\">\n",
       "      <th></th>\n",
       "      <th>Id</th>\n",
       "      <th>plays</th>\n",
       "    </tr>\n",
       "  </thead>\n",
       "  <tbody>\n",
       "    <tr>\n",
       "      <th>0</th>\n",
       "      <td>1</td>\n",
       "      <td>72.5</td>\n",
       "    </tr>\n",
       "    <tr>\n",
       "      <th>1</th>\n",
       "      <td>2</td>\n",
       "      <td>143.5</td>\n",
       "    </tr>\n",
       "    <tr>\n",
       "      <th>2</th>\n",
       "      <td>3</td>\n",
       "      <td>207.0</td>\n",
       "    </tr>\n",
       "    <tr>\n",
       "      <th>3</th>\n",
       "      <td>4</td>\n",
       "      <td>307.0</td>\n",
       "    </tr>\n",
       "    <tr>\n",
       "      <th>4</th>\n",
       "      <td>5</td>\n",
       "      <td>109.0</td>\n",
       "    </tr>\n",
       "    <tr>\n",
       "      <th>5</th>\n",
       "      <td>6</td>\n",
       "      <td>124.0</td>\n",
       "    </tr>\n",
       "    <tr>\n",
       "      <th>6</th>\n",
       "      <td>7</td>\n",
       "      <td>336.0</td>\n",
       "    </tr>\n",
       "    <tr>\n",
       "      <th>7</th>\n",
       "      <td>8</td>\n",
       "      <td>118.0</td>\n",
       "    </tr>\n",
       "    <tr>\n",
       "      <th>8</th>\n",
       "      <td>9</td>\n",
       "      <td>443.5</td>\n",
       "    </tr>\n",
       "    <tr>\n",
       "      <th>9</th>\n",
       "      <td>10</td>\n",
       "      <td>148.0</td>\n",
       "    </tr>\n",
       "    <tr>\n",
       "      <th>10</th>\n",
       "      <td>11</td>\n",
       "      <td>8.0</td>\n",
       "    </tr>\n",
       "    <tr>\n",
       "      <th>11</th>\n",
       "      <td>12</td>\n",
       "      <td>287.0</td>\n",
       "    </tr>\n",
       "    <tr>\n",
       "      <th>12</th>\n",
       "      <td>13</td>\n",
       "      <td>11.0</td>\n",
       "    </tr>\n",
       "    <tr>\n",
       "      <th>13</th>\n",
       "      <td>14</td>\n",
       "      <td>72.5</td>\n",
       "    </tr>\n",
       "    <tr>\n",
       "      <th>14</th>\n",
       "      <td>15</td>\n",
       "      <td>295.5</td>\n",
       "    </tr>\n",
       "    <tr>\n",
       "      <th>15</th>\n",
       "      <td>16</td>\n",
       "      <td>138.0</td>\n",
       "    </tr>\n",
       "    <tr>\n",
       "      <th>16</th>\n",
       "      <td>17</td>\n",
       "      <td>85.5</td>\n",
       "    </tr>\n",
       "    <tr>\n",
       "      <th>17</th>\n",
       "      <td>18</td>\n",
       "      <td>476.5</td>\n",
       "    </tr>\n",
       "    <tr>\n",
       "      <th>18</th>\n",
       "      <td>19</td>\n",
       "      <td>147.5</td>\n",
       "    </tr>\n",
       "    <tr>\n",
       "      <th>19</th>\n",
       "      <td>20</td>\n",
       "      <td>175.0</td>\n",
       "    </tr>\n",
       "    <tr>\n",
       "      <th>20</th>\n",
       "      <td>21</td>\n",
       "      <td>44.5</td>\n",
       "    </tr>\n",
       "    <tr>\n",
       "      <th>21</th>\n",
       "      <td>22</td>\n",
       "      <td>73.0</td>\n",
       "    </tr>\n",
       "    <tr>\n",
       "      <th>22</th>\n",
       "      <td>23</td>\n",
       "      <td>64.5</td>\n",
       "    </tr>\n",
       "    <tr>\n",
       "      <th>23</th>\n",
       "      <td>24</td>\n",
       "      <td>481.0</td>\n",
       "    </tr>\n",
       "    <tr>\n",
       "      <th>24</th>\n",
       "      <td>25</td>\n",
       "      <td>138.0</td>\n",
       "    </tr>\n",
       "    <tr>\n",
       "      <th>25</th>\n",
       "      <td>26</td>\n",
       "      <td>144.0</td>\n",
       "    </tr>\n",
       "    <tr>\n",
       "      <th>26</th>\n",
       "      <td>27</td>\n",
       "      <td>132.5</td>\n",
       "    </tr>\n",
       "    <tr>\n",
       "      <th>27</th>\n",
       "      <td>28</td>\n",
       "      <td>12.5</td>\n",
       "    </tr>\n",
       "    <tr>\n",
       "      <th>28</th>\n",
       "      <td>29</td>\n",
       "      <td>52.0</td>\n",
       "    </tr>\n",
       "    <tr>\n",
       "      <th>29</th>\n",
       "      <td>30</td>\n",
       "      <td>140.0</td>\n",
       "    </tr>\n",
       "    <tr>\n",
       "      <th>...</th>\n",
       "      <td>...</td>\n",
       "      <td>...</td>\n",
       "    </tr>\n",
       "    <tr>\n",
       "      <th>4154774</th>\n",
       "      <td>4154775</td>\n",
       "      <td>827.0</td>\n",
       "    </tr>\n",
       "    <tr>\n",
       "      <th>4154775</th>\n",
       "      <td>4154776</td>\n",
       "      <td>118.0</td>\n",
       "    </tr>\n",
       "    <tr>\n",
       "      <th>4154776</th>\n",
       "      <td>4154777</td>\n",
       "      <td>31.0</td>\n",
       "    </tr>\n",
       "    <tr>\n",
       "      <th>4154777</th>\n",
       "      <td>4154778</td>\n",
       "      <td>57.0</td>\n",
       "    </tr>\n",
       "    <tr>\n",
       "      <th>4154778</th>\n",
       "      <td>4154779</td>\n",
       "      <td>556.0</td>\n",
       "    </tr>\n",
       "    <tr>\n",
       "      <th>4154779</th>\n",
       "      <td>4154780</td>\n",
       "      <td>40.0</td>\n",
       "    </tr>\n",
       "    <tr>\n",
       "      <th>4154780</th>\n",
       "      <td>4154781</td>\n",
       "      <td>137.0</td>\n",
       "    </tr>\n",
       "    <tr>\n",
       "      <th>4154781</th>\n",
       "      <td>4154782</td>\n",
       "      <td>21.0</td>\n",
       "    </tr>\n",
       "    <tr>\n",
       "      <th>4154782</th>\n",
       "      <td>4154783</td>\n",
       "      <td>46.0</td>\n",
       "    </tr>\n",
       "    <tr>\n",
       "      <th>4154783</th>\n",
       "      <td>4154784</td>\n",
       "      <td>310.0</td>\n",
       "    </tr>\n",
       "    <tr>\n",
       "      <th>4154784</th>\n",
       "      <td>4154785</td>\n",
       "      <td>45.0</td>\n",
       "    </tr>\n",
       "    <tr>\n",
       "      <th>4154785</th>\n",
       "      <td>4154786</td>\n",
       "      <td>15.0</td>\n",
       "    </tr>\n",
       "    <tr>\n",
       "      <th>4154786</th>\n",
       "      <td>4154787</td>\n",
       "      <td>50.0</td>\n",
       "    </tr>\n",
       "    <tr>\n",
       "      <th>4154787</th>\n",
       "      <td>4154788</td>\n",
       "      <td>0.0</td>\n",
       "    </tr>\n",
       "    <tr>\n",
       "      <th>4154788</th>\n",
       "      <td>4154789</td>\n",
       "      <td>11.0</td>\n",
       "    </tr>\n",
       "    <tr>\n",
       "      <th>4154789</th>\n",
       "      <td>4154790</td>\n",
       "      <td>95.5</td>\n",
       "    </tr>\n",
       "    <tr>\n",
       "      <th>4154790</th>\n",
       "      <td>4154791</td>\n",
       "      <td>237.0</td>\n",
       "    </tr>\n",
       "    <tr>\n",
       "      <th>4154791</th>\n",
       "      <td>4154792</td>\n",
       "      <td>39.0</td>\n",
       "    </tr>\n",
       "    <tr>\n",
       "      <th>4154792</th>\n",
       "      <td>4154793</td>\n",
       "      <td>511.0</td>\n",
       "    </tr>\n",
       "    <tr>\n",
       "      <th>4154793</th>\n",
       "      <td>4154794</td>\n",
       "      <td>20.5</td>\n",
       "    </tr>\n",
       "    <tr>\n",
       "      <th>4154794</th>\n",
       "      <td>4154795</td>\n",
       "      <td>113.5</td>\n",
       "    </tr>\n",
       "    <tr>\n",
       "      <th>4154795</th>\n",
       "      <td>4154796</td>\n",
       "      <td>29.0</td>\n",
       "    </tr>\n",
       "    <tr>\n",
       "      <th>4154796</th>\n",
       "      <td>4154797</td>\n",
       "      <td>10.0</td>\n",
       "    </tr>\n",
       "    <tr>\n",
       "      <th>4154797</th>\n",
       "      <td>4154798</td>\n",
       "      <td>53.0</td>\n",
       "    </tr>\n",
       "    <tr>\n",
       "      <th>4154798</th>\n",
       "      <td>4154799</td>\n",
       "      <td>210.0</td>\n",
       "    </tr>\n",
       "    <tr>\n",
       "      <th>4154799</th>\n",
       "      <td>4154800</td>\n",
       "      <td>14.0</td>\n",
       "    </tr>\n",
       "    <tr>\n",
       "      <th>4154800</th>\n",
       "      <td>4154801</td>\n",
       "      <td>345.0</td>\n",
       "    </tr>\n",
       "    <tr>\n",
       "      <th>4154801</th>\n",
       "      <td>4154802</td>\n",
       "      <td>130.0</td>\n",
       "    </tr>\n",
       "    <tr>\n",
       "      <th>4154802</th>\n",
       "      <td>4154803</td>\n",
       "      <td>252.0</td>\n",
       "    </tr>\n",
       "    <tr>\n",
       "      <th>4154803</th>\n",
       "      <td>4154804</td>\n",
       "      <td>61.0</td>\n",
       "    </tr>\n",
       "  </tbody>\n",
       "</table>\n",
       "<p>4154804 rows × 2 columns</p>\n",
       "</div>"
      ],
      "text/plain": [
       "              Id  plays\n",
       "0              1   72.5\n",
       "1              2  143.5\n",
       "2              3  207.0\n",
       "3              4  307.0\n",
       "4              5  109.0\n",
       "5              6  124.0\n",
       "6              7  336.0\n",
       "7              8  118.0\n",
       "8              9  443.5\n",
       "9             10  148.0\n",
       "10            11    8.0\n",
       "11            12  287.0\n",
       "12            13   11.0\n",
       "13            14   72.5\n",
       "14            15  295.5\n",
       "15            16  138.0\n",
       "16            17   85.5\n",
       "17            18  476.5\n",
       "18            19  147.5\n",
       "19            20  175.0\n",
       "20            21   44.5\n",
       "21            22   73.0\n",
       "22            23   64.5\n",
       "23            24  481.0\n",
       "24            25  138.0\n",
       "25            26  144.0\n",
       "26            27  132.5\n",
       "27            28   12.5\n",
       "28            29   52.0\n",
       "29            30  140.0\n",
       "...          ...    ...\n",
       "4154774  4154775  827.0\n",
       "4154775  4154776  118.0\n",
       "4154776  4154777   31.0\n",
       "4154777  4154778   57.0\n",
       "4154778  4154779  556.0\n",
       "4154779  4154780   40.0\n",
       "4154780  4154781  137.0\n",
       "4154781  4154782   21.0\n",
       "4154782  4154783   46.0\n",
       "4154783  4154784  310.0\n",
       "4154784  4154785   45.0\n",
       "4154785  4154786   15.0\n",
       "4154786  4154787   50.0\n",
       "4154787  4154788    0.0\n",
       "4154788  4154789   11.0\n",
       "4154789  4154790   95.5\n",
       "4154790  4154791  237.0\n",
       "4154791  4154792   39.0\n",
       "4154792  4154793  511.0\n",
       "4154793  4154794   20.5\n",
       "4154794  4154795  113.5\n",
       "4154795  4154796   29.0\n",
       "4154796  4154797   10.0\n",
       "4154797  4154798   53.0\n",
       "4154798  4154799  210.0\n",
       "4154799  4154800   14.0\n",
       "4154800  4154801  345.0\n",
       "4154801  4154802  130.0\n",
       "4154802  4154803  252.0\n",
       "4154803  4154804   61.0\n",
       "\n",
       "[4154804 rows x 2 columns]"
      ]
     },
     "execution_count": 134,
     "metadata": {},
     "output_type": "execute_result"
    }
   ],
   "source": [
    "solutions"
   ]
  },
  {
   "cell_type": "code",
   "execution_count": 124,
   "metadata": {
    "collapsed": true
   },
   "outputs": [],
   "source": [
    "median_solns = pd.read_csv(user_median_file)"
   ]
  },
  {
   "cell_type": "code",
   "execution_count": 125,
   "metadata": {
    "collapsed": false
   },
   "outputs": [
    {
     "data": {
      "text/html": [
       "<div>\n",
       "<table border=\"1\" class=\"dataframe\">\n",
       "  <thead>\n",
       "    <tr style=\"text-align: right;\">\n",
       "      <th></th>\n",
       "      <th>Id</th>\n",
       "      <th>plays</th>\n",
       "    </tr>\n",
       "  </thead>\n",
       "  <tbody>\n",
       "    <tr>\n",
       "      <th>0</th>\n",
       "      <td>1</td>\n",
       "      <td>72.5</td>\n",
       "    </tr>\n",
       "    <tr>\n",
       "      <th>1</th>\n",
       "      <td>2</td>\n",
       "      <td>143.5</td>\n",
       "    </tr>\n",
       "    <tr>\n",
       "      <th>2</th>\n",
       "      <td>3</td>\n",
       "      <td>207.0</td>\n",
       "    </tr>\n",
       "    <tr>\n",
       "      <th>3</th>\n",
       "      <td>4</td>\n",
       "      <td>307.0</td>\n",
       "    </tr>\n",
       "    <tr>\n",
       "      <th>4</th>\n",
       "      <td>5</td>\n",
       "      <td>109.0</td>\n",
       "    </tr>\n",
       "    <tr>\n",
       "      <th>5</th>\n",
       "      <td>6</td>\n",
       "      <td>124.0</td>\n",
       "    </tr>\n",
       "    <tr>\n",
       "      <th>6</th>\n",
       "      <td>7</td>\n",
       "      <td>336.0</td>\n",
       "    </tr>\n",
       "    <tr>\n",
       "      <th>7</th>\n",
       "      <td>8</td>\n",
       "      <td>118.0</td>\n",
       "    </tr>\n",
       "    <tr>\n",
       "      <th>8</th>\n",
       "      <td>9</td>\n",
       "      <td>443.5</td>\n",
       "    </tr>\n",
       "    <tr>\n",
       "      <th>9</th>\n",
       "      <td>10</td>\n",
       "      <td>148.0</td>\n",
       "    </tr>\n",
       "    <tr>\n",
       "      <th>10</th>\n",
       "      <td>11</td>\n",
       "      <td>8.0</td>\n",
       "    </tr>\n",
       "    <tr>\n",
       "      <th>11</th>\n",
       "      <td>12</td>\n",
       "      <td>287.0</td>\n",
       "    </tr>\n",
       "    <tr>\n",
       "      <th>12</th>\n",
       "      <td>13</td>\n",
       "      <td>11.0</td>\n",
       "    </tr>\n",
       "    <tr>\n",
       "      <th>13</th>\n",
       "      <td>14</td>\n",
       "      <td>72.5</td>\n",
       "    </tr>\n",
       "    <tr>\n",
       "      <th>14</th>\n",
       "      <td>15</td>\n",
       "      <td>295.5</td>\n",
       "    </tr>\n",
       "    <tr>\n",
       "      <th>15</th>\n",
       "      <td>16</td>\n",
       "      <td>138.0</td>\n",
       "    </tr>\n",
       "    <tr>\n",
       "      <th>16</th>\n",
       "      <td>17</td>\n",
       "      <td>85.5</td>\n",
       "    </tr>\n",
       "    <tr>\n",
       "      <th>17</th>\n",
       "      <td>18</td>\n",
       "      <td>476.5</td>\n",
       "    </tr>\n",
       "    <tr>\n",
       "      <th>18</th>\n",
       "      <td>19</td>\n",
       "      <td>147.5</td>\n",
       "    </tr>\n",
       "    <tr>\n",
       "      <th>19</th>\n",
       "      <td>20</td>\n",
       "      <td>175.0</td>\n",
       "    </tr>\n",
       "    <tr>\n",
       "      <th>20</th>\n",
       "      <td>21</td>\n",
       "      <td>44.5</td>\n",
       "    </tr>\n",
       "    <tr>\n",
       "      <th>21</th>\n",
       "      <td>22</td>\n",
       "      <td>73.0</td>\n",
       "    </tr>\n",
       "    <tr>\n",
       "      <th>22</th>\n",
       "      <td>23</td>\n",
       "      <td>64.5</td>\n",
       "    </tr>\n",
       "    <tr>\n",
       "      <th>23</th>\n",
       "      <td>24</td>\n",
       "      <td>481.0</td>\n",
       "    </tr>\n",
       "    <tr>\n",
       "      <th>24</th>\n",
       "      <td>25</td>\n",
       "      <td>138.0</td>\n",
       "    </tr>\n",
       "    <tr>\n",
       "      <th>25</th>\n",
       "      <td>26</td>\n",
       "      <td>144.0</td>\n",
       "    </tr>\n",
       "    <tr>\n",
       "      <th>26</th>\n",
       "      <td>27</td>\n",
       "      <td>132.5</td>\n",
       "    </tr>\n",
       "    <tr>\n",
       "      <th>27</th>\n",
       "      <td>28</td>\n",
       "      <td>12.5</td>\n",
       "    </tr>\n",
       "    <tr>\n",
       "      <th>28</th>\n",
       "      <td>29</td>\n",
       "      <td>52.0</td>\n",
       "    </tr>\n",
       "    <tr>\n",
       "      <th>29</th>\n",
       "      <td>30</td>\n",
       "      <td>140.0</td>\n",
       "    </tr>\n",
       "    <tr>\n",
       "      <th>...</th>\n",
       "      <td>...</td>\n",
       "      <td>...</td>\n",
       "    </tr>\n",
       "    <tr>\n",
       "      <th>4154774</th>\n",
       "      <td>4154775</td>\n",
       "      <td>827.0</td>\n",
       "    </tr>\n",
       "    <tr>\n",
       "      <th>4154775</th>\n",
       "      <td>4154776</td>\n",
       "      <td>118.0</td>\n",
       "    </tr>\n",
       "    <tr>\n",
       "      <th>4154776</th>\n",
       "      <td>4154777</td>\n",
       "      <td>31.0</td>\n",
       "    </tr>\n",
       "    <tr>\n",
       "      <th>4154777</th>\n",
       "      <td>4154778</td>\n",
       "      <td>57.0</td>\n",
       "    </tr>\n",
       "    <tr>\n",
       "      <th>4154778</th>\n",
       "      <td>4154779</td>\n",
       "      <td>556.0</td>\n",
       "    </tr>\n",
       "    <tr>\n",
       "      <th>4154779</th>\n",
       "      <td>4154780</td>\n",
       "      <td>40.0</td>\n",
       "    </tr>\n",
       "    <tr>\n",
       "      <th>4154780</th>\n",
       "      <td>4154781</td>\n",
       "      <td>137.0</td>\n",
       "    </tr>\n",
       "    <tr>\n",
       "      <th>4154781</th>\n",
       "      <td>4154782</td>\n",
       "      <td>21.0</td>\n",
       "    </tr>\n",
       "    <tr>\n",
       "      <th>4154782</th>\n",
       "      <td>4154783</td>\n",
       "      <td>46.0</td>\n",
       "    </tr>\n",
       "    <tr>\n",
       "      <th>4154783</th>\n",
       "      <td>4154784</td>\n",
       "      <td>310.0</td>\n",
       "    </tr>\n",
       "    <tr>\n",
       "      <th>4154784</th>\n",
       "      <td>4154785</td>\n",
       "      <td>45.0</td>\n",
       "    </tr>\n",
       "    <tr>\n",
       "      <th>4154785</th>\n",
       "      <td>4154786</td>\n",
       "      <td>15.0</td>\n",
       "    </tr>\n",
       "    <tr>\n",
       "      <th>4154786</th>\n",
       "      <td>4154787</td>\n",
       "      <td>50.0</td>\n",
       "    </tr>\n",
       "    <tr>\n",
       "      <th>4154787</th>\n",
       "      <td>4154788</td>\n",
       "      <td>15.0</td>\n",
       "    </tr>\n",
       "    <tr>\n",
       "      <th>4154788</th>\n",
       "      <td>4154789</td>\n",
       "      <td>11.0</td>\n",
       "    </tr>\n",
       "    <tr>\n",
       "      <th>4154789</th>\n",
       "      <td>4154790</td>\n",
       "      <td>95.5</td>\n",
       "    </tr>\n",
       "    <tr>\n",
       "      <th>4154790</th>\n",
       "      <td>4154791</td>\n",
       "      <td>237.0</td>\n",
       "    </tr>\n",
       "    <tr>\n",
       "      <th>4154791</th>\n",
       "      <td>4154792</td>\n",
       "      <td>39.0</td>\n",
       "    </tr>\n",
       "    <tr>\n",
       "      <th>4154792</th>\n",
       "      <td>4154793</td>\n",
       "      <td>511.0</td>\n",
       "    </tr>\n",
       "    <tr>\n",
       "      <th>4154793</th>\n",
       "      <td>4154794</td>\n",
       "      <td>20.5</td>\n",
       "    </tr>\n",
       "    <tr>\n",
       "      <th>4154794</th>\n",
       "      <td>4154795</td>\n",
       "      <td>113.5</td>\n",
       "    </tr>\n",
       "    <tr>\n",
       "      <th>4154795</th>\n",
       "      <td>4154796</td>\n",
       "      <td>29.0</td>\n",
       "    </tr>\n",
       "    <tr>\n",
       "      <th>4154796</th>\n",
       "      <td>4154797</td>\n",
       "      <td>10.0</td>\n",
       "    </tr>\n",
       "    <tr>\n",
       "      <th>4154797</th>\n",
       "      <td>4154798</td>\n",
       "      <td>53.0</td>\n",
       "    </tr>\n",
       "    <tr>\n",
       "      <th>4154798</th>\n",
       "      <td>4154799</td>\n",
       "      <td>210.0</td>\n",
       "    </tr>\n",
       "    <tr>\n",
       "      <th>4154799</th>\n",
       "      <td>4154800</td>\n",
       "      <td>14.0</td>\n",
       "    </tr>\n",
       "    <tr>\n",
       "      <th>4154800</th>\n",
       "      <td>4154801</td>\n",
       "      <td>345.0</td>\n",
       "    </tr>\n",
       "    <tr>\n",
       "      <th>4154801</th>\n",
       "      <td>4154802</td>\n",
       "      <td>130.0</td>\n",
       "    </tr>\n",
       "    <tr>\n",
       "      <th>4154802</th>\n",
       "      <td>4154803</td>\n",
       "      <td>252.0</td>\n",
       "    </tr>\n",
       "    <tr>\n",
       "      <th>4154803</th>\n",
       "      <td>4154804</td>\n",
       "      <td>61.0</td>\n",
       "    </tr>\n",
       "  </tbody>\n",
       "</table>\n",
       "<p>4154804 rows × 2 columns</p>\n",
       "</div>"
      ],
      "text/plain": [
       "              Id  plays\n",
       "0              1   72.5\n",
       "1              2  143.5\n",
       "2              3  207.0\n",
       "3              4  307.0\n",
       "4              5  109.0\n",
       "5              6  124.0\n",
       "6              7  336.0\n",
       "7              8  118.0\n",
       "8              9  443.5\n",
       "9             10  148.0\n",
       "10            11    8.0\n",
       "11            12  287.0\n",
       "12            13   11.0\n",
       "13            14   72.5\n",
       "14            15  295.5\n",
       "15            16  138.0\n",
       "16            17   85.5\n",
       "17            18  476.5\n",
       "18            19  147.5\n",
       "19            20  175.0\n",
       "20            21   44.5\n",
       "21            22   73.0\n",
       "22            23   64.5\n",
       "23            24  481.0\n",
       "24            25  138.0\n",
       "25            26  144.0\n",
       "26            27  132.5\n",
       "27            28   12.5\n",
       "28            29   52.0\n",
       "29            30  140.0\n",
       "...          ...    ...\n",
       "4154774  4154775  827.0\n",
       "4154775  4154776  118.0\n",
       "4154776  4154777   31.0\n",
       "4154777  4154778   57.0\n",
       "4154778  4154779  556.0\n",
       "4154779  4154780   40.0\n",
       "4154780  4154781  137.0\n",
       "4154781  4154782   21.0\n",
       "4154782  4154783   46.0\n",
       "4154783  4154784  310.0\n",
       "4154784  4154785   45.0\n",
       "4154785  4154786   15.0\n",
       "4154786  4154787   50.0\n",
       "4154787  4154788   15.0\n",
       "4154788  4154789   11.0\n",
       "4154789  4154790   95.5\n",
       "4154790  4154791  237.0\n",
       "4154791  4154792   39.0\n",
       "4154792  4154793  511.0\n",
       "4154793  4154794   20.5\n",
       "4154794  4154795  113.5\n",
       "4154795  4154796   29.0\n",
       "4154796  4154797   10.0\n",
       "4154797  4154798   53.0\n",
       "4154798  4154799  210.0\n",
       "4154799  4154800   14.0\n",
       "4154800  4154801  345.0\n",
       "4154801  4154802  130.0\n",
       "4154802  4154803  252.0\n",
       "4154803  4154804   61.0\n",
       "\n",
       "[4154804 rows x 2 columns]"
      ]
     },
     "execution_count": 125,
     "metadata": {},
     "output_type": "execute_result"
    }
   ],
   "source": [
    "median_solns"
   ]
  },
  {
   "cell_type": "code",
   "execution_count": 173,
   "metadata": {
    "collapsed": false
   },
   "outputs": [
    {
     "data": {
      "text/plain": [
       "False"
      ]
     },
     "execution_count": 173,
     "metadata": {},
     "output_type": "execute_result"
    }
   ],
   "source": [
    "solutions.equals(median_solns)"
   ]
  },
  {
   "cell_type": "code",
   "execution_count": 146,
   "metadata": {
    "collapsed": false
   },
   "outputs": [
    {
     "data": {
      "text/plain": [
       "172.6629472774167"
      ]
     },
     "execution_count": 146,
     "metadata": {},
     "output_type": "execute_result"
    }
   ],
   "source": [
    "np.mean(solutions['plays'])"
   ]
  },
  {
   "cell_type": "code",
   "execution_count": 147,
   "metadata": {
    "collapsed": false
   },
   "outputs": [
    {
     "data": {
      "text/plain": [
       "173.67259273843"
      ]
     },
     "execution_count": 147,
     "metadata": {},
     "output_type": "execute_result"
    }
   ],
   "source": [
    "np.mean(median_solns['plays'])"
   ]
  },
  {
   "cell_type": "code",
   "execution_count": 202,
   "metadata": {
    "collapsed": false
   },
   "outputs": [
    {
     "data": {
      "text/plain": [
       "166.3279991667477"
      ]
     },
     "execution_count": 202,
     "metadata": {},
     "output_type": "execute_result"
    }
   ],
   "source": [
    "np.mean(solutions['plays'])"
   ]
  },
  {
   "cell_type": "code",
   "execution_count": 210,
   "metadata": {
    "collapsed": false
   },
   "outputs": [
    {
     "data": {
      "text/plain": [
       "183.65755810234847"
      ]
     },
     "execution_count": 210,
     "metadata": {},
     "output_type": "execute_result"
    }
   ],
   "source": [
    "np.mean(solutions['plays'])"
   ]
  },
  {
   "cell_type": "markdown",
   "metadata": {},
   "source": [
    "# Validation"
   ]
  },
  {
   "cell_type": "code",
   "execution_count": 40,
   "metadata": {
    "collapsed": true
   },
   "outputs": [],
   "source": [
    "X_validdf = X_valid"
   ]
  },
  {
   "cell_type": "code",
   "execution_count": 41,
   "metadata": {
    "collapsed": false
   },
   "outputs": [
    {
     "data": {
      "text/html": [
       "<div>\n",
       "<table border=\"1\" class=\"dataframe\">\n",
       "  <thead>\n",
       "    <tr style=\"text-align: right;\">\n",
       "      <th></th>\n",
       "      <th>user</th>\n",
       "      <th>artist</th>\n",
       "      <th>plays</th>\n",
       "    </tr>\n",
       "  </thead>\n",
       "  <tbody>\n",
       "    <tr>\n",
       "      <th>1801118</th>\n",
       "      <td>8733e2c35fe392fc0dd1f668b65db4db78f74415</td>\n",
       "      <td>f181961b-20f7-459e-89de-920ef03c7ed0</td>\n",
       "      <td>12</td>\n",
       "    </tr>\n",
       "    <tr>\n",
       "      <th>266003</th>\n",
       "      <td>60ecc29bc69d0772e1d686ce30eb3fa449e3daff</td>\n",
       "      <td>148ddea2-6839-4354-8e2c-5dfadf136b7f</td>\n",
       "      <td>8</td>\n",
       "    </tr>\n",
       "    <tr>\n",
       "      <th>461155</th>\n",
       "      <td>649df765a64f6fcda204342cddc59de0ef4ee19a</td>\n",
       "      <td>321531fc-db73-4ffa-a959-61a61a2908c1</td>\n",
       "      <td>118</td>\n",
       "    </tr>\n",
       "    <tr>\n",
       "      <th>4121877</th>\n",
       "      <td>34f960c24eb12fa8b77ec9ce7a73dd2d9b360c1f</td>\n",
       "      <td>023d64c9-93db-4a20-8c5c-2efa1a53481a</td>\n",
       "      <td>33</td>\n",
       "    </tr>\n",
       "    <tr>\n",
       "      <th>1348685</th>\n",
       "      <td>ffc74d91ff215686c57d2c9df4af1601f7eca420</td>\n",
       "      <td>d8d1b067-78bb-4db7-8f91-db2ff9a83ee5</td>\n",
       "      <td>567</td>\n",
       "    </tr>\n",
       "  </tbody>\n",
       "</table>\n",
       "</div>"
      ],
      "text/plain": [
       "                                             user  \\\n",
       "1801118  8733e2c35fe392fc0dd1f668b65db4db78f74415   \n",
       "266003   60ecc29bc69d0772e1d686ce30eb3fa449e3daff   \n",
       "461155   649df765a64f6fcda204342cddc59de0ef4ee19a   \n",
       "4121877  34f960c24eb12fa8b77ec9ce7a73dd2d9b360c1f   \n",
       "1348685  ffc74d91ff215686c57d2c9df4af1601f7eca420   \n",
       "\n",
       "                                       artist  plays  \n",
       "1801118  f181961b-20f7-459e-89de-920ef03c7ed0     12  \n",
       "266003   148ddea2-6839-4354-8e2c-5dfadf136b7f      8  \n",
       "461155   321531fc-db73-4ffa-a959-61a61a2908c1    118  \n",
       "4121877  023d64c9-93db-4a20-8c5c-2efa1a53481a     33  \n",
       "1348685  d8d1b067-78bb-4db7-8f91-db2ff9a83ee5    567  "
      ]
     },
     "execution_count": 41,
     "metadata": {},
     "output_type": "execute_result"
    }
   ],
   "source": [
    "X_validdf.head()"
   ]
  },
  {
   "cell_type": "code",
   "execution_count": 42,
   "metadata": {
    "collapsed": false
   },
   "outputs": [
    {
     "data": {
      "text/html": [
       "<div>\n",
       "<table border=\"1\" class=\"dataframe\">\n",
       "  <thead>\n",
       "    <tr style=\"text-align: right;\">\n",
       "      <th></th>\n",
       "      <th>index</th>\n",
       "      <th>user</th>\n",
       "      <th>artist</th>\n",
       "      <th>plays</th>\n",
       "    </tr>\n",
       "  </thead>\n",
       "  <tbody>\n",
       "    <tr>\n",
       "      <th>0</th>\n",
       "      <td>1801118</td>\n",
       "      <td>8733e2c35fe392fc0dd1f668b65db4db78f74415</td>\n",
       "      <td>f181961b-20f7-459e-89de-920ef03c7ed0</td>\n",
       "      <td>12</td>\n",
       "    </tr>\n",
       "    <tr>\n",
       "      <th>1</th>\n",
       "      <td>266003</td>\n",
       "      <td>60ecc29bc69d0772e1d686ce30eb3fa449e3daff</td>\n",
       "      <td>148ddea2-6839-4354-8e2c-5dfadf136b7f</td>\n",
       "      <td>8</td>\n",
       "    </tr>\n",
       "    <tr>\n",
       "      <th>2</th>\n",
       "      <td>461155</td>\n",
       "      <td>649df765a64f6fcda204342cddc59de0ef4ee19a</td>\n",
       "      <td>321531fc-db73-4ffa-a959-61a61a2908c1</td>\n",
       "      <td>118</td>\n",
       "    </tr>\n",
       "    <tr>\n",
       "      <th>3</th>\n",
       "      <td>4121877</td>\n",
       "      <td>34f960c24eb12fa8b77ec9ce7a73dd2d9b360c1f</td>\n",
       "      <td>023d64c9-93db-4a20-8c5c-2efa1a53481a</td>\n",
       "      <td>33</td>\n",
       "    </tr>\n",
       "    <tr>\n",
       "      <th>4</th>\n",
       "      <td>1348685</td>\n",
       "      <td>ffc74d91ff215686c57d2c9df4af1601f7eca420</td>\n",
       "      <td>d8d1b067-78bb-4db7-8f91-db2ff9a83ee5</td>\n",
       "      <td>567</td>\n",
       "    </tr>\n",
       "  </tbody>\n",
       "</table>\n",
       "</div>"
      ],
      "text/plain": [
       "     index                                      user  \\\n",
       "0  1801118  8733e2c35fe392fc0dd1f668b65db4db78f74415   \n",
       "1   266003  60ecc29bc69d0772e1d686ce30eb3fa449e3daff   \n",
       "2   461155  649df765a64f6fcda204342cddc59de0ef4ee19a   \n",
       "3  4121877  34f960c24eb12fa8b77ec9ce7a73dd2d9b360c1f   \n",
       "4  1348685  ffc74d91ff215686c57d2c9df4af1601f7eca420   \n",
       "\n",
       "                                 artist  plays  \n",
       "0  f181961b-20f7-459e-89de-920ef03c7ed0     12  \n",
       "1  148ddea2-6839-4354-8e2c-5dfadf136b7f      8  \n",
       "2  321531fc-db73-4ffa-a959-61a61a2908c1    118  \n",
       "3  023d64c9-93db-4a20-8c5c-2efa1a53481a     33  \n",
       "4  d8d1b067-78bb-4db7-8f91-db2ff9a83ee5    567  "
      ]
     },
     "execution_count": 42,
     "metadata": {},
     "output_type": "execute_result"
    }
   ],
   "source": [
    "X_validdf.reset_index(inplace=True)\n",
    "X_validdf.head()"
   ]
  },
  {
   "cell_type": "code",
   "execution_count": 43,
   "metadata": {
    "collapsed": false
   },
   "outputs": [
    {
     "data": {
      "text/html": [
       "<div>\n",
       "<table border=\"1\" class=\"dataframe\">\n",
       "  <thead>\n",
       "    <tr style=\"text-align: right;\">\n",
       "      <th></th>\n",
       "      <th>user</th>\n",
       "      <th>artist</th>\n",
       "      <th>plays</th>\n",
       "    </tr>\n",
       "  </thead>\n",
       "  <tbody>\n",
       "    <tr>\n",
       "      <th>0</th>\n",
       "      <td>8733e2c35fe392fc0dd1f668b65db4db78f74415</td>\n",
       "      <td>f181961b-20f7-459e-89de-920ef03c7ed0</td>\n",
       "      <td>12</td>\n",
       "    </tr>\n",
       "    <tr>\n",
       "      <th>1</th>\n",
       "      <td>60ecc29bc69d0772e1d686ce30eb3fa449e3daff</td>\n",
       "      <td>148ddea2-6839-4354-8e2c-5dfadf136b7f</td>\n",
       "      <td>8</td>\n",
       "    </tr>\n",
       "    <tr>\n",
       "      <th>2</th>\n",
       "      <td>649df765a64f6fcda204342cddc59de0ef4ee19a</td>\n",
       "      <td>321531fc-db73-4ffa-a959-61a61a2908c1</td>\n",
       "      <td>118</td>\n",
       "    </tr>\n",
       "    <tr>\n",
       "      <th>3</th>\n",
       "      <td>34f960c24eb12fa8b77ec9ce7a73dd2d9b360c1f</td>\n",
       "      <td>023d64c9-93db-4a20-8c5c-2efa1a53481a</td>\n",
       "      <td>33</td>\n",
       "    </tr>\n",
       "    <tr>\n",
       "      <th>4</th>\n",
       "      <td>ffc74d91ff215686c57d2c9df4af1601f7eca420</td>\n",
       "      <td>d8d1b067-78bb-4db7-8f91-db2ff9a83ee5</td>\n",
       "      <td>567</td>\n",
       "    </tr>\n",
       "  </tbody>\n",
       "</table>\n",
       "</div>"
      ],
      "text/plain": [
       "                                       user  \\\n",
       "0  8733e2c35fe392fc0dd1f668b65db4db78f74415   \n",
       "1  60ecc29bc69d0772e1d686ce30eb3fa449e3daff   \n",
       "2  649df765a64f6fcda204342cddc59de0ef4ee19a   \n",
       "3  34f960c24eb12fa8b77ec9ce7a73dd2d9b360c1f   \n",
       "4  ffc74d91ff215686c57d2c9df4af1601f7eca420   \n",
       "\n",
       "                                 artist  plays  \n",
       "0  f181961b-20f7-459e-89de-920ef03c7ed0     12  \n",
       "1  148ddea2-6839-4354-8e2c-5dfadf136b7f      8  \n",
       "2  321531fc-db73-4ffa-a959-61a61a2908c1    118  \n",
       "3  023d64c9-93db-4a20-8c5c-2efa1a53481a     33  \n",
       "4  d8d1b067-78bb-4db7-8f91-db2ff9a83ee5    567  "
      ]
     },
     "execution_count": 43,
     "metadata": {},
     "output_type": "execute_result"
    }
   ],
   "source": [
    "X_validdf = X_validdf.drop('index', 1)\n",
    "#X_validdf = X_validdf.drop('level_0', 1)\n",
    "X_validdf.head()"
   ]
  },
  {
   "cell_type": "code",
   "execution_count": 44,
   "metadata": {
    "collapsed": true
   },
   "outputs": [],
   "source": [
    "X_validdf.to_csv('X_valid.csv')"
   ]
  },
  {
   "cell_type": "code",
   "execution_count": 94,
   "metadata": {
    "collapsed": true
   },
   "outputs": [],
   "source": [
    "#X_validreadtest = pd.read_csv('X_valid.csv')"
   ]
  },
  {
   "cell_type": "code",
   "execution_count": 126,
   "metadata": {
    "collapsed": false
   },
   "outputs": [],
   "source": [
    "soln_file = 'valid_test2.csv'\n",
    "\n",
    "# Write out test solutions.\n",
    "with open('X_valid.csv', 'r') as valid_fh:\n",
    "    valid_csv = csv.reader(valid_fh, delimiter=',', quotechar='\"')\n",
    "    next(valid_csv, None)\n",
    "\n",
    "    with open(soln_file, 'w') as soln_fh:\n",
    "        soln_csv = csv.writer(soln_fh,\n",
    "                              delimiter=',',\n",
    "                              quotechar='\"',\n",
    "                              quoting=csv.QUOTE_MINIMAL)\n",
    "        soln_csv.writerow(['Id', 'artist_median', 'cluster_median', 'prediction', 'median', 'true'])\n",
    "\n",
    "        for row in valid_csv:\n",
    "            id     = row[0]\n",
    "            user   = row[1]\n",
    "            artist = row[2]\n",
    "            true   = row[3]\n",
    "\n",
    "            if user in user_medians:\n",
    "                try:\n",
    "                    label = Xuser_labels[user]\n",
    "                    artist_median = Xgroup_medians_dict[label][artist]\n",
    "                    cluster_median = Xlabel_medians[label]\n",
    "                    ratio = artist_median/cluster_median\n",
    "                    if (ratio < 0.5) or (ratio > 2):\n",
    "                        prediction = user_medians[user]*(artist_median/cluster_median)\n",
    "                        #prediction = np.mean([user_medians[user],artist_median])\n",
    "                    else:\n",
    "                        prediction = user_medians[user]\n",
    "                    soln_csv.writerow([id, artist_median, cluster_median, prediction, user_medians[user], true])\n",
    "                except:\n",
    "                    soln_csv.writerow([id, artist_median, cluster_median, 0, user_medians[user], true]) # if the artist isn't in the user's cluster, assume 0 plays\n",
    "            else:\n",
    "                soln_csv.writerow([id, artist_median, cluster_median, global_median, user_medians[user], true])"
   ]
  },
  {
   "cell_type": "code",
   "execution_count": 127,
   "metadata": {
    "collapsed": true
   },
   "outputs": [],
   "source": [
    "validations = pd.read_csv(soln_file)"
   ]
  },
  {
   "cell_type": "code",
   "execution_count": 128,
   "metadata": {
    "collapsed": false
   },
   "outputs": [
    {
     "data": {
      "text/html": [
       "<div>\n",
       "<table border=\"1\" class=\"dataframe\">\n",
       "  <thead>\n",
       "    <tr style=\"text-align: right;\">\n",
       "      <th></th>\n",
       "      <th>Id</th>\n",
       "      <th>artist_median</th>\n",
       "      <th>cluster_median</th>\n",
       "      <th>prediction</th>\n",
       "      <th>median</th>\n",
       "      <th>true</th>\n",
       "    </tr>\n",
       "  </thead>\n",
       "  <tbody>\n",
       "    <tr>\n",
       "      <th>0</th>\n",
       "      <td>0</td>\n",
       "      <td>46.5</td>\n",
       "      <td>46</td>\n",
       "      <td>15.000000</td>\n",
       "      <td>15.0</td>\n",
       "      <td>12</td>\n",
       "    </tr>\n",
       "    <tr>\n",
       "      <th>1</th>\n",
       "      <td>1</td>\n",
       "      <td>58.0</td>\n",
       "      <td>54</td>\n",
       "      <td>21.000000</td>\n",
       "      <td>21.0</td>\n",
       "      <td>8</td>\n",
       "    </tr>\n",
       "    <tr>\n",
       "      <th>2</th>\n",
       "      <td>2</td>\n",
       "      <td>194.0</td>\n",
       "      <td>240</td>\n",
       "      <td>146.000000</td>\n",
       "      <td>146.0</td>\n",
       "      <td>118</td>\n",
       "    </tr>\n",
       "    <tr>\n",
       "      <th>3</th>\n",
       "      <td>3</td>\n",
       "      <td>44.0</td>\n",
       "      <td>41</td>\n",
       "      <td>35.500000</td>\n",
       "      <td>35.5</td>\n",
       "      <td>33</td>\n",
       "    </tr>\n",
       "    <tr>\n",
       "      <th>4</th>\n",
       "      <td>4</td>\n",
       "      <td>312.0</td>\n",
       "      <td>240</td>\n",
       "      <td>543.500000</td>\n",
       "      <td>543.5</td>\n",
       "      <td>567</td>\n",
       "    </tr>\n",
       "    <tr>\n",
       "      <th>5</th>\n",
       "      <td>5</td>\n",
       "      <td>71.0</td>\n",
       "      <td>54</td>\n",
       "      <td>21.000000</td>\n",
       "      <td>21.0</td>\n",
       "      <td>161</td>\n",
       "    </tr>\n",
       "    <tr>\n",
       "      <th>6</th>\n",
       "      <td>6</td>\n",
       "      <td>77.5</td>\n",
       "      <td>57</td>\n",
       "      <td>13.000000</td>\n",
       "      <td>13.0</td>\n",
       "      <td>14</td>\n",
       "    </tr>\n",
       "    <tr>\n",
       "      <th>7</th>\n",
       "      <td>7</td>\n",
       "      <td>58.0</td>\n",
       "      <td>66</td>\n",
       "      <td>28.000000</td>\n",
       "      <td>28.0</td>\n",
       "      <td>28</td>\n",
       "    </tr>\n",
       "    <tr>\n",
       "      <th>8</th>\n",
       "      <td>8</td>\n",
       "      <td>50.5</td>\n",
       "      <td>54</td>\n",
       "      <td>258.500000</td>\n",
       "      <td>258.5</td>\n",
       "      <td>283</td>\n",
       "    </tr>\n",
       "    <tr>\n",
       "      <th>9</th>\n",
       "      <td>9</td>\n",
       "      <td>86.0</td>\n",
       "      <td>54</td>\n",
       "      <td>60.000000</td>\n",
       "      <td>60.0</td>\n",
       "      <td>23</td>\n",
       "    </tr>\n",
       "    <tr>\n",
       "      <th>10</th>\n",
       "      <td>10</td>\n",
       "      <td>88.5</td>\n",
       "      <td>69</td>\n",
       "      <td>138.000000</td>\n",
       "      <td>138.0</td>\n",
       "      <td>93</td>\n",
       "    </tr>\n",
       "    <tr>\n",
       "      <th>11</th>\n",
       "      <td>11</td>\n",
       "      <td>247.0</td>\n",
       "      <td>240</td>\n",
       "      <td>880.000000</td>\n",
       "      <td>880.0</td>\n",
       "      <td>579</td>\n",
       "    </tr>\n",
       "    <tr>\n",
       "      <th>12</th>\n",
       "      <td>12</td>\n",
       "      <td>309.0</td>\n",
       "      <td>240</td>\n",
       "      <td>123.000000</td>\n",
       "      <td>123.0</td>\n",
       "      <td>43</td>\n",
       "    </tr>\n",
       "    <tr>\n",
       "      <th>13</th>\n",
       "      <td>13</td>\n",
       "      <td>47.5</td>\n",
       "      <td>54</td>\n",
       "      <td>36.000000</td>\n",
       "      <td>36.0</td>\n",
       "      <td>69</td>\n",
       "    </tr>\n",
       "    <tr>\n",
       "      <th>14</th>\n",
       "      <td>14</td>\n",
       "      <td>182.0</td>\n",
       "      <td>240</td>\n",
       "      <td>390.000000</td>\n",
       "      <td>390.0</td>\n",
       "      <td>192</td>\n",
       "    </tr>\n",
       "    <tr>\n",
       "      <th>15</th>\n",
       "      <td>15</td>\n",
       "      <td>26.0</td>\n",
       "      <td>54</td>\n",
       "      <td>101.592593</td>\n",
       "      <td>211.0</td>\n",
       "      <td>130</td>\n",
       "    </tr>\n",
       "    <tr>\n",
       "      <th>16</th>\n",
       "      <td>16</td>\n",
       "      <td>225.0</td>\n",
       "      <td>240</td>\n",
       "      <td>812.500000</td>\n",
       "      <td>812.5</td>\n",
       "      <td>924</td>\n",
       "    </tr>\n",
       "    <tr>\n",
       "      <th>17</th>\n",
       "      <td>17</td>\n",
       "      <td>201.0</td>\n",
       "      <td>240</td>\n",
       "      <td>336.000000</td>\n",
       "      <td>336.0</td>\n",
       "      <td>235</td>\n",
       "    </tr>\n",
       "    <tr>\n",
       "      <th>18</th>\n",
       "      <td>18</td>\n",
       "      <td>276.0</td>\n",
       "      <td>240</td>\n",
       "      <td>127.000000</td>\n",
       "      <td>127.0</td>\n",
       "      <td>411</td>\n",
       "    </tr>\n",
       "    <tr>\n",
       "      <th>19</th>\n",
       "      <td>19</td>\n",
       "      <td>30.0</td>\n",
       "      <td>54</td>\n",
       "      <td>21.000000</td>\n",
       "      <td>21.0</td>\n",
       "      <td>29</td>\n",
       "    </tr>\n",
       "    <tr>\n",
       "      <th>20</th>\n",
       "      <td>20</td>\n",
       "      <td>288.0</td>\n",
       "      <td>240</td>\n",
       "      <td>323.000000</td>\n",
       "      <td>323.0</td>\n",
       "      <td>375</td>\n",
       "    </tr>\n",
       "    <tr>\n",
       "      <th>21</th>\n",
       "      <td>21</td>\n",
       "      <td>322.0</td>\n",
       "      <td>240</td>\n",
       "      <td>289.000000</td>\n",
       "      <td>289.0</td>\n",
       "      <td>424</td>\n",
       "    </tr>\n",
       "    <tr>\n",
       "      <th>22</th>\n",
       "      <td>22</td>\n",
       "      <td>224.0</td>\n",
       "      <td>240</td>\n",
       "      <td>267.500000</td>\n",
       "      <td>267.5</td>\n",
       "      <td>175</td>\n",
       "    </tr>\n",
       "    <tr>\n",
       "      <th>23</th>\n",
       "      <td>23</td>\n",
       "      <td>261.0</td>\n",
       "      <td>240</td>\n",
       "      <td>61.500000</td>\n",
       "      <td>61.5</td>\n",
       "      <td>25</td>\n",
       "    </tr>\n",
       "    <tr>\n",
       "      <th>24</th>\n",
       "      <td>24</td>\n",
       "      <td>60.0</td>\n",
       "      <td>54</td>\n",
       "      <td>32.000000</td>\n",
       "      <td>32.0</td>\n",
       "      <td>22</td>\n",
       "    </tr>\n",
       "    <tr>\n",
       "      <th>25</th>\n",
       "      <td>25</td>\n",
       "      <td>219.0</td>\n",
       "      <td>240</td>\n",
       "      <td>119.000000</td>\n",
       "      <td>119.0</td>\n",
       "      <td>175</td>\n",
       "    </tr>\n",
       "    <tr>\n",
       "      <th>26</th>\n",
       "      <td>26</td>\n",
       "      <td>52.5</td>\n",
       "      <td>46</td>\n",
       "      <td>47.000000</td>\n",
       "      <td>47.0</td>\n",
       "      <td>63</td>\n",
       "    </tr>\n",
       "    <tr>\n",
       "      <th>27</th>\n",
       "      <td>27</td>\n",
       "      <td>205.0</td>\n",
       "      <td>240</td>\n",
       "      <td>359.000000</td>\n",
       "      <td>359.0</td>\n",
       "      <td>160</td>\n",
       "    </tr>\n",
       "    <tr>\n",
       "      <th>28</th>\n",
       "      <td>28</td>\n",
       "      <td>254.0</td>\n",
       "      <td>240</td>\n",
       "      <td>356.000000</td>\n",
       "      <td>356.0</td>\n",
       "      <td>198</td>\n",
       "    </tr>\n",
       "    <tr>\n",
       "      <th>29</th>\n",
       "      <td>29</td>\n",
       "      <td>38.5</td>\n",
       "      <td>46</td>\n",
       "      <td>100.000000</td>\n",
       "      <td>100.0</td>\n",
       "      <td>113</td>\n",
       "    </tr>\n",
       "    <tr>\n",
       "      <th>30</th>\n",
       "      <td>30</td>\n",
       "      <td>146.0</td>\n",
       "      <td>240</td>\n",
       "      <td>351.000000</td>\n",
       "      <td>351.0</td>\n",
       "      <td>257</td>\n",
       "    </tr>\n",
       "    <tr>\n",
       "      <th>31</th>\n",
       "      <td>31</td>\n",
       "      <td>61.5</td>\n",
       "      <td>46</td>\n",
       "      <td>26.000000</td>\n",
       "      <td>26.0</td>\n",
       "      <td>11</td>\n",
       "    </tr>\n",
       "    <tr>\n",
       "      <th>32</th>\n",
       "      <td>32</td>\n",
       "      <td>347.0</td>\n",
       "      <td>240</td>\n",
       "      <td>124.000000</td>\n",
       "      <td>124.0</td>\n",
       "      <td>130</td>\n",
       "    </tr>\n",
       "    <tr>\n",
       "      <th>33</th>\n",
       "      <td>33</td>\n",
       "      <td>49.0</td>\n",
       "      <td>46</td>\n",
       "      <td>7.000000</td>\n",
       "      <td>7.0</td>\n",
       "      <td>11</td>\n",
       "    </tr>\n",
       "    <tr>\n",
       "      <th>34</th>\n",
       "      <td>34</td>\n",
       "      <td>275.5</td>\n",
       "      <td>240</td>\n",
       "      <td>350.500000</td>\n",
       "      <td>350.5</td>\n",
       "      <td>1358</td>\n",
       "    </tr>\n",
       "    <tr>\n",
       "      <th>35</th>\n",
       "      <td>35</td>\n",
       "      <td>73.0</td>\n",
       "      <td>56</td>\n",
       "      <td>38.000000</td>\n",
       "      <td>38.0</td>\n",
       "      <td>63</td>\n",
       "    </tr>\n",
       "    <tr>\n",
       "      <th>36</th>\n",
       "      <td>36</td>\n",
       "      <td>109.0</td>\n",
       "      <td>69</td>\n",
       "      <td>121.000000</td>\n",
       "      <td>121.0</td>\n",
       "      <td>173</td>\n",
       "    </tr>\n",
       "    <tr>\n",
       "      <th>37</th>\n",
       "      <td>37</td>\n",
       "      <td>94.0</td>\n",
       "      <td>54</td>\n",
       "      <td>50.000000</td>\n",
       "      <td>50.0</td>\n",
       "      <td>27</td>\n",
       "    </tr>\n",
       "    <tr>\n",
       "      <th>38</th>\n",
       "      <td>38</td>\n",
       "      <td>43.0</td>\n",
       "      <td>46</td>\n",
       "      <td>34.000000</td>\n",
       "      <td>34.0</td>\n",
       "      <td>62</td>\n",
       "    </tr>\n",
       "    <tr>\n",
       "      <th>39</th>\n",
       "      <td>39</td>\n",
       "      <td>170.0</td>\n",
       "      <td>240</td>\n",
       "      <td>184.000000</td>\n",
       "      <td>184.0</td>\n",
       "      <td>102</td>\n",
       "    </tr>\n",
       "    <tr>\n",
       "      <th>40</th>\n",
       "      <td>40</td>\n",
       "      <td>233.0</td>\n",
       "      <td>240</td>\n",
       "      <td>77.500000</td>\n",
       "      <td>77.5</td>\n",
       "      <td>140</td>\n",
       "    </tr>\n",
       "    <tr>\n",
       "      <th>41</th>\n",
       "      <td>41</td>\n",
       "      <td>50.0</td>\n",
       "      <td>54</td>\n",
       "      <td>107.000000</td>\n",
       "      <td>107.0</td>\n",
       "      <td>71</td>\n",
       "    </tr>\n",
       "    <tr>\n",
       "      <th>42</th>\n",
       "      <td>42</td>\n",
       "      <td>42.0</td>\n",
       "      <td>46</td>\n",
       "      <td>91.000000</td>\n",
       "      <td>91.0</td>\n",
       "      <td>56</td>\n",
       "    </tr>\n",
       "    <tr>\n",
       "      <th>43</th>\n",
       "      <td>43</td>\n",
       "      <td>160.5</td>\n",
       "      <td>240</td>\n",
       "      <td>75.500000</td>\n",
       "      <td>75.5</td>\n",
       "      <td>74</td>\n",
       "    </tr>\n",
       "    <tr>\n",
       "      <th>44</th>\n",
       "      <td>44</td>\n",
       "      <td>82.5</td>\n",
       "      <td>69</td>\n",
       "      <td>164.500000</td>\n",
       "      <td>164.5</td>\n",
       "      <td>148</td>\n",
       "    </tr>\n",
       "    <tr>\n",
       "      <th>45</th>\n",
       "      <td>45</td>\n",
       "      <td>258.0</td>\n",
       "      <td>240</td>\n",
       "      <td>203.000000</td>\n",
       "      <td>203.0</td>\n",
       "      <td>402</td>\n",
       "    </tr>\n",
       "    <tr>\n",
       "      <th>46</th>\n",
       "      <td>46</td>\n",
       "      <td>287.0</td>\n",
       "      <td>240</td>\n",
       "      <td>466.000000</td>\n",
       "      <td>466.0</td>\n",
       "      <td>393</td>\n",
       "    </tr>\n",
       "    <tr>\n",
       "      <th>47</th>\n",
       "      <td>47</td>\n",
       "      <td>221.0</td>\n",
       "      <td>240</td>\n",
       "      <td>89.500000</td>\n",
       "      <td>89.5</td>\n",
       "      <td>56</td>\n",
       "    </tr>\n",
       "    <tr>\n",
       "      <th>48</th>\n",
       "      <td>48</td>\n",
       "      <td>72.0</td>\n",
       "      <td>54</td>\n",
       "      <td>83.000000</td>\n",
       "      <td>83.0</td>\n",
       "      <td>54</td>\n",
       "    </tr>\n",
       "    <tr>\n",
       "      <th>49</th>\n",
       "      <td>49</td>\n",
       "      <td>225.5</td>\n",
       "      <td>240</td>\n",
       "      <td>386.000000</td>\n",
       "      <td>386.0</td>\n",
       "      <td>500</td>\n",
       "    </tr>\n",
       "  </tbody>\n",
       "</table>\n",
       "</div>"
      ],
      "text/plain": [
       "    Id  artist_median  cluster_median  prediction  median  true\n",
       "0    0           46.5              46   15.000000    15.0    12\n",
       "1    1           58.0              54   21.000000    21.0     8\n",
       "2    2          194.0             240  146.000000   146.0   118\n",
       "3    3           44.0              41   35.500000    35.5    33\n",
       "4    4          312.0             240  543.500000   543.5   567\n",
       "5    5           71.0              54   21.000000    21.0   161\n",
       "6    6           77.5              57   13.000000    13.0    14\n",
       "7    7           58.0              66   28.000000    28.0    28\n",
       "8    8           50.5              54  258.500000   258.5   283\n",
       "9    9           86.0              54   60.000000    60.0    23\n",
       "10  10           88.5              69  138.000000   138.0    93\n",
       "11  11          247.0             240  880.000000   880.0   579\n",
       "12  12          309.0             240  123.000000   123.0    43\n",
       "13  13           47.5              54   36.000000    36.0    69\n",
       "14  14          182.0             240  390.000000   390.0   192\n",
       "15  15           26.0              54  101.592593   211.0   130\n",
       "16  16          225.0             240  812.500000   812.5   924\n",
       "17  17          201.0             240  336.000000   336.0   235\n",
       "18  18          276.0             240  127.000000   127.0   411\n",
       "19  19           30.0              54   21.000000    21.0    29\n",
       "20  20          288.0             240  323.000000   323.0   375\n",
       "21  21          322.0             240  289.000000   289.0   424\n",
       "22  22          224.0             240  267.500000   267.5   175\n",
       "23  23          261.0             240   61.500000    61.5    25\n",
       "24  24           60.0              54   32.000000    32.0    22\n",
       "25  25          219.0             240  119.000000   119.0   175\n",
       "26  26           52.5              46   47.000000    47.0    63\n",
       "27  27          205.0             240  359.000000   359.0   160\n",
       "28  28          254.0             240  356.000000   356.0   198\n",
       "29  29           38.5              46  100.000000   100.0   113\n",
       "30  30          146.0             240  351.000000   351.0   257\n",
       "31  31           61.5              46   26.000000    26.0    11\n",
       "32  32          347.0             240  124.000000   124.0   130\n",
       "33  33           49.0              46    7.000000     7.0    11\n",
       "34  34          275.5             240  350.500000   350.5  1358\n",
       "35  35           73.0              56   38.000000    38.0    63\n",
       "36  36          109.0              69  121.000000   121.0   173\n",
       "37  37           94.0              54   50.000000    50.0    27\n",
       "38  38           43.0              46   34.000000    34.0    62\n",
       "39  39          170.0             240  184.000000   184.0   102\n",
       "40  40          233.0             240   77.500000    77.5   140\n",
       "41  41           50.0              54  107.000000   107.0    71\n",
       "42  42           42.0              46   91.000000    91.0    56\n",
       "43  43          160.5             240   75.500000    75.5    74\n",
       "44  44           82.5              69  164.500000   164.5   148\n",
       "45  45          258.0             240  203.000000   203.0   402\n",
       "46  46          287.0             240  466.000000   466.0   393\n",
       "47  47          221.0             240   89.500000    89.5    56\n",
       "48  48           72.0              54   83.000000    83.0    54\n",
       "49  49          225.5             240  386.000000   386.0   500"
      ]
     },
     "execution_count": 128,
     "metadata": {},
     "output_type": "execute_result"
    }
   ],
   "source": [
    "validations.head(50)"
   ]
  },
  {
   "cell_type": "code",
   "execution_count": 101,
   "metadata": {
    "collapsed": false
   },
   "outputs": [
    {
     "data": {
      "text/plain": [
       "count    1246442.000000\n",
       "mean         252.375287\n",
       "std          632.118485\n",
       "min            1.000000\n",
       "25%           48.000000\n",
       "50%          118.000000\n",
       "75%          264.000000\n",
       "max       179843.000000\n",
       "Name: true, dtype: float64"
      ]
     },
     "execution_count": 101,
     "metadata": {},
     "output_type": "execute_result"
    }
   ],
   "source": [
    "validations['true'].describe()"
   ]
  },
  {
   "cell_type": "code",
   "execution_count": 102,
   "metadata": {
    "collapsed": false
   },
   "outputs": [
    {
     "data": {
      "text/plain": [
       "count    1246442.000000\n",
       "mean         173.084586\n",
       "std          220.751441\n",
       "min            1.000000\n",
       "25%           48.000000\n",
       "50%          109.000000\n",
       "75%          218.000000\n",
       "max        11236.000000\n",
       "Name: median, dtype: float64"
      ]
     },
     "execution_count": 102,
     "metadata": {},
     "output_type": "execute_result"
    }
   ],
   "source": [
    "validations['median'].describe()"
   ]
  },
  {
   "cell_type": "code",
   "execution_count": 103,
   "metadata": {
    "collapsed": false
   },
   "outputs": [
    {
     "data": {
      "text/plain": [
       "count    1246442.000000\n",
       "mean         146.253624\n",
       "std          101.959905\n",
       "min            1.000000\n",
       "25%           54.000000\n",
       "50%           89.000000\n",
       "75%          240.000000\n",
       "max         3188.000000\n",
       "Name: artist_median, dtype: float64"
      ]
     },
     "execution_count": 103,
     "metadata": {},
     "output_type": "execute_result"
    }
   ],
   "source": [
    "validations['artist_median'].describe()"
   ]
  },
  {
   "cell_type": "code",
   "execution_count": 104,
   "metadata": {
    "collapsed": false
   },
   "outputs": [
    {
     "data": {
      "text/plain": [
       "count    1246442.000000\n",
       "mean         140.783558\n",
       "std           92.617971\n",
       "min           14.000000\n",
       "25%           54.000000\n",
       "50%           69.000000\n",
       "75%          240.000000\n",
       "max          305.000000\n",
       "Name: cluster_median, dtype: float64"
      ]
     },
     "execution_count": 104,
     "metadata": {},
     "output_type": "execute_result"
    }
   ],
   "source": [
    "validations['cluster_median'].describe()"
   ]
  },
  {
   "cell_type": "code",
   "execution_count": 95,
   "metadata": {
    "collapsed": true
   },
   "outputs": [],
   "source": [
    "%matplotlib inline\n",
    "import matplotlib.pyplot as plt"
   ]
  },
  {
   "cell_type": "code",
   "execution_count": 100,
   "metadata": {
    "collapsed": false
   },
   "outputs": [
    {
     "data": {
      "image/png": "[encoded data removed]",
      "text/plain": [
       "<matplotlib.figure.Figure at 0x278a2d250>"
      ]
     },
     "metadata": {},
     "output_type": "display_data"
    }
   ],
   "source": [
    "plt.plot(range(len(validations)), validations['true'], alpha=0.5, color='blue')\n",
    "plt.plot(range(len(validations)), validations['artist_median'], alpha=0.5, color='red')\n",
    "plt.plot(range(len(validations)), validations['cluster_median'], alpha=0.5, color='green')\n",
    "plt.show()"
   ]
  },
  {
   "cell_type": "code",
   "execution_count": 129,
   "metadata": {
    "collapsed": false
   },
   "outputs": [],
   "source": [
    "validations['diff'] = abs(validations['true']-validations['prediction'])"
   ]
  },
  {
   "cell_type": "code",
   "execution_count": 130,
   "metadata": {
    "collapsed": false
   },
   "outputs": [],
   "source": [
    "diff_sum = np.sum(validations['diff'])"
   ]
  },
  {
   "cell_type": "code",
   "execution_count": 131,
   "metadata": {
    "collapsed": false
   },
   "outputs": [
    {
     "data": {
      "text/plain": [
       "129.7633769475384"
      ]
     },
     "execution_count": 131,
     "metadata": {},
     "output_type": "execute_result"
    }
   ],
   "source": [
    "diff_sum/validations.shape[0]"
   ]
  },
  {
   "cell_type": "code",
   "execution_count": 86,
   "metadata": {
    "collapsed": false
   },
   "outputs": [
    {
     "data": {
      "text/plain": [
       "129.7633769475384"
      ]
     },
     "execution_count": 86,
     "metadata": {},
     "output_type": "execute_result"
    }
   ],
   "source": [
    "diff_sum/validations.shape[0]"
   ]
  },
  {
   "cell_type": "code",
   "execution_count": 79,
   "metadata": {
    "collapsed": false
   },
   "outputs": [
    {
     "data": {
      "text/plain": [
       "142.0101194038712"
      ]
     },
     "execution_count": 79,
     "metadata": {},
     "output_type": "execute_result"
    }
   ],
   "source": [
    "diff_sum/validations.shape[0]"
   ]
  },
  {
   "cell_type": "code",
   "execution_count": 71,
   "metadata": {
    "collapsed": false
   },
   "outputs": [
    {
     "data": {
      "text/plain": [
       "131.4680875430356"
      ]
     },
     "execution_count": 71,
     "metadata": {},
     "output_type": "execute_result"
    }
   ],
   "source": [
    "diff_sum/validations.shape[0]"
   ]
  },
  {
   "cell_type": "code",
   "execution_count": 80,
   "metadata": {
    "collapsed": false
   },
   "outputs": [
    {
     "data": {
      "text/plain": [
       "128.64863507487712"
      ]
     },
     "execution_count": 80,
     "metadata": {},
     "output_type": "execute_result"
    }
   ],
   "source": [
    "validations['meddiff'] = abs(validations['true']-validations['median'])\n",
    "diff_sum = np.sum(validations['meddiff'])\n",
    "diff_sum/validations.shape[0]"
   ]
  },
  {
   "cell_type": "code",
   "execution_count": null,
   "metadata": {
    "collapsed": true
   },
   "outputs": [],
   "source": []
  }
 ],
 "metadata": {
  "kernelspec": {
   "display_name": "Python 2",
   "language": "python",
   "name": "python2"
  },
  "language_info": {
   "codemirror_mode": {
    "name": "ipython",
    "version": 2
   },
   "file_extension": ".py",
   "mimetype": "text/x-python",
   "name": "python",
   "nbconvert_exporter": "python",
   "pygments_lexer": "ipython2",
   "version": "2.7.10"
  }
 },
 "nbformat": 4,
 "nbformat_minor": 0
}
